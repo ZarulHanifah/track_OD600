{
 "cells": [
  {
   "cell_type": "code",
   "execution_count": 45,
   "id": "1581a823-6576-4bbf-b84d-7cf8b16b66d6",
   "metadata": {},
   "outputs": [],
   "source": [
    "import os\n",
    "import pandas as pd\n",
    "import itertools\n",
    "from datetime import datetime\n",
    "import plotly.express as px"
   ]
  },
  {
   "cell_type": "code",
   "execution_count": 2,
   "id": "2075a1e4-212d-4105-8c25-665482e4bfb9",
   "metadata": {},
   "outputs": [],
   "source": [
    "def read_raw_table(table_path):\n",
    "    r = pd.read_excel(table_path, skiprows = 28, index_col = 0)\n",
    "    \n",
    "    df = r.loc[['A', 'B', 'C', 'D', 'E', 'F', 'G', 'H'], :]\n",
    "    df.index.name = None\n",
    "    \n",
    "    t = r.loc[\"End Time:\", 1]\n",
    "    t = datetime_object = datetime.strptime(t, '%d/%m/%Y %H:%M:%S')\n",
    "    \n",
    "    return df, t"
   ]
  },
  {
   "cell_type": "code",
   "execution_count": 3,
   "id": "e03fa4dd-bfcf-4327-ae6b-57d25f7700f0",
   "metadata": {},
   "outputs": [],
   "source": [
    "wells = [f\"{i[1]}{i[0]}\" for i in itertools.product(range(1, 13), ['A', 'B', 'C', 'D', 'E', 'F', 'G', 'H'])]"
   ]
  },
  {
   "cell_type": "code",
   "execution_count": 48,
   "id": "4c12fb53-e82b-44c2-b660-a4ba162f60dd",
   "metadata": {},
   "outputs": [
    {
     "data": {
      "application/vnd.plotly.v1+json": {
       "config": {
        "plotlyServerURL": "https://plot.ly"
       },
       "data": [
        {
         "hovertemplate": "well=A1<br>datetime=%{x}<br>abs=%{y}<extra></extra>",
         "legendgroup": "A1",
         "line": {
          "color": "#636efa",
          "dash": "solid"
         },
         "marker": {
          "symbol": "circle"
         },
         "mode": "lines",
         "name": "A1",
         "orientation": "v",
         "showlegend": true,
         "type": "scatter",
         "x": [
          "2023-07-06 19:54:11",
          "2023-07-07 09:53:08",
          "2023-07-07 16:06:22",
          "2023-07-07 16:10:56",
          "2023-07-08 17:58:02"
         ],
         "xaxis": "x",
         "y": [
          0.13910000026226044,
          0.3806000053882599,
          0.40380001068115234,
          0.349700003862381,
          0.6754999756813049
         ],
         "yaxis": "y"
        },
        {
         "hovertemplate": "well=B1<br>datetime=%{x}<br>abs=%{y}<extra></extra>",
         "legendgroup": "B1",
         "line": {
          "color": "#EF553B",
          "dash": "solid"
         },
         "marker": {
          "symbol": "circle"
         },
         "mode": "lines",
         "name": "B1",
         "orientation": "v",
         "showlegend": true,
         "type": "scatter",
         "x": [
          "2023-07-06 19:54:11",
          "2023-07-07 09:53:08",
          "2023-07-07 16:06:22",
          "2023-07-07 16:10:56",
          "2023-07-08 17:58:02"
         ],
         "xaxis": "x",
         "y": [
          0.15139999985694885,
          0.760200023651123,
          0.7735999822616577,
          0.28139999508857727,
          0.5615000128746033
         ],
         "yaxis": "y"
        },
        {
         "hovertemplate": "well=C1<br>datetime=%{x}<br>abs=%{y}<extra></extra>",
         "legendgroup": "C1",
         "line": {
          "color": "#00cc96",
          "dash": "solid"
         },
         "marker": {
          "symbol": "circle"
         },
         "mode": "lines",
         "name": "C1",
         "orientation": "v",
         "showlegend": true,
         "type": "scatter",
         "x": [
          "2023-07-06 19:54:11",
          "2023-07-07 09:53:08",
          "2023-07-07 16:06:22",
          "2023-07-07 16:10:56",
          "2023-07-08 17:58:02"
         ],
         "xaxis": "x",
         "y": [
          0.15549999475479126,
          0.7057999968528748,
          0.7915999889373779,
          0.3416999876499176,
          0.4090999960899353
         ],
         "yaxis": "y"
        },
        {
         "hovertemplate": "well=D1<br>datetime=%{x}<br>abs=%{y}<extra></extra>",
         "legendgroup": "D1",
         "line": {
          "color": "#ab63fa",
          "dash": "solid"
         },
         "marker": {
          "symbol": "circle"
         },
         "mode": "lines",
         "name": "D1",
         "orientation": "v",
         "showlegend": true,
         "type": "scatter",
         "x": [
          "2023-07-06 19:54:11",
          "2023-07-07 09:53:08",
          "2023-07-07 16:06:22",
          "2023-07-07 16:10:56",
          "2023-07-08 17:58:02"
         ],
         "xaxis": "x",
         "y": [
          0.16030000150203705,
          0.9350000023841858,
          0.9670000076293945,
          0.31949999928474426,
          0.40700000524520874
         ],
         "yaxis": "y"
        },
        {
         "hovertemplate": "well=E1<br>datetime=%{x}<br>abs=%{y}<extra></extra>",
         "legendgroup": "E1",
         "line": {
          "color": "#FFA15A",
          "dash": "solid"
         },
         "marker": {
          "symbol": "circle"
         },
         "mode": "lines",
         "name": "E1",
         "orientation": "v",
         "showlegend": true,
         "type": "scatter",
         "x": [
          "2023-07-06 19:54:11",
          "2023-07-07 09:53:08",
          "2023-07-07 16:06:22",
          "2023-07-07 16:10:56",
          "2023-07-08 17:58:02"
         ],
         "xaxis": "x",
         "y": [
          0.16750000417232513,
          0.43790000677108765,
          0.4487000107765198,
          0.2770000100135803,
          0.37119999527931213
         ],
         "yaxis": "y"
        },
        {
         "hovertemplate": "well=F1<br>datetime=%{x}<br>abs=%{y}<extra></extra>",
         "legendgroup": "F1",
         "line": {
          "color": "#19d3f3",
          "dash": "solid"
         },
         "marker": {
          "symbol": "circle"
         },
         "mode": "lines",
         "name": "F1",
         "orientation": "v",
         "showlegend": true,
         "type": "scatter",
         "x": [
          "2023-07-06 19:54:11",
          "2023-07-07 09:53:08",
          "2023-07-07 16:06:22",
          "2023-07-07 16:10:56",
          "2023-07-08 17:58:02"
         ],
         "xaxis": "x",
         "y": [
          0.16899999976158142,
          1.1211999654769897,
          0.4189000129699707,
          0.3564999997615814,
          0.4300000071525574
         ],
         "yaxis": "y"
        },
        {
         "hovertemplate": "well=G1<br>datetime=%{x}<br>abs=%{y}<extra></extra>",
         "legendgroup": "G1",
         "line": {
          "color": "#FF6692",
          "dash": "solid"
         },
         "marker": {
          "symbol": "circle"
         },
         "mode": "lines",
         "name": "G1",
         "orientation": "v",
         "showlegend": true,
         "type": "scatter",
         "x": [
          "2023-07-06 19:54:11",
          "2023-07-07 09:53:08",
          "2023-07-07 16:06:22",
          "2023-07-07 16:10:56",
          "2023-07-08 17:58:02"
         ],
         "xaxis": "x",
         "y": [
          0.15760000050067902,
          0.5569000244140625,
          0.7515000104904175,
          0.3515999913215637,
          0.5613999962806702
         ],
         "yaxis": "y"
        },
        {
         "hovertemplate": "well=H1<br>datetime=%{x}<br>abs=%{y}<extra></extra>",
         "legendgroup": "H1",
         "line": {
          "color": "#B6E880",
          "dash": "solid"
         },
         "marker": {
          "symbol": "circle"
         },
         "mode": "lines",
         "name": "H1",
         "orientation": "v",
         "showlegend": true,
         "type": "scatter",
         "x": [
          "2023-07-06 19:54:11",
          "2023-07-07 09:53:08",
          "2023-07-07 16:06:22",
          "2023-07-07 16:10:56",
          "2023-07-08 17:58:02"
         ],
         "xaxis": "x",
         "y": [
          0.1469999998807907,
          0.9240999817848206,
          0.8849999904632568,
          0.43050000071525574,
          0.6158000230789185
         ],
         "yaxis": "y"
        },
        {
         "hovertemplate": "well=A2<br>datetime=%{x}<br>abs=%{y}<extra></extra>",
         "legendgroup": "A2",
         "line": {
          "color": "#FF97FF",
          "dash": "solid"
         },
         "marker": {
          "symbol": "circle"
         },
         "mode": "lines",
         "name": "A2",
         "orientation": "v",
         "showlegend": true,
         "type": "scatter",
         "x": [
          "2023-07-06 19:54:11",
          "2023-07-07 09:53:08",
          "2023-07-07 16:06:22",
          "2023-07-07 16:10:56",
          "2023-07-08 17:58:02"
         ],
         "xaxis": "x",
         "y": [
          0.14139999449253082,
          0.663100004196167,
          0.32600000500679016,
          0.2775999903678894,
          0.3840999901294708
         ],
         "yaxis": "y"
        },
        {
         "hovertemplate": "well=B2<br>datetime=%{x}<br>abs=%{y}<extra></extra>",
         "legendgroup": "B2",
         "line": {
          "color": "#FECB52",
          "dash": "solid"
         },
         "marker": {
          "symbol": "circle"
         },
         "mode": "lines",
         "name": "B2",
         "orientation": "v",
         "showlegend": true,
         "type": "scatter",
         "x": [
          "2023-07-06 19:54:11",
          "2023-07-07 09:53:08",
          "2023-07-07 16:06:22",
          "2023-07-07 16:10:56",
          "2023-07-08 17:58:02"
         ],
         "xaxis": "x",
         "y": [
          0.15070000290870667,
          0.7573999762535095,
          0.7312999963760376,
          0.3352000117301941,
          0.5863000154495239
         ],
         "yaxis": "y"
        },
        {
         "hovertemplate": "well=C2<br>datetime=%{x}<br>abs=%{y}<extra></extra>",
         "legendgroup": "C2",
         "line": {
          "color": "#636efa",
          "dash": "solid"
         },
         "marker": {
          "symbol": "circle"
         },
         "mode": "lines",
         "name": "C2",
         "orientation": "v",
         "showlegend": true,
         "type": "scatter",
         "x": [
          "2023-07-06 19:54:11",
          "2023-07-07 09:53:08",
          "2023-07-07 16:06:22",
          "2023-07-07 16:10:56",
          "2023-07-08 17:58:02"
         ],
         "xaxis": "x",
         "y": [
          0.1573999971151352,
          0.4812000095844269,
          0.6958000063896179,
          0.3885999917984009,
          0.5194000005722046
         ],
         "yaxis": "y"
        },
        {
         "hovertemplate": "well=D2<br>datetime=%{x}<br>abs=%{y}<extra></extra>",
         "legendgroup": "D2",
         "line": {
          "color": "#EF553B",
          "dash": "solid"
         },
         "marker": {
          "symbol": "circle"
         },
         "mode": "lines",
         "name": "D2",
         "orientation": "v",
         "showlegend": true,
         "type": "scatter",
         "x": [
          "2023-07-06 19:54:11",
          "2023-07-07 09:53:08",
          "2023-07-07 16:06:22",
          "2023-07-07 16:10:56",
          "2023-07-08 17:58:02"
         ],
         "xaxis": "x",
         "y": [
          0.16339999437332153,
          1.0211999416351318,
          0.4221000075340271,
          0.34630000591278076,
          0.506600022315979
         ],
         "yaxis": "y"
        },
        {
         "hovertemplate": "well=E2<br>datetime=%{x}<br>abs=%{y}<extra></extra>",
         "legendgroup": "E2",
         "line": {
          "color": "#00cc96",
          "dash": "solid"
         },
         "marker": {
          "symbol": "circle"
         },
         "mode": "lines",
         "name": "E2",
         "orientation": "v",
         "showlegend": true,
         "type": "scatter",
         "x": [
          "2023-07-06 19:54:11",
          "2023-07-07 09:53:08",
          "2023-07-07 16:06:22",
          "2023-07-07 16:10:56",
          "2023-07-08 17:58:02"
         ],
         "xaxis": "x",
         "y": [
          0.16249999403953552,
          1.1210999488830566,
          0.4577000141143799,
          0.38449999690055847,
          0.43320000171661377
         ],
         "yaxis": "y"
        },
        {
         "hovertemplate": "well=F2<br>datetime=%{x}<br>abs=%{y}<extra></extra>",
         "legendgroup": "F2",
         "line": {
          "color": "#ab63fa",
          "dash": "solid"
         },
         "marker": {
          "symbol": "circle"
         },
         "mode": "lines",
         "name": "F2",
         "orientation": "v",
         "showlegend": true,
         "type": "scatter",
         "x": [
          "2023-07-06 19:54:11",
          "2023-07-07 09:53:08",
          "2023-07-07 16:06:22",
          "2023-07-07 16:10:56",
          "2023-07-08 17:58:02"
         ],
         "xaxis": "x",
         "y": [
          0.16009999811649323,
          1.5577000379562378,
          1.2520999908447266,
          0.3375000059604645,
          0.38749998807907104
         ],
         "yaxis": "y"
        },
        {
         "hovertemplate": "well=G2<br>datetime=%{x}<br>abs=%{y}<extra></extra>",
         "legendgroup": "G2",
         "line": {
          "color": "#FFA15A",
          "dash": "solid"
         },
         "marker": {
          "symbol": "circle"
         },
         "mode": "lines",
         "name": "G2",
         "orientation": "v",
         "showlegend": true,
         "type": "scatter",
         "x": [
          "2023-07-06 19:54:11",
          "2023-07-07 09:53:08",
          "2023-07-07 16:06:22",
          "2023-07-07 16:10:56",
          "2023-07-08 17:58:02"
         ],
         "xaxis": "x",
         "y": [
          0.16189999878406525,
          1.0633000135421753,
          0.42739999294281006,
          0.3594000041484833,
          0.5180000066757202
         ],
         "yaxis": "y"
        },
        {
         "hovertemplate": "well=H2<br>datetime=%{x}<br>abs=%{y}<extra></extra>",
         "legendgroup": "H2",
         "line": {
          "color": "#19d3f3",
          "dash": "solid"
         },
         "marker": {
          "symbol": "circle"
         },
         "mode": "lines",
         "name": "H2",
         "orientation": "v",
         "showlegend": true,
         "type": "scatter",
         "x": [
          "2023-07-06 19:54:11",
          "2023-07-07 09:53:08",
          "2023-07-07 16:06:22",
          "2023-07-07 16:10:56",
          "2023-07-08 17:58:02"
         ],
         "xaxis": "x",
         "y": [
          0.14990000426769257,
          0.48339998722076416,
          0.6287000179290771,
          0.3375000059604645,
          0.5259000062942505
         ],
         "yaxis": "y"
        },
        {
         "hovertemplate": "well=A3<br>datetime=%{x}<br>abs=%{y}<extra></extra>",
         "legendgroup": "A3",
         "line": {
          "color": "#FF6692",
          "dash": "solid"
         },
         "marker": {
          "symbol": "circle"
         },
         "mode": "lines",
         "name": "A3",
         "orientation": "v",
         "showlegend": true,
         "type": "scatter",
         "x": [
          "2023-07-06 19:54:11",
          "2023-07-07 09:53:08",
          "2023-07-07 16:06:22",
          "2023-07-07 16:10:56",
          "2023-07-08 17:58:02"
         ],
         "xaxis": "x",
         "y": [
          0.14159999787807465,
          0.8145999908447266,
          0.9998000264167786,
          0.29260000586509705,
          0.5426999926567078
         ],
         "yaxis": "y"
        },
        {
         "hovertemplate": "well=B3<br>datetime=%{x}<br>abs=%{y}<extra></extra>",
         "legendgroup": "B3",
         "line": {
          "color": "#B6E880",
          "dash": "solid"
         },
         "marker": {
          "symbol": "circle"
         },
         "mode": "lines",
         "name": "B3",
         "orientation": "v",
         "showlegend": true,
         "type": "scatter",
         "x": [
          "2023-07-06 19:54:11",
          "2023-07-07 09:53:08",
          "2023-07-07 16:06:22",
          "2023-07-07 16:10:56",
          "2023-07-08 17:58:02"
         ],
         "xaxis": "x",
         "y": [
          0.14810000360012054,
          0.3075000047683716,
          0.5113000273704529,
          0.3312999904155731,
          0.5529000163078308
         ],
         "yaxis": "y"
        },
        {
         "hovertemplate": "well=C3<br>datetime=%{x}<br>abs=%{y}<extra></extra>",
         "legendgroup": "C3",
         "line": {
          "color": "#FF97FF",
          "dash": "solid"
         },
         "marker": {
          "symbol": "circle"
         },
         "mode": "lines",
         "name": "C3",
         "orientation": "v",
         "showlegend": true,
         "type": "scatter",
         "x": [
          "2023-07-06 19:54:11",
          "2023-07-07 09:53:08",
          "2023-07-07 16:06:22",
          "2023-07-07 16:10:56",
          "2023-07-08 17:58:02"
         ],
         "xaxis": "x",
         "y": [
          0.15530000627040863,
          1.0491000413894653,
          0.35100001096725464,
          0.28450000286102295,
          0.5303000211715698
         ],
         "yaxis": "y"
        },
        {
         "hovertemplate": "well=D3<br>datetime=%{x}<br>abs=%{y}<extra></extra>",
         "legendgroup": "D3",
         "line": {
          "color": "#FECB52",
          "dash": "solid"
         },
         "marker": {
          "symbol": "circle"
         },
         "mode": "lines",
         "name": "D3",
         "orientation": "v",
         "showlegend": true,
         "type": "scatter",
         "x": [
          "2023-07-06 19:54:11",
          "2023-07-07 09:53:08",
          "2023-07-07 16:06:22",
          "2023-07-07 16:10:56",
          "2023-07-08 17:58:02"
         ],
         "xaxis": "x",
         "y": [
          0.15710000693798065,
          0.948199987411499,
          1.3228000402450562,
          0.3393000066280365,
          0.6212999820709229
         ],
         "yaxis": "y"
        },
        {
         "hovertemplate": "well=E3<br>datetime=%{x}<br>abs=%{y}<extra></extra>",
         "legendgroup": "E3",
         "line": {
          "color": "#636efa",
          "dash": "solid"
         },
         "marker": {
          "symbol": "circle"
         },
         "mode": "lines",
         "name": "E3",
         "orientation": "v",
         "showlegend": true,
         "type": "scatter",
         "x": [
          "2023-07-06 19:54:11",
          "2023-07-07 09:53:08",
          "2023-07-07 16:06:22",
          "2023-07-07 16:10:56",
          "2023-07-08 17:58:02"
         ],
         "xaxis": "x",
         "y": [
          0.15780000388622284,
          0.8903999924659729,
          1.256600022315979,
          0.2653000056743622,
          0.3012000024318695
         ],
         "yaxis": "y"
        },
        {
         "hovertemplate": "well=F3<br>datetime=%{x}<br>abs=%{y}<extra></extra>",
         "legendgroup": "F3",
         "line": {
          "color": "#EF553B",
          "dash": "solid"
         },
         "marker": {
          "symbol": "circle"
         },
         "mode": "lines",
         "name": "F3",
         "orientation": "v",
         "showlegend": true,
         "type": "scatter",
         "x": [
          "2023-07-06 19:54:11",
          "2023-07-07 09:53:08",
          "2023-07-07 16:06:22",
          "2023-07-07 16:10:56",
          "2023-07-08 17:58:02"
         ],
         "xaxis": "x",
         "y": [
          0.16429999470710754,
          0.7447999715805054,
          0.40220001339912415,
          0.28119999170303345,
          0.44839999079704285
         ],
         "yaxis": "y"
        },
        {
         "hovertemplate": "well=G3<br>datetime=%{x}<br>abs=%{y}<extra></extra>",
         "legendgroup": "G3",
         "line": {
          "color": "#00cc96",
          "dash": "solid"
         },
         "marker": {
          "symbol": "circle"
         },
         "mode": "lines",
         "name": "G3",
         "orientation": "v",
         "showlegend": true,
         "type": "scatter",
         "x": [
          "2023-07-06 19:54:11",
          "2023-07-07 09:53:08",
          "2023-07-07 16:06:22",
          "2023-07-07 16:10:56",
          "2023-07-08 17:58:02"
         ],
         "xaxis": "x",
         "y": [
          0.16329999268054962,
          0.5705999732017517,
          0.3978999853134155,
          0.3116999864578247,
          0.6669999957084656
         ],
         "yaxis": "y"
        },
        {
         "hovertemplate": "well=H3<br>datetime=%{x}<br>abs=%{y}<extra></extra>",
         "legendgroup": "H3",
         "line": {
          "color": "#ab63fa",
          "dash": "solid"
         },
         "marker": {
          "symbol": "circle"
         },
         "mode": "lines",
         "name": "H3",
         "orientation": "v",
         "showlegend": true,
         "type": "scatter",
         "x": [
          "2023-07-06 19:54:11",
          "2023-07-07 09:53:08",
          "2023-07-07 16:06:22",
          "2023-07-07 16:10:56",
          "2023-07-08 17:58:02"
         ],
         "xaxis": "x",
         "y": [
          0.1543000042438507,
          0.6349999904632568,
          0.8988999724388123,
          0.30059999227523804,
          0.3977000117301941
         ],
         "yaxis": "y"
        },
        {
         "hovertemplate": "well=A4<br>datetime=%{x}<br>abs=%{y}<extra></extra>",
         "legendgroup": "A4",
         "line": {
          "color": "#FFA15A",
          "dash": "solid"
         },
         "marker": {
          "symbol": "circle"
         },
         "mode": "lines",
         "name": "A4",
         "orientation": "v",
         "showlegend": true,
         "type": "scatter",
         "x": [
          "2023-07-06 19:54:11",
          "2023-07-07 09:53:08",
          "2023-07-07 16:06:22",
          "2023-07-07 16:10:56",
          "2023-07-08 17:58:02"
         ],
         "xaxis": "x",
         "y": [
          0.14159999787807465,
          0.8090000152587891,
          1.154099941253662,
          0.31630000472068787,
          0.43140000104904175
         ],
         "yaxis": "y"
        },
        {
         "hovertemplate": "well=B4<br>datetime=%{x}<br>abs=%{y}<extra></extra>",
         "legendgroup": "B4",
         "line": {
          "color": "#19d3f3",
          "dash": "solid"
         },
         "marker": {
          "symbol": "circle"
         },
         "mode": "lines",
         "name": "B4",
         "orientation": "v",
         "showlegend": true,
         "type": "scatter",
         "x": [
          "2023-07-06 19:54:11",
          "2023-07-07 09:53:08",
          "2023-07-07 16:06:22",
          "2023-07-07 16:10:56",
          "2023-07-08 17:58:02"
         ],
         "xaxis": "x",
         "y": [
          0.1459999978542328,
          0.3222000002861023,
          0.4332999885082245,
          0.33059999346733093,
          0.4219000041484833
         ],
         "yaxis": "y"
        },
        {
         "hovertemplate": "well=C4<br>datetime=%{x}<br>abs=%{y}<extra></extra>",
         "legendgroup": "C4",
         "line": {
          "color": "#FF6692",
          "dash": "solid"
         },
         "marker": {
          "symbol": "circle"
         },
         "mode": "lines",
         "name": "C4",
         "orientation": "v",
         "showlegend": true,
         "type": "scatter",
         "x": [
          "2023-07-06 19:54:11",
          "2023-07-07 09:53:08",
          "2023-07-07 16:06:22",
          "2023-07-07 16:10:56",
          "2023-07-08 17:58:02"
         ],
         "xaxis": "x",
         "y": [
          0.15029999613761902,
          0.3560999929904938,
          0.578499972820282,
          0.2533999979496002,
          0.34439998865127563
         ],
         "yaxis": "y"
        },
        {
         "hovertemplate": "well=D4<br>datetime=%{x}<br>abs=%{y}<extra></extra>",
         "legendgroup": "D4",
         "line": {
          "color": "#B6E880",
          "dash": "solid"
         },
         "marker": {
          "symbol": "circle"
         },
         "mode": "lines",
         "name": "D4",
         "orientation": "v",
         "showlegend": true,
         "type": "scatter",
         "x": [
          "2023-07-06 19:54:11",
          "2023-07-07 09:53:08",
          "2023-07-07 16:06:22",
          "2023-07-07 16:10:56",
          "2023-07-08 17:58:02"
         ],
         "xaxis": "x",
         "y": [
          0.164000004529953,
          0.6571000218391418,
          1.354099988937378,
          0.3190000057220459,
          0.4578000009059906
         ],
         "yaxis": "y"
        },
        {
         "hovertemplate": "well=E4<br>datetime=%{x}<br>abs=%{y}<extra></extra>",
         "legendgroup": "E4",
         "line": {
          "color": "#FF97FF",
          "dash": "solid"
         },
         "marker": {
          "symbol": "circle"
         },
         "mode": "lines",
         "name": "E4",
         "orientation": "v",
         "showlegend": true,
         "type": "scatter",
         "x": [
          "2023-07-06 19:54:11",
          "2023-07-07 09:53:08",
          "2023-07-07 16:06:22",
          "2023-07-07 16:10:56",
          "2023-07-08 17:58:02"
         ],
         "xaxis": "x",
         "y": [
          0.1623000055551529,
          0.7480999827384949,
          0.9193000197410583,
          0.33079999685287476,
          0.47119998931884766
         ],
         "yaxis": "y"
        },
        {
         "hovertemplate": "well=F4<br>datetime=%{x}<br>abs=%{y}<extra></extra>",
         "legendgroup": "F4",
         "line": {
          "color": "#FECB52",
          "dash": "solid"
         },
         "marker": {
          "symbol": "circle"
         },
         "mode": "lines",
         "name": "F4",
         "orientation": "v",
         "showlegend": true,
         "type": "scatter",
         "x": [
          "2023-07-06 19:54:11",
          "2023-07-07 09:53:08",
          "2023-07-07 16:06:22",
          "2023-07-07 16:10:56",
          "2023-07-08 17:58:02"
         ],
         "xaxis": "x",
         "y": [
          0.16110000014305115,
          0.2856999933719635,
          0.4372999966144562,
          0.10660000145435333,
          0.5491999983787537
         ],
         "yaxis": "y"
        },
        {
         "hovertemplate": "well=G4<br>datetime=%{x}<br>abs=%{y}<extra></extra>",
         "legendgroup": "G4",
         "line": {
          "color": "#636efa",
          "dash": "solid"
         },
         "marker": {
          "symbol": "circle"
         },
         "mode": "lines",
         "name": "G4",
         "orientation": "v",
         "showlegend": true,
         "type": "scatter",
         "x": [
          "2023-07-06 19:54:11",
          "2023-07-07 09:53:08",
          "2023-07-07 16:06:22",
          "2023-07-07 16:10:56",
          "2023-07-08 17:58:02"
         ],
         "xaxis": "x",
         "y": [
          0.1615999937057495,
          0.3822999894618988,
          0.5317000150680542,
          0.24469999969005585,
          0.3449999988079071
         ],
         "yaxis": "y"
        },
        {
         "hovertemplate": "well=H4<br>datetime=%{x}<br>abs=%{y}<extra></extra>",
         "legendgroup": "H4",
         "line": {
          "color": "#EF553B",
          "dash": "solid"
         },
         "marker": {
          "symbol": "circle"
         },
         "mode": "lines",
         "name": "H4",
         "orientation": "v",
         "showlegend": true,
         "type": "scatter",
         "x": [
          "2023-07-06 19:54:11",
          "2023-07-07 09:53:08",
          "2023-07-07 16:06:22",
          "2023-07-07 16:10:56",
          "2023-07-08 17:58:02"
         ],
         "xaxis": "x",
         "y": [
          0.14910000562667847,
          0.4138000011444092,
          0.3479999899864197,
          0.323199987411499,
          0.47440001368522644
         ],
         "yaxis": "y"
        },
        {
         "hovertemplate": "well=A5<br>datetime=%{x}<br>abs=%{y}<extra></extra>",
         "legendgroup": "A5",
         "line": {
          "color": "#00cc96",
          "dash": "solid"
         },
         "marker": {
          "symbol": "circle"
         },
         "mode": "lines",
         "name": "A5",
         "orientation": "v",
         "showlegend": true,
         "type": "scatter",
         "x": [
          "2023-07-06 19:54:11",
          "2023-07-07 09:53:08",
          "2023-07-07 16:06:22",
          "2023-07-07 16:10:56",
          "2023-07-08 17:58:02"
         ],
         "xaxis": "x",
         "y": [
          0.14249999821186066,
          0.3449999988079071,
          0.8111000061035156,
          0.29670000076293945,
          0.4546999931335449
         ],
         "yaxis": "y"
        },
        {
         "hovertemplate": "well=B5<br>datetime=%{x}<br>abs=%{y}<extra></extra>",
         "legendgroup": "B5",
         "line": {
          "color": "#ab63fa",
          "dash": "solid"
         },
         "marker": {
          "symbol": "circle"
         },
         "mode": "lines",
         "name": "B5",
         "orientation": "v",
         "showlegend": true,
         "type": "scatter",
         "x": [
          "2023-07-06 19:54:11",
          "2023-07-07 09:53:08",
          "2023-07-07 16:06:22",
          "2023-07-07 16:10:56",
          "2023-07-08 17:58:02"
         ],
         "xaxis": "x",
         "y": [
          0.1526000052690506,
          0.9932000041007996,
          1.2467999458312988,
          0.2831000089645386,
          0.5698000192642212
         ],
         "yaxis": "y"
        },
        {
         "hovertemplate": "well=C5<br>datetime=%{x}<br>abs=%{y}<extra></extra>",
         "legendgroup": "C5",
         "line": {
          "color": "#FFA15A",
          "dash": "solid"
         },
         "marker": {
          "symbol": "circle"
         },
         "mode": "lines",
         "name": "C5",
         "orientation": "v",
         "showlegend": true,
         "type": "scatter",
         "x": [
          "2023-07-06 19:54:11",
          "2023-07-07 09:53:08",
          "2023-07-07 16:06:22",
          "2023-07-07 16:10:56",
          "2023-07-08 17:58:02"
         ],
         "xaxis": "x",
         "y": [
          0.15520000457763672,
          0.34290000796318054,
          0.5164999961853027,
          0.3059999942779541,
          0.3930000066757202
         ],
         "yaxis": "y"
        },
        {
         "hovertemplate": "well=D5<br>datetime=%{x}<br>abs=%{y}<extra></extra>",
         "legendgroup": "D5",
         "line": {
          "color": "#19d3f3",
          "dash": "solid"
         },
         "marker": {
          "symbol": "circle"
         },
         "mode": "lines",
         "name": "D5",
         "orientation": "v",
         "showlegend": true,
         "type": "scatter",
         "x": [
          "2023-07-06 19:54:11",
          "2023-07-07 09:53:08",
          "2023-07-07 16:06:22",
          "2023-07-07 16:10:56",
          "2023-07-08 17:58:02"
         ],
         "xaxis": "x",
         "y": [
          0.15459999442100525,
          0.3366999924182892,
          0.631600022315979,
          0.4180999994277954,
          0.4794999957084656
         ],
         "yaxis": "y"
        },
        {
         "hovertemplate": "well=E5<br>datetime=%{x}<br>abs=%{y}<extra></extra>",
         "legendgroup": "E5",
         "line": {
          "color": "#FF6692",
          "dash": "solid"
         },
         "marker": {
          "symbol": "circle"
         },
         "mode": "lines",
         "name": "E5",
         "orientation": "v",
         "showlegend": true,
         "type": "scatter",
         "x": [
          "2023-07-06 19:54:11",
          "2023-07-07 09:53:08",
          "2023-07-07 16:06:22",
          "2023-07-07 16:10:56",
          "2023-07-08 17:58:02"
         ],
         "xaxis": "x",
         "y": [
          0.15729999542236328,
          0.412200003862381,
          1.3523999452590942,
          0.3082999885082245,
          0.47369998693466187
         ],
         "yaxis": "y"
        },
        {
         "hovertemplate": "well=F5<br>datetime=%{x}<br>abs=%{y}<extra></extra>",
         "legendgroup": "F5",
         "line": {
          "color": "#B6E880",
          "dash": "solid"
         },
         "marker": {
          "symbol": "circle"
         },
         "mode": "lines",
         "name": "F5",
         "orientation": "v",
         "showlegend": true,
         "type": "scatter",
         "x": [
          "2023-07-06 19:54:11",
          "2023-07-07 09:53:08",
          "2023-07-07 16:06:22",
          "2023-07-07 16:10:56",
          "2023-07-08 17:58:02"
         ],
         "xaxis": "x",
         "y": [
          0.1606999933719635,
          0.26339998841285706,
          0.3919000029563904,
          0.3264999985694885,
          0.504800021648407
         ],
         "yaxis": "y"
        },
        {
         "hovertemplate": "well=G5<br>datetime=%{x}<br>abs=%{y}<extra></extra>",
         "legendgroup": "G5",
         "line": {
          "color": "#FF97FF",
          "dash": "solid"
         },
         "marker": {
          "symbol": "circle"
         },
         "mode": "lines",
         "name": "G5",
         "orientation": "v",
         "showlegend": true,
         "type": "scatter",
         "x": [
          "2023-07-06 19:54:11",
          "2023-07-07 09:53:08",
          "2023-07-07 16:06:22",
          "2023-07-07 16:10:56",
          "2023-07-08 17:58:02"
         ],
         "xaxis": "x",
         "y": [
          0.15970000624656677,
          1.2839000225067139,
          1.7049000263214111,
          0.3075999915599823,
          0.2870999872684479
         ],
         "yaxis": "y"
        },
        {
         "hovertemplate": "well=H5<br>datetime=%{x}<br>abs=%{y}<extra></extra>",
         "legendgroup": "H5",
         "line": {
          "color": "#FECB52",
          "dash": "solid"
         },
         "marker": {
          "symbol": "circle"
         },
         "mode": "lines",
         "name": "H5",
         "orientation": "v",
         "showlegend": true,
         "type": "scatter",
         "x": [
          "2023-07-06 19:54:11",
          "2023-07-07 09:53:08",
          "2023-07-07 16:06:22",
          "2023-07-07 16:10:56",
          "2023-07-08 17:58:02"
         ],
         "xaxis": "x",
         "y": [
          0.1462000012397766,
          0.6571000218391418,
          0.7620000243186951,
          0.2386000007390976,
          0.3828999996185303
         ],
         "yaxis": "y"
        },
        {
         "hovertemplate": "well=A6<br>datetime=%{x}<br>abs=%{y}<extra></extra>",
         "legendgroup": "A6",
         "line": {
          "color": "#636efa",
          "dash": "solid"
         },
         "marker": {
          "symbol": "circle"
         },
         "mode": "lines",
         "name": "A6",
         "orientation": "v",
         "showlegend": true,
         "type": "scatter",
         "x": [
          "2023-07-06 19:54:11",
          "2023-07-07 09:53:08",
          "2023-07-07 16:06:22",
          "2023-07-07 16:10:56",
          "2023-07-08 17:58:02"
         ],
         "xaxis": "x",
         "y": [
          0.14489999413490295,
          0.564300000667572,
          0.6776000261306763,
          0.32760000228881836,
          0.641700029373169
         ],
         "yaxis": "y"
        },
        {
         "hovertemplate": "well=B6<br>datetime=%{x}<br>abs=%{y}<extra></extra>",
         "legendgroup": "B6",
         "line": {
          "color": "#EF553B",
          "dash": "solid"
         },
         "marker": {
          "symbol": "circle"
         },
         "mode": "lines",
         "name": "B6",
         "orientation": "v",
         "showlegend": true,
         "type": "scatter",
         "x": [
          "2023-07-06 19:54:11",
          "2023-07-07 09:53:08",
          "2023-07-07 16:06:22",
          "2023-07-07 16:10:56",
          "2023-07-08 17:58:02"
         ],
         "xaxis": "x",
         "y": [
          0.1460999995470047,
          0.8461999893188477,
          1.0494999885559082,
          0.3043000102043152,
          0.4027000069618225
         ],
         "yaxis": "y"
        },
        {
         "hovertemplate": "well=C6<br>datetime=%{x}<br>abs=%{y}<extra></extra>",
         "legendgroup": "C6",
         "line": {
          "color": "#00cc96",
          "dash": "solid"
         },
         "marker": {
          "symbol": "circle"
         },
         "mode": "lines",
         "name": "C6",
         "orientation": "v",
         "showlegend": true,
         "type": "scatter",
         "x": [
          "2023-07-06 19:54:11",
          "2023-07-07 09:53:08",
          "2023-07-07 16:06:22",
          "2023-07-07 16:10:56",
          "2023-07-08 17:58:02"
         ],
         "xaxis": "x",
         "y": [
          0.1550000011920929,
          0.37929999828338623,
          0.34610000252723694,
          0.28790000081062317,
          0.6092000007629395
         ],
         "yaxis": "y"
        },
        {
         "hovertemplate": "well=D6<br>datetime=%{x}<br>abs=%{y}<extra></extra>",
         "legendgroup": "D6",
         "line": {
          "color": "#ab63fa",
          "dash": "solid"
         },
         "marker": {
          "symbol": "circle"
         },
         "mode": "lines",
         "name": "D6",
         "orientation": "v",
         "showlegend": true,
         "type": "scatter",
         "x": [
          "2023-07-06 19:54:11",
          "2023-07-07 09:53:08",
          "2023-07-07 16:06:22",
          "2023-07-07 16:10:56",
          "2023-07-08 17:58:02"
         ],
         "xaxis": "x",
         "y": [
          0.1565999984741211,
          0.7512000203132629,
          0.3458000123500824,
          0.1404999941587448,
          0.16189999878406525
         ],
         "yaxis": "y"
        },
        {
         "hovertemplate": "well=E6<br>datetime=%{x}<br>abs=%{y}<extra></extra>",
         "legendgroup": "E6",
         "line": {
          "color": "#FFA15A",
          "dash": "solid"
         },
         "marker": {
          "symbol": "circle"
         },
         "mode": "lines",
         "name": "E6",
         "orientation": "v",
         "showlegend": true,
         "type": "scatter",
         "x": [
          "2023-07-06 19:54:11",
          "2023-07-07 09:53:08",
          "2023-07-07 16:06:22",
          "2023-07-07 16:10:56",
          "2023-07-08 17:58:02"
         ],
         "xaxis": "x",
         "y": [
          0.16850000619888306,
          1.1644999980926514,
          0.4325000047683716,
          0.33570000529289246,
          0.6230999827384949
         ],
         "yaxis": "y"
        },
        {
         "hovertemplate": "well=F6<br>datetime=%{x}<br>abs=%{y}<extra></extra>",
         "legendgroup": "F6",
         "line": {
          "color": "#19d3f3",
          "dash": "solid"
         },
         "marker": {
          "symbol": "circle"
         },
         "mode": "lines",
         "name": "F6",
         "orientation": "v",
         "showlegend": true,
         "type": "scatter",
         "x": [
          "2023-07-06 19:54:11",
          "2023-07-07 09:53:08",
          "2023-07-07 16:06:22",
          "2023-07-07 16:10:56",
          "2023-07-08 17:58:02"
         ],
         "xaxis": "x",
         "y": [
          0.16060000658035278,
          0.4894999861717224,
          0.507099986076355,
          0.35989999771118164,
          0.6682000160217285
         ],
         "yaxis": "y"
        },
        {
         "hovertemplate": "well=G6<br>datetime=%{x}<br>abs=%{y}<extra></extra>",
         "legendgroup": "G6",
         "line": {
          "color": "#FF6692",
          "dash": "solid"
         },
         "marker": {
          "symbol": "circle"
         },
         "mode": "lines",
         "name": "G6",
         "orientation": "v",
         "showlegend": true,
         "type": "scatter",
         "x": [
          "2023-07-06 19:54:11",
          "2023-07-07 09:53:08",
          "2023-07-07 16:06:22",
          "2023-07-07 16:10:56",
          "2023-07-08 17:58:02"
         ],
         "xaxis": "x",
         "y": [
          0.1657000035047531,
          0.38370001316070557,
          0.46790000796318054,
          0.3569999933242798,
          0.492900013923645
         ],
         "yaxis": "y"
        },
        {
         "hovertemplate": "well=H6<br>datetime=%{x}<br>abs=%{y}<extra></extra>",
         "legendgroup": "H6",
         "line": {
          "color": "#B6E880",
          "dash": "solid"
         },
         "marker": {
          "symbol": "circle"
         },
         "mode": "lines",
         "name": "H6",
         "orientation": "v",
         "showlegend": true,
         "type": "scatter",
         "x": [
          "2023-07-06 19:54:11",
          "2023-07-07 09:53:08",
          "2023-07-07 16:06:22",
          "2023-07-07 16:10:56",
          "2023-07-08 17:58:02"
         ],
         "xaxis": "x",
         "y": [
          0.13040000200271606,
          0.557699978351593,
          0.44290000200271606,
          0.3345000147819519,
          0.5227000117301941
         ],
         "yaxis": "y"
        },
        {
         "hovertemplate": "well=A7<br>datetime=%{x}<br>abs=%{y}<extra></extra>",
         "legendgroup": "A7",
         "line": {
          "color": "#FF97FF",
          "dash": "solid"
         },
         "marker": {
          "symbol": "circle"
         },
         "mode": "lines",
         "name": "A7",
         "orientation": "v",
         "showlegend": true,
         "type": "scatter",
         "x": [
          "2023-07-06 19:54:11",
          "2023-07-07 09:53:08",
          "2023-07-07 16:06:22",
          "2023-07-07 16:10:56",
          "2023-07-08 17:58:02"
         ],
         "xaxis": "x",
         "y": [
          0.155799999833107,
          0.6644999980926514,
          0.713100016117096,
          0.3644999861717224,
          0.5623999834060669
         ],
         "yaxis": "y"
        },
        {
         "hovertemplate": "well=B7<br>datetime=%{x}<br>abs=%{y}<extra></extra>",
         "legendgroup": "B7",
         "line": {
          "color": "#FECB52",
          "dash": "solid"
         },
         "marker": {
          "symbol": "circle"
         },
         "mode": "lines",
         "name": "B7",
         "orientation": "v",
         "showlegend": true,
         "type": "scatter",
         "x": [
          "2023-07-06 19:54:11",
          "2023-07-07 09:53:08",
          "2023-07-07 16:06:22",
          "2023-07-07 16:10:56",
          "2023-07-08 17:58:02"
         ],
         "xaxis": "x",
         "y": [
          0.14489999413490295,
          0.4016000032424927,
          0.6740999817848206,
          0.3228999972343445,
          0.5134000182151794
         ],
         "yaxis": "y"
        },
        {
         "hovertemplate": "well=C7<br>datetime=%{x}<br>abs=%{y}<extra></extra>",
         "legendgroup": "C7",
         "line": {
          "color": "#636efa",
          "dash": "solid"
         },
         "marker": {
          "symbol": "circle"
         },
         "mode": "lines",
         "name": "C7",
         "orientation": "v",
         "showlegend": true,
         "type": "scatter",
         "x": [
          "2023-07-06 19:54:11",
          "2023-07-07 09:53:08",
          "2023-07-07 16:06:22",
          "2023-07-07 16:10:56",
          "2023-07-08 17:58:02"
         ],
         "xaxis": "x",
         "y": [
          0.15320000052452087,
          1.332200050354004,
          1.0157999992370605,
          0.29809999465942383,
          0.4641999900341034
         ],
         "yaxis": "y"
        },
        {
         "hovertemplate": "well=D7<br>datetime=%{x}<br>abs=%{y}<extra></extra>",
         "legendgroup": "D7",
         "line": {
          "color": "#EF553B",
          "dash": "solid"
         },
         "marker": {
          "symbol": "circle"
         },
         "mode": "lines",
         "name": "D7",
         "orientation": "v",
         "showlegend": true,
         "type": "scatter",
         "x": [
          "2023-07-06 19:54:11",
          "2023-07-07 09:53:08",
          "2023-07-07 16:06:22",
          "2023-07-07 16:10:56",
          "2023-07-08 17:58:02"
         ],
         "xaxis": "x",
         "y": [
          0.15600000321865082,
          0.445499986410141,
          0.5929999947547913,
          0.3474000096321106,
          0.35249999165534973
         ],
         "yaxis": "y"
        },
        {
         "hovertemplate": "well=E7<br>datetime=%{x}<br>abs=%{y}<extra></extra>",
         "legendgroup": "E7",
         "line": {
          "color": "#00cc96",
          "dash": "solid"
         },
         "marker": {
          "symbol": "circle"
         },
         "mode": "lines",
         "name": "E7",
         "orientation": "v",
         "showlegend": true,
         "type": "scatter",
         "x": [
          "2023-07-06 19:54:11",
          "2023-07-07 09:53:08",
          "2023-07-07 16:06:22",
          "2023-07-07 16:10:56",
          "2023-07-08 17:58:02"
         ],
         "xaxis": "x",
         "y": [
          0.15770000219345093,
          0.37790000438690186,
          0.9498000144958496,
          0.3082999885082245,
          0.44429999589920044
         ],
         "yaxis": "y"
        },
        {
         "hovertemplate": "well=F7<br>datetime=%{x}<br>abs=%{y}<extra></extra>",
         "legendgroup": "F7",
         "line": {
          "color": "#ab63fa",
          "dash": "solid"
         },
         "marker": {
          "symbol": "circle"
         },
         "mode": "lines",
         "name": "F7",
         "orientation": "v",
         "showlegend": true,
         "type": "scatter",
         "x": [
          "2023-07-06 19:54:11",
          "2023-07-07 09:53:08",
          "2023-07-07 16:06:22",
          "2023-07-07 16:10:56",
          "2023-07-08 17:58:02"
         ],
         "xaxis": "x",
         "y": [
          0.1598999947309494,
          0.4724999964237213,
          0.7343000173568726,
          0.61080002784729,
          0.5157999992370605
         ],
         "yaxis": "y"
        },
        {
         "hovertemplate": "well=G7<br>datetime=%{x}<br>abs=%{y}<extra></extra>",
         "legendgroup": "G7",
         "line": {
          "color": "#FFA15A",
          "dash": "solid"
         },
         "marker": {
          "symbol": "circle"
         },
         "mode": "lines",
         "name": "G7",
         "orientation": "v",
         "showlegend": true,
         "type": "scatter",
         "x": [
          "2023-07-06 19:54:11",
          "2023-07-07 09:53:08",
          "2023-07-07 16:06:22",
          "2023-07-07 16:10:56",
          "2023-07-08 17:58:02"
         ],
         "xaxis": "x",
         "y": [
          0.16140000522136688,
          0.5527999997138977,
          0.6251000165939331,
          0.2694999873638153,
          0.4530999958515167
         ],
         "yaxis": "y"
        },
        {
         "hovertemplate": "well=H7<br>datetime=%{x}<br>abs=%{y}<extra></extra>",
         "legendgroup": "H7",
         "line": {
          "color": "#19d3f3",
          "dash": "solid"
         },
         "marker": {
          "symbol": "circle"
         },
         "mode": "lines",
         "name": "H7",
         "orientation": "v",
         "showlegend": true,
         "type": "scatter",
         "x": [
          "2023-07-06 19:54:11",
          "2023-07-07 09:53:08",
          "2023-07-07 16:06:22",
          "2023-07-07 16:10:56",
          "2023-07-08 17:58:02"
         ],
         "xaxis": "x",
         "y": [
          0.13519999384880066,
          1.2319999933242798,
          1.4412000179290771,
          0.3278000056743622,
          0.6462000012397766
         ],
         "yaxis": "y"
        },
        {
         "hovertemplate": "well=A8<br>datetime=%{x}<br>abs=%{y}<extra></extra>",
         "legendgroup": "A8",
         "line": {
          "color": "#FF6692",
          "dash": "solid"
         },
         "marker": {
          "symbol": "circle"
         },
         "mode": "lines",
         "name": "A8",
         "orientation": "v",
         "showlegend": true,
         "type": "scatter",
         "x": [
          "2023-07-06 19:54:11",
          "2023-07-07 09:53:08",
          "2023-07-07 16:06:22",
          "2023-07-07 16:10:56",
          "2023-07-08 17:58:02"
         ],
         "xaxis": "x",
         "y": [
          0.13539999723434448,
          0.34040001034736633,
          0.5845999717712402,
          0.23810000717639923,
          0.4253999888896942
         ],
         "yaxis": "y"
        },
        {
         "hovertemplate": "well=B8<br>datetime=%{x}<br>abs=%{y}<extra></extra>",
         "legendgroup": "B8",
         "line": {
          "color": "#B6E880",
          "dash": "solid"
         },
         "marker": {
          "symbol": "circle"
         },
         "mode": "lines",
         "name": "B8",
         "orientation": "v",
         "showlegend": true,
         "type": "scatter",
         "x": [
          "2023-07-06 19:54:11",
          "2023-07-07 09:53:08",
          "2023-07-07 16:06:22",
          "2023-07-07 16:10:56",
          "2023-07-08 17:58:02"
         ],
         "xaxis": "x",
         "y": [
          0.147599995136261,
          1.0220999717712402,
          1.1917999982833862,
          0.34779998660087585,
          0.5551000237464905
         ],
         "yaxis": "y"
        },
        {
         "hovertemplate": "well=C8<br>datetime=%{x}<br>abs=%{y}<extra></extra>",
         "legendgroup": "C8",
         "line": {
          "color": "#FF97FF",
          "dash": "solid"
         },
         "marker": {
          "symbol": "circle"
         },
         "mode": "lines",
         "name": "C8",
         "orientation": "v",
         "showlegend": true,
         "type": "scatter",
         "x": [
          "2023-07-06 19:54:11",
          "2023-07-07 09:53:08",
          "2023-07-07 16:06:22",
          "2023-07-07 16:10:56",
          "2023-07-08 17:58:02"
         ],
         "xaxis": "x",
         "y": [
          0.15299999713897705,
          0.7581999897956848,
          0.9222999811172485,
          0.3246999979019165,
          0.47099998593330383
         ],
         "yaxis": "y"
        },
        {
         "hovertemplate": "well=D8<br>datetime=%{x}<br>abs=%{y}<extra></extra>",
         "legendgroup": "D8",
         "line": {
          "color": "#FECB52",
          "dash": "solid"
         },
         "marker": {
          "symbol": "circle"
         },
         "mode": "lines",
         "name": "D8",
         "orientation": "v",
         "showlegend": true,
         "type": "scatter",
         "x": [
          "2023-07-06 19:54:11",
          "2023-07-07 09:53:08",
          "2023-07-07 16:06:22",
          "2023-07-07 16:10:56",
          "2023-07-08 17:58:02"
         ],
         "xaxis": "x",
         "y": [
          0.15770000219345093,
          0.6646999716758728,
          0.6223000288009644,
          0.3483000099658966,
          0.48820000886917114
         ],
         "yaxis": "y"
        },
        {
         "hovertemplate": "well=E8<br>datetime=%{x}<br>abs=%{y}<extra></extra>",
         "legendgroup": "E8",
         "line": {
          "color": "#636efa",
          "dash": "solid"
         },
         "marker": {
          "symbol": "circle"
         },
         "mode": "lines",
         "name": "E8",
         "orientation": "v",
         "showlegend": true,
         "type": "scatter",
         "x": [
          "2023-07-06 19:54:11",
          "2023-07-07 09:53:08",
          "2023-07-07 16:06:22",
          "2023-07-07 16:10:56",
          "2023-07-08 17:58:02"
         ],
         "xaxis": "x",
         "y": [
          0.15809999406337738,
          0.8169999718666077,
          1.3436000347137451,
          0.2791999876499176,
          0.4767000079154968
         ],
         "yaxis": "y"
        },
        {
         "hovertemplate": "well=F8<br>datetime=%{x}<br>abs=%{y}<extra></extra>",
         "legendgroup": "F8",
         "line": {
          "color": "#EF553B",
          "dash": "solid"
         },
         "marker": {
          "symbol": "circle"
         },
         "mode": "lines",
         "name": "F8",
         "orientation": "v",
         "showlegend": true,
         "type": "scatter",
         "x": [
          "2023-07-06 19:54:11",
          "2023-07-07 09:53:08",
          "2023-07-07 16:06:22",
          "2023-07-07 16:10:56",
          "2023-07-08 17:58:02"
         ],
         "xaxis": "x",
         "y": [
          0.16140000522136688,
          0.3935000002384186,
          0.43389999866485596,
          0.3409999907016754,
          0.6255999803543091
         ],
         "yaxis": "y"
        },
        {
         "hovertemplate": "well=G8<br>datetime=%{x}<br>abs=%{y}<extra></extra>",
         "legendgroup": "G8",
         "line": {
          "color": "#00cc96",
          "dash": "solid"
         },
         "marker": {
          "symbol": "circle"
         },
         "mode": "lines",
         "name": "G8",
         "orientation": "v",
         "showlegend": true,
         "type": "scatter",
         "x": [
          "2023-07-06 19:54:11",
          "2023-07-07 09:53:08",
          "2023-07-07 16:06:22",
          "2023-07-07 16:10:56",
          "2023-07-08 17:58:02"
         ],
         "xaxis": "x",
         "y": [
          0.16519999504089355,
          0.39660000801086426,
          0.35910001397132874,
          0.3037000000476837,
          0.45669999718666077
         ],
         "yaxis": "y"
        },
        {
         "hovertemplate": "well=H8<br>datetime=%{x}<br>abs=%{y}<extra></extra>",
         "legendgroup": "H8",
         "line": {
          "color": "#ab63fa",
          "dash": "solid"
         },
         "marker": {
          "symbol": "circle"
         },
         "mode": "lines",
         "name": "H8",
         "orientation": "v",
         "showlegend": true,
         "type": "scatter",
         "x": [
          "2023-07-06 19:54:11",
          "2023-07-07 09:53:08",
          "2023-07-07 16:06:22",
          "2023-07-07 16:10:56",
          "2023-07-08 17:58:02"
         ],
         "xaxis": "x",
         "y": [
          0.13989999890327454,
          0.5322999954223633,
          1.4026999473571777,
          0.3151000142097473,
          0.6222000122070312
         ],
         "yaxis": "y"
        },
        {
         "hovertemplate": "well=A9<br>datetime=%{x}<br>abs=%{y}<extra></extra>",
         "legendgroup": "A9",
         "line": {
          "color": "#FFA15A",
          "dash": "solid"
         },
         "marker": {
          "symbol": "circle"
         },
         "mode": "lines",
         "name": "A9",
         "orientation": "v",
         "showlegend": true,
         "type": "scatter",
         "x": [
          "2023-07-06 19:54:11",
          "2023-07-07 09:53:08",
          "2023-07-07 16:06:22",
          "2023-07-07 16:10:56",
          "2023-07-08 17:58:02"
         ],
         "xaxis": "x",
         "y": [
          0.14429999887943268,
          0.4629000127315521,
          0.6209999918937683,
          0.3095000088214874,
          0.5078999996185303
         ],
         "yaxis": "y"
        },
        {
         "hovertemplate": "well=B9<br>datetime=%{x}<br>abs=%{y}<extra></extra>",
         "legendgroup": "B9",
         "line": {
          "color": "#19d3f3",
          "dash": "solid"
         },
         "marker": {
          "symbol": "circle"
         },
         "mode": "lines",
         "name": "B9",
         "orientation": "v",
         "showlegend": true,
         "type": "scatter",
         "x": [
          "2023-07-06 19:54:11",
          "2023-07-07 09:53:08",
          "2023-07-07 16:06:22",
          "2023-07-07 16:10:56",
          "2023-07-08 17:58:02"
         ],
         "xaxis": "x",
         "y": [
          0.148499995470047,
          0.4426000118255615,
          1.371999979019165,
          0.3084999918937683,
          0.5228999853134155
         ],
         "yaxis": "y"
        },
        {
         "hovertemplate": "well=C9<br>datetime=%{x}<br>abs=%{y}<extra></extra>",
         "legendgroup": "C9",
         "line": {
          "color": "#FF6692",
          "dash": "solid"
         },
         "marker": {
          "symbol": "circle"
         },
         "mode": "lines",
         "name": "C9",
         "orientation": "v",
         "showlegend": true,
         "type": "scatter",
         "x": [
          "2023-07-06 19:54:11",
          "2023-07-07 09:53:08",
          "2023-07-07 16:06:22",
          "2023-07-07 16:10:56",
          "2023-07-08 17:58:02"
         ],
         "xaxis": "x",
         "y": [
          0.15629999339580536,
          0.3702000081539154,
          0.4950999915599823,
          0.29660001397132874,
          0.5837000012397766
         ],
         "yaxis": "y"
        },
        {
         "hovertemplate": "well=D9<br>datetime=%{x}<br>abs=%{y}<extra></extra>",
         "legendgroup": "D9",
         "line": {
          "color": "#B6E880",
          "dash": "solid"
         },
         "marker": {
          "symbol": "circle"
         },
         "mode": "lines",
         "name": "D9",
         "orientation": "v",
         "showlegend": true,
         "type": "scatter",
         "x": [
          "2023-07-06 19:54:11",
          "2023-07-07 09:53:08",
          "2023-07-07 16:06:22",
          "2023-07-07 16:10:56",
          "2023-07-08 17:58:02"
         ],
         "xaxis": "x",
         "y": [
          0.163100004196167,
          0.4936000108718872,
          0.4171000123023987,
          0.35409998893737793,
          0.5069000124931335
         ],
         "yaxis": "y"
        },
        {
         "hovertemplate": "well=E9<br>datetime=%{x}<br>abs=%{y}<extra></extra>",
         "legendgroup": "E9",
         "line": {
          "color": "#FF97FF",
          "dash": "solid"
         },
         "marker": {
          "symbol": "circle"
         },
         "mode": "lines",
         "name": "E9",
         "orientation": "v",
         "showlegend": true,
         "type": "scatter",
         "x": [
          "2023-07-06 19:54:11",
          "2023-07-07 09:53:08",
          "2023-07-07 16:06:22",
          "2023-07-07 16:10:56",
          "2023-07-08 17:58:02"
         ],
         "xaxis": "x",
         "y": [
          0.1597999930381775,
          0.40700000524520874,
          0.29499998688697815,
          0.25940001010894775,
          0.42340001463890076
         ],
         "yaxis": "y"
        },
        {
         "hovertemplate": "well=F9<br>datetime=%{x}<br>abs=%{y}<extra></extra>",
         "legendgroup": "F9",
         "line": {
          "color": "#FECB52",
          "dash": "solid"
         },
         "marker": {
          "symbol": "circle"
         },
         "mode": "lines",
         "name": "F9",
         "orientation": "v",
         "showlegend": true,
         "type": "scatter",
         "x": [
          "2023-07-06 19:54:11",
          "2023-07-07 09:53:08",
          "2023-07-07 16:06:22",
          "2023-07-07 16:10:56",
          "2023-07-08 17:58:02"
         ],
         "xaxis": "x",
         "y": [
          0.16380000114440918,
          0.6524999737739563,
          0.7143999934196472,
          0.3165999948978424,
          0.3792000114917755
         ],
         "yaxis": "y"
        },
        {
         "hovertemplate": "well=G9<br>datetime=%{x}<br>abs=%{y}<extra></extra>",
         "legendgroup": "G9",
         "line": {
          "color": "#636efa",
          "dash": "solid"
         },
         "marker": {
          "symbol": "circle"
         },
         "mode": "lines",
         "name": "G9",
         "orientation": "v",
         "showlegend": true,
         "type": "scatter",
         "x": [
          "2023-07-06 19:54:11",
          "2023-07-07 09:53:08",
          "2023-07-07 16:06:22",
          "2023-07-07 16:10:56",
          "2023-07-08 17:58:02"
         ],
         "xaxis": "x",
         "y": [
          0.16930000483989716,
          1.0786000490188599,
          0.4027000069618225,
          0.3384999930858612,
          0.4830999970436096
         ],
         "yaxis": "y"
        },
        {
         "hovertemplate": "well=H9<br>datetime=%{x}<br>abs=%{y}<extra></extra>",
         "legendgroup": "H9",
         "line": {
          "color": "#EF553B",
          "dash": "solid"
         },
         "marker": {
          "symbol": "circle"
         },
         "mode": "lines",
         "name": "H9",
         "orientation": "v",
         "showlegend": true,
         "type": "scatter",
         "x": [
          "2023-07-06 19:54:11",
          "2023-07-07 09:53:08",
          "2023-07-07 16:06:22",
          "2023-07-07 16:10:56",
          "2023-07-08 17:58:02"
         ],
         "xaxis": "x",
         "y": [
          0.14830000698566437,
          0.9070000052452087,
          0.520799994468689,
          0.3603000044822693,
          0.5485000014305115
         ],
         "yaxis": "y"
        },
        {
         "hovertemplate": "well=A10<br>datetime=%{x}<br>abs=%{y}<extra></extra>",
         "legendgroup": "A10",
         "line": {
          "color": "#00cc96",
          "dash": "solid"
         },
         "marker": {
          "symbol": "circle"
         },
         "mode": "lines",
         "name": "A10",
         "orientation": "v",
         "showlegend": true,
         "type": "scatter",
         "x": [
          "2023-07-06 19:54:11",
          "2023-07-07 09:53:08",
          "2023-07-07 16:06:22",
          "2023-07-07 16:10:56",
          "2023-07-08 17:58:02"
         ],
         "xaxis": "x",
         "y": [
          0.14090000092983246,
          0.3716999888420105,
          0.6033999919891357,
          0.2919999957084656,
          0.4830999970436096
         ],
         "yaxis": "y"
        },
        {
         "hovertemplate": "well=B10<br>datetime=%{x}<br>abs=%{y}<extra></extra>",
         "legendgroup": "B10",
         "line": {
          "color": "#ab63fa",
          "dash": "solid"
         },
         "marker": {
          "symbol": "circle"
         },
         "mode": "lines",
         "name": "B10",
         "orientation": "v",
         "showlegend": true,
         "type": "scatter",
         "x": [
          "2023-07-06 19:54:11",
          "2023-07-07 09:53:08",
          "2023-07-07 16:06:22",
          "2023-07-07 16:10:56",
          "2023-07-08 17:58:02"
         ],
         "xaxis": "x",
         "y": [
          0.14640000462532043,
          0.7330999970436096,
          1.0161000490188599,
          0.3698999881744385,
          0.5214999914169312
         ],
         "yaxis": "y"
        },
        {
         "hovertemplate": "well=C10<br>datetime=%{x}<br>abs=%{y}<extra></extra>",
         "legendgroup": "C10",
         "line": {
          "color": "#FFA15A",
          "dash": "solid"
         },
         "marker": {
          "symbol": "circle"
         },
         "mode": "lines",
         "name": "C10",
         "orientation": "v",
         "showlegend": true,
         "type": "scatter",
         "x": [
          "2023-07-06 19:54:11",
          "2023-07-07 09:53:08",
          "2023-07-07 16:06:22",
          "2023-07-07 16:10:56",
          "2023-07-08 17:58:02"
         ],
         "xaxis": "x",
         "y": [
          0.17509999871253967,
          0.4172999858856201,
          0.5461999773979187,
          0.3361000120639801,
          0.49559998512268066
         ],
         "yaxis": "y"
        },
        {
         "hovertemplate": "well=D10<br>datetime=%{x}<br>abs=%{y}<extra></extra>",
         "legendgroup": "D10",
         "line": {
          "color": "#19d3f3",
          "dash": "solid"
         },
         "marker": {
          "symbol": "circle"
         },
         "mode": "lines",
         "name": "D10",
         "orientation": "v",
         "showlegend": true,
         "type": "scatter",
         "x": [
          "2023-07-06 19:54:11",
          "2023-07-07 09:53:08",
          "2023-07-07 16:06:22",
          "2023-07-07 16:10:56",
          "2023-07-08 17:58:02"
         ],
         "xaxis": "x",
         "y": [
          0.16500000655651093,
          0.5867999792098999,
          0.6970999836921692,
          0.3179999887943268,
          0.38960000872612
         ],
         "yaxis": "y"
        },
        {
         "hovertemplate": "well=E10<br>datetime=%{x}<br>abs=%{y}<extra></extra>",
         "legendgroup": "E10",
         "line": {
          "color": "#FF6692",
          "dash": "solid"
         },
         "marker": {
          "symbol": "circle"
         },
         "mode": "lines",
         "name": "E10",
         "orientation": "v",
         "showlegend": true,
         "type": "scatter",
         "x": [
          "2023-07-06 19:54:11",
          "2023-07-07 09:53:08",
          "2023-07-07 16:06:22",
          "2023-07-07 16:10:56",
          "2023-07-08 17:58:02"
         ],
         "xaxis": "x",
         "y": [
          0.1599999964237213,
          0.8417999744415283,
          0.6266000270843506,
          0.3788999915122986,
          0.4577000141143799
         ],
         "yaxis": "y"
        },
        {
         "hovertemplate": "well=F10<br>datetime=%{x}<br>abs=%{y}<extra></extra>",
         "legendgroup": "F10",
         "line": {
          "color": "#B6E880",
          "dash": "solid"
         },
         "marker": {
          "symbol": "circle"
         },
         "mode": "lines",
         "name": "F10",
         "orientation": "v",
         "showlegend": true,
         "type": "scatter",
         "x": [
          "2023-07-06 19:54:11",
          "2023-07-07 09:53:08",
          "2023-07-07 16:06:22",
          "2023-07-07 16:10:56",
          "2023-07-08 17:58:02"
         ],
         "xaxis": "x",
         "y": [
          0.1607999950647354,
          0.4973999857902527,
          0.26460000872612,
          0.22660000622272491,
          0.3984000086784363
         ],
         "yaxis": "y"
        },
        {
         "hovertemplate": "well=G10<br>datetime=%{x}<br>abs=%{y}<extra></extra>",
         "legendgroup": "G10",
         "line": {
          "color": "#FF97FF",
          "dash": "solid"
         },
         "marker": {
          "symbol": "circle"
         },
         "mode": "lines",
         "name": "G10",
         "orientation": "v",
         "showlegend": true,
         "type": "scatter",
         "x": [
          "2023-07-06 19:54:11",
          "2023-07-07 09:53:08",
          "2023-07-07 16:06:22",
          "2023-07-07 16:10:56",
          "2023-07-08 17:58:02"
         ],
         "xaxis": "x",
         "y": [
          0.1688999980688095,
          0.7250000238418579,
          0.8525000214576721,
          0.322299987077713,
          0.426800012588501
         ],
         "yaxis": "y"
        },
        {
         "hovertemplate": "well=H10<br>datetime=%{x}<br>abs=%{y}<extra></extra>",
         "legendgroup": "H10",
         "line": {
          "color": "#FECB52",
          "dash": "solid"
         },
         "marker": {
          "symbol": "circle"
         },
         "mode": "lines",
         "name": "H10",
         "orientation": "v",
         "showlegend": true,
         "type": "scatter",
         "x": [
          "2023-07-06 19:54:11",
          "2023-07-07 09:53:08",
          "2023-07-07 16:06:22",
          "2023-07-07 16:10:56",
          "2023-07-08 17:58:02"
         ],
         "xaxis": "x",
         "y": [
          0.15049999952316284,
          0.39800000190734863,
          0.5559999942779541,
          0.3400999903678894,
          0.47099998593330383
         ],
         "yaxis": "y"
        },
        {
         "hovertemplate": "well=A11<br>datetime=%{x}<br>abs=%{y}<extra></extra>",
         "legendgroup": "A11",
         "line": {
          "color": "#636efa",
          "dash": "solid"
         },
         "marker": {
          "symbol": "circle"
         },
         "mode": "lines",
         "name": "A11",
         "orientation": "v",
         "showlegend": true,
         "type": "scatter",
         "x": [
          "2023-07-06 19:54:11",
          "2023-07-07 09:53:08",
          "2023-07-07 16:06:22",
          "2023-07-07 16:10:56",
          "2023-07-08 17:58:02"
         ],
         "xaxis": "x",
         "y": [
          0.14790000021457672,
          0.3804999887943268,
          0.5967000126838684,
          0.33959999680519104,
          0.5116999745368958
         ],
         "yaxis": "y"
        },
        {
         "hovertemplate": "well=B11<br>datetime=%{x}<br>abs=%{y}<extra></extra>",
         "legendgroup": "B11",
         "line": {
          "color": "#EF553B",
          "dash": "solid"
         },
         "marker": {
          "symbol": "circle"
         },
         "mode": "lines",
         "name": "B11",
         "orientation": "v",
         "showlegend": true,
         "type": "scatter",
         "x": [
          "2023-07-06 19:54:11",
          "2023-07-07 09:53:08",
          "2023-07-07 16:06:22",
          "2023-07-07 16:10:56",
          "2023-07-08 17:58:02"
         ],
         "xaxis": "x",
         "y": [
          0.1509000062942505,
          0.3456000089645386,
          0.45010000467300415,
          0.37790000438690186,
          0.6450999975204468
         ],
         "yaxis": "y"
        },
        {
         "hovertemplate": "well=C11<br>datetime=%{x}<br>abs=%{y}<extra></extra>",
         "legendgroup": "C11",
         "line": {
          "color": "#00cc96",
          "dash": "solid"
         },
         "marker": {
          "symbol": "circle"
         },
         "mode": "lines",
         "name": "C11",
         "orientation": "v",
         "showlegend": true,
         "type": "scatter",
         "x": [
          "2023-07-06 19:54:11",
          "2023-07-07 09:53:08",
          "2023-07-07 16:06:22",
          "2023-07-07 16:10:56",
          "2023-07-08 17:58:02"
         ],
         "xaxis": "x",
         "y": [
          0.1679999977350235,
          0.6395000219345093,
          0.7470999956130981,
          0.32350000739097595,
          0.5196999907493591
         ],
         "yaxis": "y"
        },
        {
         "hovertemplate": "well=D11<br>datetime=%{x}<br>abs=%{y}<extra></extra>",
         "legendgroup": "D11",
         "line": {
          "color": "#ab63fa",
          "dash": "solid"
         },
         "marker": {
          "symbol": "circle"
         },
         "mode": "lines",
         "name": "D11",
         "orientation": "v",
         "showlegend": true,
         "type": "scatter",
         "x": [
          "2023-07-06 19:54:11",
          "2023-07-07 09:53:08",
          "2023-07-07 16:06:22",
          "2023-07-07 16:10:56",
          "2023-07-08 17:58:02"
         ],
         "xaxis": "x",
         "y": [
          0.16110000014305115,
          0.5712000131607056,
          1.094499945640564,
          0.32190001010894775,
          0.35370001196861267
         ],
         "yaxis": "y"
        },
        {
         "hovertemplate": "well=E11<br>datetime=%{x}<br>abs=%{y}<extra></extra>",
         "legendgroup": "E11",
         "line": {
          "color": "#FFA15A",
          "dash": "solid"
         },
         "marker": {
          "symbol": "circle"
         },
         "mode": "lines",
         "name": "E11",
         "orientation": "v",
         "showlegend": true,
         "type": "scatter",
         "x": [
          "2023-07-06 19:54:11",
          "2023-07-07 09:53:08",
          "2023-07-07 16:06:22",
          "2023-07-07 16:10:56",
          "2023-07-08 17:58:02"
         ],
         "xaxis": "x",
         "y": [
          0.15889999270439148,
          0.6407999992370605,
          0.9229999780654907,
          0.2485000044107437,
          0.30079999566078186
         ],
         "yaxis": "y"
        },
        {
         "hovertemplate": "well=F11<br>datetime=%{x}<br>abs=%{y}<extra></extra>",
         "legendgroup": "F11",
         "line": {
          "color": "#19d3f3",
          "dash": "solid"
         },
         "marker": {
          "symbol": "circle"
         },
         "mode": "lines",
         "name": "F11",
         "orientation": "v",
         "showlegend": true,
         "type": "scatter",
         "x": [
          "2023-07-06 19:54:11",
          "2023-07-07 09:53:08",
          "2023-07-07 16:06:22",
          "2023-07-07 16:10:56",
          "2023-07-08 17:58:02"
         ],
         "xaxis": "x",
         "y": [
          0.15839999914169312,
          0.4383000135421753,
          0.7842000126838684,
          0.2759000062942505,
          0.3578000068664551
         ],
         "yaxis": "y"
        },
        {
         "hovertemplate": "well=G11<br>datetime=%{x}<br>abs=%{y}<extra></extra>",
         "legendgroup": "G11",
         "line": {
          "color": "#FF6692",
          "dash": "solid"
         },
         "marker": {
          "symbol": "circle"
         },
         "mode": "lines",
         "name": "G11",
         "orientation": "v",
         "showlegend": true,
         "type": "scatter",
         "x": [
          "2023-07-06 19:54:11",
          "2023-07-07 09:53:08",
          "2023-07-07 16:06:22",
          "2023-07-07 16:10:56",
          "2023-07-08 17:58:02"
         ],
         "xaxis": "x",
         "y": [
          0.1696999967098236,
          0.5131999850273132,
          0.661300003528595,
          0.34450000524520874,
          0.4970000088214874
         ],
         "yaxis": "y"
        },
        {
         "hovertemplate": "well=H11<br>datetime=%{x}<br>abs=%{y}<extra></extra>",
         "legendgroup": "H11",
         "line": {
          "color": "#B6E880",
          "dash": "solid"
         },
         "marker": {
          "symbol": "circle"
         },
         "mode": "lines",
         "name": "H11",
         "orientation": "v",
         "showlegend": true,
         "type": "scatter",
         "x": [
          "2023-07-06 19:54:11",
          "2023-07-07 09:53:08",
          "2023-07-07 16:06:22",
          "2023-07-07 16:10:56",
          "2023-07-08 17:58:02"
         ],
         "xaxis": "x",
         "y": [
          0.14900000393390656,
          0.8009999990463257,
          1.0342999696731567,
          0.483599990606308,
          0.5274999737739563
         ],
         "yaxis": "y"
        },
        {
         "hovertemplate": "well=A12<br>datetime=%{x}<br>abs=%{y}<extra></extra>",
         "legendgroup": "A12",
         "line": {
          "color": "#FF97FF",
          "dash": "solid"
         },
         "marker": {
          "symbol": "circle"
         },
         "mode": "lines",
         "name": "A12",
         "orientation": "v",
         "showlegend": true,
         "type": "scatter",
         "x": [
          "2023-07-06 19:54:11",
          "2023-07-07 09:53:08",
          "2023-07-07 16:06:22",
          "2023-07-07 16:10:56",
          "2023-07-08 17:58:02"
         ],
         "xaxis": "x",
         "y": [
          0.14069999754428864,
          0.32089999318122864,
          0.35120001435279846,
          0.2842999994754791,
          0.49079999327659607
         ],
         "yaxis": "y"
        },
        {
         "hovertemplate": "well=B12<br>datetime=%{x}<br>abs=%{y}<extra></extra>",
         "legendgroup": "B12",
         "line": {
          "color": "#FECB52",
          "dash": "solid"
         },
         "marker": {
          "symbol": "circle"
         },
         "mode": "lines",
         "name": "B12",
         "orientation": "v",
         "showlegend": true,
         "type": "scatter",
         "x": [
          "2023-07-06 19:54:11",
          "2023-07-07 09:53:08",
          "2023-07-07 16:06:22",
          "2023-07-07 16:10:56",
          "2023-07-08 17:58:02"
         ],
         "xaxis": "x",
         "y": [
          0.14820000529289246,
          0.4675000011920929,
          0.4862000048160553,
          0.25360000133514404,
          0.29809999465942383
         ],
         "yaxis": "y"
        },
        {
         "hovertemplate": "well=C12<br>datetime=%{x}<br>abs=%{y}<extra></extra>",
         "legendgroup": "C12",
         "line": {
          "color": "#636efa",
          "dash": "solid"
         },
         "marker": {
          "symbol": "circle"
         },
         "mode": "lines",
         "name": "C12",
         "orientation": "v",
         "showlegend": true,
         "type": "scatter",
         "x": [
          "2023-07-06 19:54:11",
          "2023-07-07 09:53:08",
          "2023-07-07 16:06:22",
          "2023-07-07 16:10:56",
          "2023-07-08 17:58:02"
         ],
         "xaxis": "x",
         "y": [
          0.1476999968290329,
          0.6241999864578247,
          0.6559000015258789,
          0.29440000653266907,
          0.47920000553131104
         ],
         "yaxis": "y"
        },
        {
         "hovertemplate": "well=D12<br>datetime=%{x}<br>abs=%{y}<extra></extra>",
         "legendgroup": "D12",
         "line": {
          "color": "#EF553B",
          "dash": "solid"
         },
         "marker": {
          "symbol": "circle"
         },
         "mode": "lines",
         "name": "D12",
         "orientation": "v",
         "showlegend": true,
         "type": "scatter",
         "x": [
          "2023-07-06 19:54:11",
          "2023-07-07 09:53:08",
          "2023-07-07 16:06:22",
          "2023-07-07 16:10:56",
          "2023-07-08 17:58:02"
         ],
         "xaxis": "x",
         "y": [
          0.14589999616146088,
          0.5641000270843506,
          0.5972999930381775,
          0.3287000060081482,
          0.5439000129699707
         ],
         "yaxis": "y"
        },
        {
         "hovertemplate": "well=E12<br>datetime=%{x}<br>abs=%{y}<extra></extra>",
         "legendgroup": "E12",
         "line": {
          "color": "#00cc96",
          "dash": "solid"
         },
         "marker": {
          "symbol": "circle"
         },
         "mode": "lines",
         "name": "E12",
         "orientation": "v",
         "showlegend": true,
         "type": "scatter",
         "x": [
          "2023-07-06 19:54:11",
          "2023-07-07 09:53:08",
          "2023-07-07 16:06:22",
          "2023-07-07 16:10:56",
          "2023-07-08 17:58:02"
         ],
         "xaxis": "x",
         "y": [
          0.1534000039100647,
          0.5863000154495239,
          0.708299994468689,
          0.3393999934196472,
          0.579800009727478
         ],
         "yaxis": "y"
        },
        {
         "hovertemplate": "well=F12<br>datetime=%{x}<br>abs=%{y}<extra></extra>",
         "legendgroup": "F12",
         "line": {
          "color": "#ab63fa",
          "dash": "solid"
         },
         "marker": {
          "symbol": "circle"
         },
         "mode": "lines",
         "name": "F12",
         "orientation": "v",
         "showlegend": true,
         "type": "scatter",
         "x": [
          "2023-07-06 19:54:11",
          "2023-07-07 09:53:08",
          "2023-07-07 16:06:22",
          "2023-07-07 16:10:56",
          "2023-07-08 17:58:02"
         ],
         "xaxis": "x",
         "y": [
          0.15199999511241913,
          0.4916999936103821,
          0.5375000238418579,
          0.29910001158714294,
          0.5371000170707703
         ],
         "yaxis": "y"
        },
        {
         "hovertemplate": "well=G12<br>datetime=%{x}<br>abs=%{y}<extra></extra>",
         "legendgroup": "G12",
         "line": {
          "color": "#FFA15A",
          "dash": "solid"
         },
         "marker": {
          "symbol": "circle"
         },
         "mode": "lines",
         "name": "G12",
         "orientation": "v",
         "showlegend": true,
         "type": "scatter",
         "x": [
          "2023-07-06 19:54:11",
          "2023-07-07 09:53:08",
          "2023-07-07 16:06:22",
          "2023-07-07 16:10:56",
          "2023-07-08 17:58:02"
         ],
         "xaxis": "x",
         "y": [
          0.1527000069618225,
          0.5817999839782715,
          0.6323000192642212,
          0.3644999861717224,
          0.7190999984741211
         ],
         "yaxis": "y"
        },
        {
         "hovertemplate": "well=H12<br>datetime=%{x}<br>abs=%{y}<extra></extra>",
         "legendgroup": "H12",
         "line": {
          "color": "#19d3f3",
          "dash": "solid"
         },
         "marker": {
          "symbol": "circle"
         },
         "mode": "lines",
         "name": "H12",
         "orientation": "v",
         "showlegend": true,
         "type": "scatter",
         "x": [
          "2023-07-06 19:54:11",
          "2023-07-07 09:53:08",
          "2023-07-07 16:06:22",
          "2023-07-07 16:10:56",
          "2023-07-08 17:58:02"
         ],
         "xaxis": "x",
         "y": [
          0.1370999962091446,
          0.37450000643730164,
          0.39160001277923584,
          0.28369998931884766,
          0.4311999976634979
         ],
         "yaxis": "y"
        }
       ],
       "layout": {
        "autosize": true,
        "legend": {
         "title": {
          "text": "well"
         },
         "tracegroupgap": 0
        },
        "margin": {
         "t": 60
        },
        "template": {
         "data": {
          "bar": [
           {
            "error_x": {
             "color": "#2a3f5f"
            },
            "error_y": {
             "color": "#2a3f5f"
            },
            "marker": {
             "line": {
              "color": "#E5ECF6",
              "width": 0.5
             },
             "pattern": {
              "fillmode": "overlay",
              "size": 10,
              "solidity": 0.2
             }
            },
            "type": "bar"
           }
          ],
          "barpolar": [
           {
            "marker": {
             "line": {
              "color": "#E5ECF6",
              "width": 0.5
             },
             "pattern": {
              "fillmode": "overlay",
              "size": 10,
              "solidity": 0.2
             }
            },
            "type": "barpolar"
           }
          ],
          "carpet": [
           {
            "aaxis": {
             "endlinecolor": "#2a3f5f",
             "gridcolor": "white",
             "linecolor": "white",
             "minorgridcolor": "white",
             "startlinecolor": "#2a3f5f"
            },
            "baxis": {
             "endlinecolor": "#2a3f5f",
             "gridcolor": "white",
             "linecolor": "white",
             "minorgridcolor": "white",
             "startlinecolor": "#2a3f5f"
            },
            "type": "carpet"
           }
          ],
          "choropleth": [
           {
            "colorbar": {
             "outlinewidth": 0,
             "ticks": ""
            },
            "type": "choropleth"
           }
          ],
          "contour": [
           {
            "colorbar": {
             "outlinewidth": 0,
             "ticks": ""
            },
            "colorscale": [
             [
              0,
              "#0d0887"
             ],
             [
              0.1111111111111111,
              "#46039f"
             ],
             [
              0.2222222222222222,
              "#7201a8"
             ],
             [
              0.3333333333333333,
              "#9c179e"
             ],
             [
              0.4444444444444444,
              "#bd3786"
             ],
             [
              0.5555555555555556,
              "#d8576b"
             ],
             [
              0.6666666666666666,
              "#ed7953"
             ],
             [
              0.7777777777777778,
              "#fb9f3a"
             ],
             [
              0.8888888888888888,
              "#fdca26"
             ],
             [
              1,
              "#f0f921"
             ]
            ],
            "type": "contour"
           }
          ],
          "contourcarpet": [
           {
            "colorbar": {
             "outlinewidth": 0,
             "ticks": ""
            },
            "type": "contourcarpet"
           }
          ],
          "heatmap": [
           {
            "colorbar": {
             "outlinewidth": 0,
             "ticks": ""
            },
            "colorscale": [
             [
              0,
              "#0d0887"
             ],
             [
              0.1111111111111111,
              "#46039f"
             ],
             [
              0.2222222222222222,
              "#7201a8"
             ],
             [
              0.3333333333333333,
              "#9c179e"
             ],
             [
              0.4444444444444444,
              "#bd3786"
             ],
             [
              0.5555555555555556,
              "#d8576b"
             ],
             [
              0.6666666666666666,
              "#ed7953"
             ],
             [
              0.7777777777777778,
              "#fb9f3a"
             ],
             [
              0.8888888888888888,
              "#fdca26"
             ],
             [
              1,
              "#f0f921"
             ]
            ],
            "type": "heatmap"
           }
          ],
          "heatmapgl": [
           {
            "colorbar": {
             "outlinewidth": 0,
             "ticks": ""
            },
            "colorscale": [
             [
              0,
              "#0d0887"
             ],
             [
              0.1111111111111111,
              "#46039f"
             ],
             [
              0.2222222222222222,
              "#7201a8"
             ],
             [
              0.3333333333333333,
              "#9c179e"
             ],
             [
              0.4444444444444444,
              "#bd3786"
             ],
             [
              0.5555555555555556,
              "#d8576b"
             ],
             [
              0.6666666666666666,
              "#ed7953"
             ],
             [
              0.7777777777777778,
              "#fb9f3a"
             ],
             [
              0.8888888888888888,
              "#fdca26"
             ],
             [
              1,
              "#f0f921"
             ]
            ],
            "type": "heatmapgl"
           }
          ],
          "histogram": [
           {
            "marker": {
             "pattern": {
              "fillmode": "overlay",
              "size": 10,
              "solidity": 0.2
             }
            },
            "type": "histogram"
           }
          ],
          "histogram2d": [
           {
            "colorbar": {
             "outlinewidth": 0,
             "ticks": ""
            },
            "colorscale": [
             [
              0,
              "#0d0887"
             ],
             [
              0.1111111111111111,
              "#46039f"
             ],
             [
              0.2222222222222222,
              "#7201a8"
             ],
             [
              0.3333333333333333,
              "#9c179e"
             ],
             [
              0.4444444444444444,
              "#bd3786"
             ],
             [
              0.5555555555555556,
              "#d8576b"
             ],
             [
              0.6666666666666666,
              "#ed7953"
             ],
             [
              0.7777777777777778,
              "#fb9f3a"
             ],
             [
              0.8888888888888888,
              "#fdca26"
             ],
             [
              1,
              "#f0f921"
             ]
            ],
            "type": "histogram2d"
           }
          ],
          "histogram2dcontour": [
           {
            "colorbar": {
             "outlinewidth": 0,
             "ticks": ""
            },
            "colorscale": [
             [
              0,
              "#0d0887"
             ],
             [
              0.1111111111111111,
              "#46039f"
             ],
             [
              0.2222222222222222,
              "#7201a8"
             ],
             [
              0.3333333333333333,
              "#9c179e"
             ],
             [
              0.4444444444444444,
              "#bd3786"
             ],
             [
              0.5555555555555556,
              "#d8576b"
             ],
             [
              0.6666666666666666,
              "#ed7953"
             ],
             [
              0.7777777777777778,
              "#fb9f3a"
             ],
             [
              0.8888888888888888,
              "#fdca26"
             ],
             [
              1,
              "#f0f921"
             ]
            ],
            "type": "histogram2dcontour"
           }
          ],
          "mesh3d": [
           {
            "colorbar": {
             "outlinewidth": 0,
             "ticks": ""
            },
            "type": "mesh3d"
           }
          ],
          "parcoords": [
           {
            "line": {
             "colorbar": {
              "outlinewidth": 0,
              "ticks": ""
             }
            },
            "type": "parcoords"
           }
          ],
          "pie": [
           {
            "automargin": true,
            "type": "pie"
           }
          ],
          "scatter": [
           {
            "fillpattern": {
             "fillmode": "overlay",
             "size": 10,
             "solidity": 0.2
            },
            "type": "scatter"
           }
          ],
          "scatter3d": [
           {
            "line": {
             "colorbar": {
              "outlinewidth": 0,
              "ticks": ""
             }
            },
            "marker": {
             "colorbar": {
              "outlinewidth": 0,
              "ticks": ""
             }
            },
            "type": "scatter3d"
           }
          ],
          "scattercarpet": [
           {
            "marker": {
             "colorbar": {
              "outlinewidth": 0,
              "ticks": ""
             }
            },
            "type": "scattercarpet"
           }
          ],
          "scattergeo": [
           {
            "marker": {
             "colorbar": {
              "outlinewidth": 0,
              "ticks": ""
             }
            },
            "type": "scattergeo"
           }
          ],
          "scattergl": [
           {
            "marker": {
             "colorbar": {
              "outlinewidth": 0,
              "ticks": ""
             }
            },
            "type": "scattergl"
           }
          ],
          "scattermapbox": [
           {
            "marker": {
             "colorbar": {
              "outlinewidth": 0,
              "ticks": ""
             }
            },
            "type": "scattermapbox"
           }
          ],
          "scatterpolar": [
           {
            "marker": {
             "colorbar": {
              "outlinewidth": 0,
              "ticks": ""
             }
            },
            "type": "scatterpolar"
           }
          ],
          "scatterpolargl": [
           {
            "marker": {
             "colorbar": {
              "outlinewidth": 0,
              "ticks": ""
             }
            },
            "type": "scatterpolargl"
           }
          ],
          "scatterternary": [
           {
            "marker": {
             "colorbar": {
              "outlinewidth": 0,
              "ticks": ""
             }
            },
            "type": "scatterternary"
           }
          ],
          "surface": [
           {
            "colorbar": {
             "outlinewidth": 0,
             "ticks": ""
            },
            "colorscale": [
             [
              0,
              "#0d0887"
             ],
             [
              0.1111111111111111,
              "#46039f"
             ],
             [
              0.2222222222222222,
              "#7201a8"
             ],
             [
              0.3333333333333333,
              "#9c179e"
             ],
             [
              0.4444444444444444,
              "#bd3786"
             ],
             [
              0.5555555555555556,
              "#d8576b"
             ],
             [
              0.6666666666666666,
              "#ed7953"
             ],
             [
              0.7777777777777778,
              "#fb9f3a"
             ],
             [
              0.8888888888888888,
              "#fdca26"
             ],
             [
              1,
              "#f0f921"
             ]
            ],
            "type": "surface"
           }
          ],
          "table": [
           {
            "cells": {
             "fill": {
              "color": "#EBF0F8"
             },
             "line": {
              "color": "white"
             }
            },
            "header": {
             "fill": {
              "color": "#C8D4E3"
             },
             "line": {
              "color": "white"
             }
            },
            "type": "table"
           }
          ]
         },
         "layout": {
          "annotationdefaults": {
           "arrowcolor": "#2a3f5f",
           "arrowhead": 0,
           "arrowwidth": 1
          },
          "autotypenumbers": "strict",
          "coloraxis": {
           "colorbar": {
            "outlinewidth": 0,
            "ticks": ""
           }
          },
          "colorscale": {
           "diverging": [
            [
             0,
             "#8e0152"
            ],
            [
             0.1,
             "#c51b7d"
            ],
            [
             0.2,
             "#de77ae"
            ],
            [
             0.3,
             "#f1b6da"
            ],
            [
             0.4,
             "#fde0ef"
            ],
            [
             0.5,
             "#f7f7f7"
            ],
            [
             0.6,
             "#e6f5d0"
            ],
            [
             0.7,
             "#b8e186"
            ],
            [
             0.8,
             "#7fbc41"
            ],
            [
             0.9,
             "#4d9221"
            ],
            [
             1,
             "#276419"
            ]
           ],
           "sequential": [
            [
             0,
             "#0d0887"
            ],
            [
             0.1111111111111111,
             "#46039f"
            ],
            [
             0.2222222222222222,
             "#7201a8"
            ],
            [
             0.3333333333333333,
             "#9c179e"
            ],
            [
             0.4444444444444444,
             "#bd3786"
            ],
            [
             0.5555555555555556,
             "#d8576b"
            ],
            [
             0.6666666666666666,
             "#ed7953"
            ],
            [
             0.7777777777777778,
             "#fb9f3a"
            ],
            [
             0.8888888888888888,
             "#fdca26"
            ],
            [
             1,
             "#f0f921"
            ]
           ],
           "sequentialminus": [
            [
             0,
             "#0d0887"
            ],
            [
             0.1111111111111111,
             "#46039f"
            ],
            [
             0.2222222222222222,
             "#7201a8"
            ],
            [
             0.3333333333333333,
             "#9c179e"
            ],
            [
             0.4444444444444444,
             "#bd3786"
            ],
            [
             0.5555555555555556,
             "#d8576b"
            ],
            [
             0.6666666666666666,
             "#ed7953"
            ],
            [
             0.7777777777777778,
             "#fb9f3a"
            ],
            [
             0.8888888888888888,
             "#fdca26"
            ],
            [
             1,
             "#f0f921"
            ]
           ]
          },
          "colorway": [
           "#636efa",
           "#EF553B",
           "#00cc96",
           "#ab63fa",
           "#FFA15A",
           "#19d3f3",
           "#FF6692",
           "#B6E880",
           "#FF97FF",
           "#FECB52"
          ],
          "font": {
           "color": "#2a3f5f"
          },
          "geo": {
           "bgcolor": "white",
           "lakecolor": "white",
           "landcolor": "#E5ECF6",
           "showlakes": true,
           "showland": true,
           "subunitcolor": "white"
          },
          "hoverlabel": {
           "align": "left"
          },
          "hovermode": "closest",
          "mapbox": {
           "style": "light"
          },
          "paper_bgcolor": "white",
          "plot_bgcolor": "#E5ECF6",
          "polar": {
           "angularaxis": {
            "gridcolor": "white",
            "linecolor": "white",
            "ticks": ""
           },
           "bgcolor": "#E5ECF6",
           "radialaxis": {
            "gridcolor": "white",
            "linecolor": "white",
            "ticks": ""
           }
          },
          "scene": {
           "xaxis": {
            "backgroundcolor": "#E5ECF6",
            "gridcolor": "white",
            "gridwidth": 2,
            "linecolor": "white",
            "showbackground": true,
            "ticks": "",
            "zerolinecolor": "white"
           },
           "yaxis": {
            "backgroundcolor": "#E5ECF6",
            "gridcolor": "white",
            "gridwidth": 2,
            "linecolor": "white",
            "showbackground": true,
            "ticks": "",
            "zerolinecolor": "white"
           },
           "zaxis": {
            "backgroundcolor": "#E5ECF6",
            "gridcolor": "white",
            "gridwidth": 2,
            "linecolor": "white",
            "showbackground": true,
            "ticks": "",
            "zerolinecolor": "white"
           }
          },
          "shapedefaults": {
           "line": {
            "color": "#2a3f5f"
           }
          },
          "ternary": {
           "aaxis": {
            "gridcolor": "white",
            "linecolor": "white",
            "ticks": ""
           },
           "baxis": {
            "gridcolor": "white",
            "linecolor": "white",
            "ticks": ""
           },
           "bgcolor": "#E5ECF6",
           "caxis": {
            "gridcolor": "white",
            "linecolor": "white",
            "ticks": ""
           }
          },
          "title": {
           "x": 0.05
          },
          "xaxis": {
           "automargin": true,
           "gridcolor": "white",
           "linecolor": "white",
           "ticks": "",
           "title": {
            "standoff": 15
           },
           "zerolinecolor": "white",
           "zerolinewidth": 2
          },
          "yaxis": {
           "automargin": true,
           "gridcolor": "white",
           "linecolor": "white",
           "ticks": "",
           "title": {
            "standoff": 15
           },
           "zerolinecolor": "white",
           "zerolinewidth": 2
          }
         }
        },
        "xaxis": {
         "anchor": "y",
         "autorange": true,
         "domain": [
          0,
          1
         ],
         "range": [
          "2023-07-06 19:54:11",
          "2023-07-08 17:58:02"
         ],
         "title": {
          "text": "datetime"
         },
         "type": "date"
        },
        "yaxis": {
         "anchor": "x",
         "autorange": true,
         "domain": [
          0,
          1
         ],
         "range": [
          0.01780555562840569,
          1.7936944721473589
         ],
         "title": {
          "text": "abs"
         },
         "type": "linear"
        }
       }
      },
      "image/png": "[encoded data removed]",
      "text/html": [
       "<div>                            <div id=\"26e4a73b-a0e9-47a4-9fb2-3f1129146f98\" class=\"plotly-graph-div\" style=\"height:525px; width:100%;\"></div>            <script type=\"text/javascript\">                require([\"plotly\"], function(Plotly) {                    window.PLOTLYENV=window.PLOTLYENV || {};                                    if (document.getElementById(\"26e4a73b-a0e9-47a4-9fb2-3f1129146f98\")) {                    Plotly.newPlot(                        \"26e4a73b-a0e9-47a4-9fb2-3f1129146f98\",                        [{\"hovertemplate\":\"well=A1<br>datetime=%{x}<br>abs=%{y}<extra></extra>\",\"legendgroup\":\"A1\",\"line\":{\"color\":\"#636efa\",\"dash\":\"solid\"},\"marker\":{\"symbol\":\"circle\"},\"mode\":\"lines\",\"name\":\"A1\",\"orientation\":\"v\",\"showlegend\":true,\"x\":[\"2023-07-06 19:54:11\",\"2023-07-07 09:53:08\",\"2023-07-07 16:06:22\",\"2023-07-07 16:10:56\",\"2023-07-08 17:58:02\"],\"xaxis\":\"x\",\"y\":[0.13910000026226044,0.3806000053882599,0.40380001068115234,0.349700003862381,0.6754999756813049],\"yaxis\":\"y\",\"type\":\"scatter\"},{\"hovertemplate\":\"well=B1<br>datetime=%{x}<br>abs=%{y}<extra></extra>\",\"legendgroup\":\"B1\",\"line\":{\"color\":\"#EF553B\",\"dash\":\"solid\"},\"marker\":{\"symbol\":\"circle\"},\"mode\":\"lines\",\"name\":\"B1\",\"orientation\":\"v\",\"showlegend\":true,\"x\":[\"2023-07-06 19:54:11\",\"2023-07-07 09:53:08\",\"2023-07-07 16:06:22\",\"2023-07-07 16:10:56\",\"2023-07-08 17:58:02\"],\"xaxis\":\"x\",\"y\":[0.15139999985694885,0.760200023651123,0.7735999822616577,0.28139999508857727,0.5615000128746033],\"yaxis\":\"y\",\"type\":\"scatter\"},{\"hovertemplate\":\"well=C1<br>datetime=%{x}<br>abs=%{y}<extra></extra>\",\"legendgroup\":\"C1\",\"line\":{\"color\":\"#00cc96\",\"dash\":\"solid\"},\"marker\":{\"symbol\":\"circle\"},\"mode\":\"lines\",\"name\":\"C1\",\"orientation\":\"v\",\"showlegend\":true,\"x\":[\"2023-07-06 19:54:11\",\"2023-07-07 09:53:08\",\"2023-07-07 16:06:22\",\"2023-07-07 16:10:56\",\"2023-07-08 17:58:02\"],\"xaxis\":\"x\",\"y\":[0.15549999475479126,0.7057999968528748,0.7915999889373779,0.3416999876499176,0.4090999960899353],\"yaxis\":\"y\",\"type\":\"scatter\"},{\"hovertemplate\":\"well=D1<br>datetime=%{x}<br>abs=%{y}<extra></extra>\",\"legendgroup\":\"D1\",\"line\":{\"color\":\"#ab63fa\",\"dash\":\"solid\"},\"marker\":{\"symbol\":\"circle\"},\"mode\":\"lines\",\"name\":\"D1\",\"orientation\":\"v\",\"showlegend\":true,\"x\":[\"2023-07-06 19:54:11\",\"2023-07-07 09:53:08\",\"2023-07-07 16:06:22\",\"2023-07-07 16:10:56\",\"2023-07-08 17:58:02\"],\"xaxis\":\"x\",\"y\":[0.16030000150203705,0.9350000023841858,0.9670000076293945,0.31949999928474426,0.40700000524520874],\"yaxis\":\"y\",\"type\":\"scatter\"},{\"hovertemplate\":\"well=E1<br>datetime=%{x}<br>abs=%{y}<extra></extra>\",\"legendgroup\":\"E1\",\"line\":{\"color\":\"#FFA15A\",\"dash\":\"solid\"},\"marker\":{\"symbol\":\"circle\"},\"mode\":\"lines\",\"name\":\"E1\",\"orientation\":\"v\",\"showlegend\":true,\"x\":[\"2023-07-06 19:54:11\",\"2023-07-07 09:53:08\",\"2023-07-07 16:06:22\",\"2023-07-07 16:10:56\",\"2023-07-08 17:58:02\"],\"xaxis\":\"x\",\"y\":[0.16750000417232513,0.43790000677108765,0.4487000107765198,0.2770000100135803,0.37119999527931213],\"yaxis\":\"y\",\"type\":\"scatter\"},{\"hovertemplate\":\"well=F1<br>datetime=%{x}<br>abs=%{y}<extra></extra>\",\"legendgroup\":\"F1\",\"line\":{\"color\":\"#19d3f3\",\"dash\":\"solid\"},\"marker\":{\"symbol\":\"circle\"},\"mode\":\"lines\",\"name\":\"F1\",\"orientation\":\"v\",\"showlegend\":true,\"x\":[\"2023-07-06 19:54:11\",\"2023-07-07 09:53:08\",\"2023-07-07 16:06:22\",\"2023-07-07 16:10:56\",\"2023-07-08 17:58:02\"],\"xaxis\":\"x\",\"y\":[0.16899999976158142,1.1211999654769897,0.4189000129699707,0.3564999997615814,0.4300000071525574],\"yaxis\":\"y\",\"type\":\"scatter\"},{\"hovertemplate\":\"well=G1<br>datetime=%{x}<br>abs=%{y}<extra></extra>\",\"legendgroup\":\"G1\",\"line\":{\"color\":\"#FF6692\",\"dash\":\"solid\"},\"marker\":{\"symbol\":\"circle\"},\"mode\":\"lines\",\"name\":\"G1\",\"orientation\":\"v\",\"showlegend\":true,\"x\":[\"2023-07-06 19:54:11\",\"2023-07-07 09:53:08\",\"2023-07-07 16:06:22\",\"2023-07-07 16:10:56\",\"2023-07-08 17:58:02\"],\"xaxis\":\"x\",\"y\":[0.15760000050067902,0.5569000244140625,0.7515000104904175,0.3515999913215637,0.5613999962806702],\"yaxis\":\"y\",\"type\":\"scatter\"},{\"hovertemplate\":\"well=H1<br>datetime=%{x}<br>abs=%{y}<extra></extra>\",\"legendgroup\":\"H1\",\"line\":{\"color\":\"#B6E880\",\"dash\":\"solid\"},\"marker\":{\"symbol\":\"circle\"},\"mode\":\"lines\",\"name\":\"H1\",\"orientation\":\"v\",\"showlegend\":true,\"x\":[\"2023-07-06 19:54:11\",\"2023-07-07 09:53:08\",\"2023-07-07 16:06:22\",\"2023-07-07 16:10:56\",\"2023-07-08 17:58:02\"],\"xaxis\":\"x\",\"y\":[0.1469999998807907,0.9240999817848206,0.8849999904632568,0.43050000071525574,0.6158000230789185],\"yaxis\":\"y\",\"type\":\"scatter\"},{\"hovertemplate\":\"well=A2<br>datetime=%{x}<br>abs=%{y}<extra></extra>\",\"legendgroup\":\"A2\",\"line\":{\"color\":\"#FF97FF\",\"dash\":\"solid\"},\"marker\":{\"symbol\":\"circle\"},\"mode\":\"lines\",\"name\":\"A2\",\"orientation\":\"v\",\"showlegend\":true,\"x\":[\"2023-07-06 19:54:11\",\"2023-07-07 09:53:08\",\"2023-07-07 16:06:22\",\"2023-07-07 16:10:56\",\"2023-07-08 17:58:02\"],\"xaxis\":\"x\",\"y\":[0.14139999449253082,0.663100004196167,0.32600000500679016,0.2775999903678894,0.3840999901294708],\"yaxis\":\"y\",\"type\":\"scatter\"},{\"hovertemplate\":\"well=B2<br>datetime=%{x}<br>abs=%{y}<extra></extra>\",\"legendgroup\":\"B2\",\"line\":{\"color\":\"#FECB52\",\"dash\":\"solid\"},\"marker\":{\"symbol\":\"circle\"},\"mode\":\"lines\",\"name\":\"B2\",\"orientation\":\"v\",\"showlegend\":true,\"x\":[\"2023-07-06 19:54:11\",\"2023-07-07 09:53:08\",\"2023-07-07 16:06:22\",\"2023-07-07 16:10:56\",\"2023-07-08 17:58:02\"],\"xaxis\":\"x\",\"y\":[0.15070000290870667,0.7573999762535095,0.7312999963760376,0.3352000117301941,0.5863000154495239],\"yaxis\":\"y\",\"type\":\"scatter\"},{\"hovertemplate\":\"well=C2<br>datetime=%{x}<br>abs=%{y}<extra></extra>\",\"legendgroup\":\"C2\",\"line\":{\"color\":\"#636efa\",\"dash\":\"solid\"},\"marker\":{\"symbol\":\"circle\"},\"mode\":\"lines\",\"name\":\"C2\",\"orientation\":\"v\",\"showlegend\":true,\"x\":[\"2023-07-06 19:54:11\",\"2023-07-07 09:53:08\",\"2023-07-07 16:06:22\",\"2023-07-07 16:10:56\",\"2023-07-08 17:58:02\"],\"xaxis\":\"x\",\"y\":[0.1573999971151352,0.4812000095844269,0.6958000063896179,0.3885999917984009,0.5194000005722046],\"yaxis\":\"y\",\"type\":\"scatter\"},{\"hovertemplate\":\"well=D2<br>datetime=%{x}<br>abs=%{y}<extra></extra>\",\"legendgroup\":\"D2\",\"line\":{\"color\":\"#EF553B\",\"dash\":\"solid\"},\"marker\":{\"symbol\":\"circle\"},\"mode\":\"lines\",\"name\":\"D2\",\"orientation\":\"v\",\"showlegend\":true,\"x\":[\"2023-07-06 19:54:11\",\"2023-07-07 09:53:08\",\"2023-07-07 16:06:22\",\"2023-07-07 16:10:56\",\"2023-07-08 17:58:02\"],\"xaxis\":\"x\",\"y\":[0.16339999437332153,1.0211999416351318,0.4221000075340271,0.34630000591278076,0.506600022315979],\"yaxis\":\"y\",\"type\":\"scatter\"},{\"hovertemplate\":\"well=E2<br>datetime=%{x}<br>abs=%{y}<extra></extra>\",\"legendgroup\":\"E2\",\"line\":{\"color\":\"#00cc96\",\"dash\":\"solid\"},\"marker\":{\"symbol\":\"circle\"},\"mode\":\"lines\",\"name\":\"E2\",\"orientation\":\"v\",\"showlegend\":true,\"x\":[\"2023-07-06 19:54:11\",\"2023-07-07 09:53:08\",\"2023-07-07 16:06:22\",\"2023-07-07 16:10:56\",\"2023-07-08 17:58:02\"],\"xaxis\":\"x\",\"y\":[0.16249999403953552,1.1210999488830566,0.4577000141143799,0.38449999690055847,0.43320000171661377],\"yaxis\":\"y\",\"type\":\"scatter\"},{\"hovertemplate\":\"well=F2<br>datetime=%{x}<br>abs=%{y}<extra></extra>\",\"legendgroup\":\"F2\",\"line\":{\"color\":\"#ab63fa\",\"dash\":\"solid\"},\"marker\":{\"symbol\":\"circle\"},\"mode\":\"lines\",\"name\":\"F2\",\"orientation\":\"v\",\"showlegend\":true,\"x\":[\"2023-07-06 19:54:11\",\"2023-07-07 09:53:08\",\"2023-07-07 16:06:22\",\"2023-07-07 16:10:56\",\"2023-07-08 17:58:02\"],\"xaxis\":\"x\",\"y\":[0.16009999811649323,1.5577000379562378,1.2520999908447266,0.3375000059604645,0.38749998807907104],\"yaxis\":\"y\",\"type\":\"scatter\"},{\"hovertemplate\":\"well=G2<br>datetime=%{x}<br>abs=%{y}<extra></extra>\",\"legendgroup\":\"G2\",\"line\":{\"color\":\"#FFA15A\",\"dash\":\"solid\"},\"marker\":{\"symbol\":\"circle\"},\"mode\":\"lines\",\"name\":\"G2\",\"orientation\":\"v\",\"showlegend\":true,\"x\":[\"2023-07-06 19:54:11\",\"2023-07-07 09:53:08\",\"2023-07-07 16:06:22\",\"2023-07-07 16:10:56\",\"2023-07-08 17:58:02\"],\"xaxis\":\"x\",\"y\":[0.16189999878406525,1.0633000135421753,0.42739999294281006,0.3594000041484833,0.5180000066757202],\"yaxis\":\"y\",\"type\":\"scatter\"},{\"hovertemplate\":\"well=H2<br>datetime=%{x}<br>abs=%{y}<extra></extra>\",\"legendgroup\":\"H2\",\"line\":{\"color\":\"#19d3f3\",\"dash\":\"solid\"},\"marker\":{\"symbol\":\"circle\"},\"mode\":\"lines\",\"name\":\"H2\",\"orientation\":\"v\",\"showlegend\":true,\"x\":[\"2023-07-06 19:54:11\",\"2023-07-07 09:53:08\",\"2023-07-07 16:06:22\",\"2023-07-07 16:10:56\",\"2023-07-08 17:58:02\"],\"xaxis\":\"x\",\"y\":[0.14990000426769257,0.48339998722076416,0.6287000179290771,0.3375000059604645,0.5259000062942505],\"yaxis\":\"y\",\"type\":\"scatter\"},{\"hovertemplate\":\"well=A3<br>datetime=%{x}<br>abs=%{y}<extra></extra>\",\"legendgroup\":\"A3\",\"line\":{\"color\":\"#FF6692\",\"dash\":\"solid\"},\"marker\":{\"symbol\":\"circle\"},\"mode\":\"lines\",\"name\":\"A3\",\"orientation\":\"v\",\"showlegend\":true,\"x\":[\"2023-07-06 19:54:11\",\"2023-07-07 09:53:08\",\"2023-07-07 16:06:22\",\"2023-07-07 16:10:56\",\"2023-07-08 17:58:02\"],\"xaxis\":\"x\",\"y\":[0.14159999787807465,0.8145999908447266,0.9998000264167786,0.29260000586509705,0.5426999926567078],\"yaxis\":\"y\",\"type\":\"scatter\"},{\"hovertemplate\":\"well=B3<br>datetime=%{x}<br>abs=%{y}<extra></extra>\",\"legendgroup\":\"B3\",\"line\":{\"color\":\"#B6E880\",\"dash\":\"solid\"},\"marker\":{\"symbol\":\"circle\"},\"mode\":\"lines\",\"name\":\"B3\",\"orientation\":\"v\",\"showlegend\":true,\"x\":[\"2023-07-06 19:54:11\",\"2023-07-07 09:53:08\",\"2023-07-07 16:06:22\",\"2023-07-07 16:10:56\",\"2023-07-08 17:58:02\"],\"xaxis\":\"x\",\"y\":[0.14810000360012054,0.3075000047683716,0.5113000273704529,0.3312999904155731,0.5529000163078308],\"yaxis\":\"y\",\"type\":\"scatter\"},{\"hovertemplate\":\"well=C3<br>datetime=%{x}<br>abs=%{y}<extra></extra>\",\"legendgroup\":\"C3\",\"line\":{\"color\":\"#FF97FF\",\"dash\":\"solid\"},\"marker\":{\"symbol\":\"circle\"},\"mode\":\"lines\",\"name\":\"C3\",\"orientation\":\"v\",\"showlegend\":true,\"x\":[\"2023-07-06 19:54:11\",\"2023-07-07 09:53:08\",\"2023-07-07 16:06:22\",\"2023-07-07 16:10:56\",\"2023-07-08 17:58:02\"],\"xaxis\":\"x\",\"y\":[0.15530000627040863,1.0491000413894653,0.35100001096725464,0.28450000286102295,0.5303000211715698],\"yaxis\":\"y\",\"type\":\"scatter\"},{\"hovertemplate\":\"well=D3<br>datetime=%{x}<br>abs=%{y}<extra></extra>\",\"legendgroup\":\"D3\",\"line\":{\"color\":\"#FECB52\",\"dash\":\"solid\"},\"marker\":{\"symbol\":\"circle\"},\"mode\":\"lines\",\"name\":\"D3\",\"orientation\":\"v\",\"showlegend\":true,\"x\":[\"2023-07-06 19:54:11\",\"2023-07-07 09:53:08\",\"2023-07-07 16:06:22\",\"2023-07-07 16:10:56\",\"2023-07-08 17:58:02\"],\"xaxis\":\"x\",\"y\":[0.15710000693798065,0.948199987411499,1.3228000402450562,0.3393000066280365,0.6212999820709229],\"yaxis\":\"y\",\"type\":\"scatter\"},{\"hovertemplate\":\"well=E3<br>datetime=%{x}<br>abs=%{y}<extra></extra>\",\"legendgroup\":\"E3\",\"line\":{\"color\":\"#636efa\",\"dash\":\"solid\"},\"marker\":{\"symbol\":\"circle\"},\"mode\":\"lines\",\"name\":\"E3\",\"orientation\":\"v\",\"showlegend\":true,\"x\":[\"2023-07-06 19:54:11\",\"2023-07-07 09:53:08\",\"2023-07-07 16:06:22\",\"2023-07-07 16:10:56\",\"2023-07-08 17:58:02\"],\"xaxis\":\"x\",\"y\":[0.15780000388622284,0.8903999924659729,1.256600022315979,0.2653000056743622,0.3012000024318695],\"yaxis\":\"y\",\"type\":\"scatter\"},{\"hovertemplate\":\"well=F3<br>datetime=%{x}<br>abs=%{y}<extra></extra>\",\"legendgroup\":\"F3\",\"line\":{\"color\":\"#EF553B\",\"dash\":\"solid\"},\"marker\":{\"symbol\":\"circle\"},\"mode\":\"lines\",\"name\":\"F3\",\"orientation\":\"v\",\"showlegend\":true,\"x\":[\"2023-07-06 19:54:11\",\"2023-07-07 09:53:08\",\"2023-07-07 16:06:22\",\"2023-07-07 16:10:56\",\"2023-07-08 17:58:02\"],\"xaxis\":\"x\",\"y\":[0.16429999470710754,0.7447999715805054,0.40220001339912415,0.28119999170303345,0.44839999079704285],\"yaxis\":\"y\",\"type\":\"scatter\"},{\"hovertemplate\":\"well=G3<br>datetime=%{x}<br>abs=%{y}<extra></extra>\",\"legendgroup\":\"G3\",\"line\":{\"color\":\"#00cc96\",\"dash\":\"solid\"},\"marker\":{\"symbol\":\"circle\"},\"mode\":\"lines\",\"name\":\"G3\",\"orientation\":\"v\",\"showlegend\":true,\"x\":[\"2023-07-06 19:54:11\",\"2023-07-07 09:53:08\",\"2023-07-07 16:06:22\",\"2023-07-07 16:10:56\",\"2023-07-08 17:58:02\"],\"xaxis\":\"x\",\"y\":[0.16329999268054962,0.5705999732017517,0.3978999853134155,0.3116999864578247,0.6669999957084656],\"yaxis\":\"y\",\"type\":\"scatter\"},{\"hovertemplate\":\"well=H3<br>datetime=%{x}<br>abs=%{y}<extra></extra>\",\"legendgroup\":\"H3\",\"line\":{\"color\":\"#ab63fa\",\"dash\":\"solid\"},\"marker\":{\"symbol\":\"circle\"},\"mode\":\"lines\",\"name\":\"H3\",\"orientation\":\"v\",\"showlegend\":true,\"x\":[\"2023-07-06 19:54:11\",\"2023-07-07 09:53:08\",\"2023-07-07 16:06:22\",\"2023-07-07 16:10:56\",\"2023-07-08 17:58:02\"],\"xaxis\":\"x\",\"y\":[0.1543000042438507,0.6349999904632568,0.8988999724388123,0.30059999227523804,0.3977000117301941],\"yaxis\":\"y\",\"type\":\"scatter\"},{\"hovertemplate\":\"well=A4<br>datetime=%{x}<br>abs=%{y}<extra></extra>\",\"legendgroup\":\"A4\",\"line\":{\"color\":\"#FFA15A\",\"dash\":\"solid\"},\"marker\":{\"symbol\":\"circle\"},\"mode\":\"lines\",\"name\":\"A4\",\"orientation\":\"v\",\"showlegend\":true,\"x\":[\"2023-07-06 19:54:11\",\"2023-07-07 09:53:08\",\"2023-07-07 16:06:22\",\"2023-07-07 16:10:56\",\"2023-07-08 17:58:02\"],\"xaxis\":\"x\",\"y\":[0.14159999787807465,0.8090000152587891,1.154099941253662,0.31630000472068787,0.43140000104904175],\"yaxis\":\"y\",\"type\":\"scatter\"},{\"hovertemplate\":\"well=B4<br>datetime=%{x}<br>abs=%{y}<extra></extra>\",\"legendgroup\":\"B4\",\"line\":{\"color\":\"#19d3f3\",\"dash\":\"solid\"},\"marker\":{\"symbol\":\"circle\"},\"mode\":\"lines\",\"name\":\"B4\",\"orientation\":\"v\",\"showlegend\":true,\"x\":[\"2023-07-06 19:54:11\",\"2023-07-07 09:53:08\",\"2023-07-07 16:06:22\",\"2023-07-07 16:10:56\",\"2023-07-08 17:58:02\"],\"xaxis\":\"x\",\"y\":[0.1459999978542328,0.3222000002861023,0.4332999885082245,0.33059999346733093,0.4219000041484833],\"yaxis\":\"y\",\"type\":\"scatter\"},{\"hovertemplate\":\"well=C4<br>datetime=%{x}<br>abs=%{y}<extra></extra>\",\"legendgroup\":\"C4\",\"line\":{\"color\":\"#FF6692\",\"dash\":\"solid\"},\"marker\":{\"symbol\":\"circle\"},\"mode\":\"lines\",\"name\":\"C4\",\"orientation\":\"v\",\"showlegend\":true,\"x\":[\"2023-07-06 19:54:11\",\"2023-07-07 09:53:08\",\"2023-07-07 16:06:22\",\"2023-07-07 16:10:56\",\"2023-07-08 17:58:02\"],\"xaxis\":\"x\",\"y\":[0.15029999613761902,0.3560999929904938,0.578499972820282,0.2533999979496002,0.34439998865127563],\"yaxis\":\"y\",\"type\":\"scatter\"},{\"hovertemplate\":\"well=D4<br>datetime=%{x}<br>abs=%{y}<extra></extra>\",\"legendgroup\":\"D4\",\"line\":{\"color\":\"#B6E880\",\"dash\":\"solid\"},\"marker\":{\"symbol\":\"circle\"},\"mode\":\"lines\",\"name\":\"D4\",\"orientation\":\"v\",\"showlegend\":true,\"x\":[\"2023-07-06 19:54:11\",\"2023-07-07 09:53:08\",\"2023-07-07 16:06:22\",\"2023-07-07 16:10:56\",\"2023-07-08 17:58:02\"],\"xaxis\":\"x\",\"y\":[0.164000004529953,0.6571000218391418,1.354099988937378,0.3190000057220459,0.4578000009059906],\"yaxis\":\"y\",\"type\":\"scatter\"},{\"hovertemplate\":\"well=E4<br>datetime=%{x}<br>abs=%{y}<extra></extra>\",\"legendgroup\":\"E4\",\"line\":{\"color\":\"#FF97FF\",\"dash\":\"solid\"},\"marker\":{\"symbol\":\"circle\"},\"mode\":\"lines\",\"name\":\"E4\",\"orientation\":\"v\",\"showlegend\":true,\"x\":[\"2023-07-06 19:54:11\",\"2023-07-07 09:53:08\",\"2023-07-07 16:06:22\",\"2023-07-07 16:10:56\",\"2023-07-08 17:58:02\"],\"xaxis\":\"x\",\"y\":[0.1623000055551529,0.7480999827384949,0.9193000197410583,0.33079999685287476,0.47119998931884766],\"yaxis\":\"y\",\"type\":\"scatter\"},{\"hovertemplate\":\"well=F4<br>datetime=%{x}<br>abs=%{y}<extra></extra>\",\"legendgroup\":\"F4\",\"line\":{\"color\":\"#FECB52\",\"dash\":\"solid\"},\"marker\":{\"symbol\":\"circle\"},\"mode\":\"lines\",\"name\":\"F4\",\"orientation\":\"v\",\"showlegend\":true,\"x\":[\"2023-07-06 19:54:11\",\"2023-07-07 09:53:08\",\"2023-07-07 16:06:22\",\"2023-07-07 16:10:56\",\"2023-07-08 17:58:02\"],\"xaxis\":\"x\",\"y\":[0.16110000014305115,0.2856999933719635,0.4372999966144562,0.10660000145435333,0.5491999983787537],\"yaxis\":\"y\",\"type\":\"scatter\"},{\"hovertemplate\":\"well=G4<br>datetime=%{x}<br>abs=%{y}<extra></extra>\",\"legendgroup\":\"G4\",\"line\":{\"color\":\"#636efa\",\"dash\":\"solid\"},\"marker\":{\"symbol\":\"circle\"},\"mode\":\"lines\",\"name\":\"G4\",\"orientation\":\"v\",\"showlegend\":true,\"x\":[\"2023-07-06 19:54:11\",\"2023-07-07 09:53:08\",\"2023-07-07 16:06:22\",\"2023-07-07 16:10:56\",\"2023-07-08 17:58:02\"],\"xaxis\":\"x\",\"y\":[0.1615999937057495,0.3822999894618988,0.5317000150680542,0.24469999969005585,0.3449999988079071],\"yaxis\":\"y\",\"type\":\"scatter\"},{\"hovertemplate\":\"well=H4<br>datetime=%{x}<br>abs=%{y}<extra></extra>\",\"legendgroup\":\"H4\",\"line\":{\"color\":\"#EF553B\",\"dash\":\"solid\"},\"marker\":{\"symbol\":\"circle\"},\"mode\":\"lines\",\"name\":\"H4\",\"orientation\":\"v\",\"showlegend\":true,\"x\":[\"2023-07-06 19:54:11\",\"2023-07-07 09:53:08\",\"2023-07-07 16:06:22\",\"2023-07-07 16:10:56\",\"2023-07-08 17:58:02\"],\"xaxis\":\"x\",\"y\":[0.14910000562667847,0.4138000011444092,0.3479999899864197,0.323199987411499,0.47440001368522644],\"yaxis\":\"y\",\"type\":\"scatter\"},{\"hovertemplate\":\"well=A5<br>datetime=%{x}<br>abs=%{y}<extra></extra>\",\"legendgroup\":\"A5\",\"line\":{\"color\":\"#00cc96\",\"dash\":\"solid\"},\"marker\":{\"symbol\":\"circle\"},\"mode\":\"lines\",\"name\":\"A5\",\"orientation\":\"v\",\"showlegend\":true,\"x\":[\"2023-07-06 19:54:11\",\"2023-07-07 09:53:08\",\"2023-07-07 16:06:22\",\"2023-07-07 16:10:56\",\"2023-07-08 17:58:02\"],\"xaxis\":\"x\",\"y\":[0.14249999821186066,0.3449999988079071,0.8111000061035156,0.29670000076293945,0.4546999931335449],\"yaxis\":\"y\",\"type\":\"scatter\"},{\"hovertemplate\":\"well=B5<br>datetime=%{x}<br>abs=%{y}<extra></extra>\",\"legendgroup\":\"B5\",\"line\":{\"color\":\"#ab63fa\",\"dash\":\"solid\"},\"marker\":{\"symbol\":\"circle\"},\"mode\":\"lines\",\"name\":\"B5\",\"orientation\":\"v\",\"showlegend\":true,\"x\":[\"2023-07-06 19:54:11\",\"2023-07-07 09:53:08\",\"2023-07-07 16:06:22\",\"2023-07-07 16:10:56\",\"2023-07-08 17:58:02\"],\"xaxis\":\"x\",\"y\":[0.1526000052690506,0.9932000041007996,1.2467999458312988,0.2831000089645386,0.5698000192642212],\"yaxis\":\"y\",\"type\":\"scatter\"},{\"hovertemplate\":\"well=C5<br>datetime=%{x}<br>abs=%{y}<extra></extra>\",\"legendgroup\":\"C5\",\"line\":{\"color\":\"#FFA15A\",\"dash\":\"solid\"},\"marker\":{\"symbol\":\"circle\"},\"mode\":\"lines\",\"name\":\"C5\",\"orientation\":\"v\",\"showlegend\":true,\"x\":[\"2023-07-06 19:54:11\",\"2023-07-07 09:53:08\",\"2023-07-07 16:06:22\",\"2023-07-07 16:10:56\",\"2023-07-08 17:58:02\"],\"xaxis\":\"x\",\"y\":[0.15520000457763672,0.34290000796318054,0.5164999961853027,0.3059999942779541,0.3930000066757202],\"yaxis\":\"y\",\"type\":\"scatter\"},{\"hovertemplate\":\"well=D5<br>datetime=%{x}<br>abs=%{y}<extra></extra>\",\"legendgroup\":\"D5\",\"line\":{\"color\":\"#19d3f3\",\"dash\":\"solid\"},\"marker\":{\"symbol\":\"circle\"},\"mode\":\"lines\",\"name\":\"D5\",\"orientation\":\"v\",\"showlegend\":true,\"x\":[\"2023-07-06 19:54:11\",\"2023-07-07 09:53:08\",\"2023-07-07 16:06:22\",\"2023-07-07 16:10:56\",\"2023-07-08 17:58:02\"],\"xaxis\":\"x\",\"y\":[0.15459999442100525,0.3366999924182892,0.631600022315979,0.4180999994277954,0.4794999957084656],\"yaxis\":\"y\",\"type\":\"scatter\"},{\"hovertemplate\":\"well=E5<br>datetime=%{x}<br>abs=%{y}<extra></extra>\",\"legendgroup\":\"E5\",\"line\":{\"color\":\"#FF6692\",\"dash\":\"solid\"},\"marker\":{\"symbol\":\"circle\"},\"mode\":\"lines\",\"name\":\"E5\",\"orientation\":\"v\",\"showlegend\":true,\"x\":[\"2023-07-06 19:54:11\",\"2023-07-07 09:53:08\",\"2023-07-07 16:06:22\",\"2023-07-07 16:10:56\",\"2023-07-08 17:58:02\"],\"xaxis\":\"x\",\"y\":[0.15729999542236328,0.412200003862381,1.3523999452590942,0.3082999885082245,0.47369998693466187],\"yaxis\":\"y\",\"type\":\"scatter\"},{\"hovertemplate\":\"well=F5<br>datetime=%{x}<br>abs=%{y}<extra></extra>\",\"legendgroup\":\"F5\",\"line\":{\"color\":\"#B6E880\",\"dash\":\"solid\"},\"marker\":{\"symbol\":\"circle\"},\"mode\":\"lines\",\"name\":\"F5\",\"orientation\":\"v\",\"showlegend\":true,\"x\":[\"2023-07-06 19:54:11\",\"2023-07-07 09:53:08\",\"2023-07-07 16:06:22\",\"2023-07-07 16:10:56\",\"2023-07-08 17:58:02\"],\"xaxis\":\"x\",\"y\":[0.1606999933719635,0.26339998841285706,0.3919000029563904,0.3264999985694885,0.504800021648407],\"yaxis\":\"y\",\"type\":\"scatter\"},{\"hovertemplate\":\"well=G5<br>datetime=%{x}<br>abs=%{y}<extra></extra>\",\"legendgroup\":\"G5\",\"line\":{\"color\":\"#FF97FF\",\"dash\":\"solid\"},\"marker\":{\"symbol\":\"circle\"},\"mode\":\"lines\",\"name\":\"G5\",\"orientation\":\"v\",\"showlegend\":true,\"x\":[\"2023-07-06 19:54:11\",\"2023-07-07 09:53:08\",\"2023-07-07 16:06:22\",\"2023-07-07 16:10:56\",\"2023-07-08 17:58:02\"],\"xaxis\":\"x\",\"y\":[0.15970000624656677,1.2839000225067139,1.7049000263214111,0.3075999915599823,0.2870999872684479],\"yaxis\":\"y\",\"type\":\"scatter\"},{\"hovertemplate\":\"well=H5<br>datetime=%{x}<br>abs=%{y}<extra></extra>\",\"legendgroup\":\"H5\",\"line\":{\"color\":\"#FECB52\",\"dash\":\"solid\"},\"marker\":{\"symbol\":\"circle\"},\"mode\":\"lines\",\"name\":\"H5\",\"orientation\":\"v\",\"showlegend\":true,\"x\":[\"2023-07-06 19:54:11\",\"2023-07-07 09:53:08\",\"2023-07-07 16:06:22\",\"2023-07-07 16:10:56\",\"2023-07-08 17:58:02\"],\"xaxis\":\"x\",\"y\":[0.1462000012397766,0.6571000218391418,0.7620000243186951,0.2386000007390976,0.3828999996185303],\"yaxis\":\"y\",\"type\":\"scatter\"},{\"hovertemplate\":\"well=A6<br>datetime=%{x}<br>abs=%{y}<extra></extra>\",\"legendgroup\":\"A6\",\"line\":{\"color\":\"#636efa\",\"dash\":\"solid\"},\"marker\":{\"symbol\":\"circle\"},\"mode\":\"lines\",\"name\":\"A6\",\"orientation\":\"v\",\"showlegend\":true,\"x\":[\"2023-07-06 19:54:11\",\"2023-07-07 09:53:08\",\"2023-07-07 16:06:22\",\"2023-07-07 16:10:56\",\"2023-07-08 17:58:02\"],\"xaxis\":\"x\",\"y\":[0.14489999413490295,0.564300000667572,0.6776000261306763,0.32760000228881836,0.641700029373169],\"yaxis\":\"y\",\"type\":\"scatter\"},{\"hovertemplate\":\"well=B6<br>datetime=%{x}<br>abs=%{y}<extra></extra>\",\"legendgroup\":\"B6\",\"line\":{\"color\":\"#EF553B\",\"dash\":\"solid\"},\"marker\":{\"symbol\":\"circle\"},\"mode\":\"lines\",\"name\":\"B6\",\"orientation\":\"v\",\"showlegend\":true,\"x\":[\"2023-07-06 19:54:11\",\"2023-07-07 09:53:08\",\"2023-07-07 16:06:22\",\"2023-07-07 16:10:56\",\"2023-07-08 17:58:02\"],\"xaxis\":\"x\",\"y\":[0.1460999995470047,0.8461999893188477,1.0494999885559082,0.3043000102043152,0.4027000069618225],\"yaxis\":\"y\",\"type\":\"scatter\"},{\"hovertemplate\":\"well=C6<br>datetime=%{x}<br>abs=%{y}<extra></extra>\",\"legendgroup\":\"C6\",\"line\":{\"color\":\"#00cc96\",\"dash\":\"solid\"},\"marker\":{\"symbol\":\"circle\"},\"mode\":\"lines\",\"name\":\"C6\",\"orientation\":\"v\",\"showlegend\":true,\"x\":[\"2023-07-06 19:54:11\",\"2023-07-07 09:53:08\",\"2023-07-07 16:06:22\",\"2023-07-07 16:10:56\",\"2023-07-08 17:58:02\"],\"xaxis\":\"x\",\"y\":[0.1550000011920929,0.37929999828338623,0.34610000252723694,0.28790000081062317,0.6092000007629395],\"yaxis\":\"y\",\"type\":\"scatter\"},{\"hovertemplate\":\"well=D6<br>datetime=%{x}<br>abs=%{y}<extra></extra>\",\"legendgroup\":\"D6\",\"line\":{\"color\":\"#ab63fa\",\"dash\":\"solid\"},\"marker\":{\"symbol\":\"circle\"},\"mode\":\"lines\",\"name\":\"D6\",\"orientation\":\"v\",\"showlegend\":true,\"x\":[\"2023-07-06 19:54:11\",\"2023-07-07 09:53:08\",\"2023-07-07 16:06:22\",\"2023-07-07 16:10:56\",\"2023-07-08 17:58:02\"],\"xaxis\":\"x\",\"y\":[0.1565999984741211,0.7512000203132629,0.3458000123500824,0.1404999941587448,0.16189999878406525],\"yaxis\":\"y\",\"type\":\"scatter\"},{\"hovertemplate\":\"well=E6<br>datetime=%{x}<br>abs=%{y}<extra></extra>\",\"legendgroup\":\"E6\",\"line\":{\"color\":\"#FFA15A\",\"dash\":\"solid\"},\"marker\":{\"symbol\":\"circle\"},\"mode\":\"lines\",\"name\":\"E6\",\"orientation\":\"v\",\"showlegend\":true,\"x\":[\"2023-07-06 19:54:11\",\"2023-07-07 09:53:08\",\"2023-07-07 16:06:22\",\"2023-07-07 16:10:56\",\"2023-07-08 17:58:02\"],\"xaxis\":\"x\",\"y\":[0.16850000619888306,1.1644999980926514,0.4325000047683716,0.33570000529289246,0.6230999827384949],\"yaxis\":\"y\",\"type\":\"scatter\"},{\"hovertemplate\":\"well=F6<br>datetime=%{x}<br>abs=%{y}<extra></extra>\",\"legendgroup\":\"F6\",\"line\":{\"color\":\"#19d3f3\",\"dash\":\"solid\"},\"marker\":{\"symbol\":\"circle\"},\"mode\":\"lines\",\"name\":\"F6\",\"orientation\":\"v\",\"showlegend\":true,\"x\":[\"2023-07-06 19:54:11\",\"2023-07-07 09:53:08\",\"2023-07-07 16:06:22\",\"2023-07-07 16:10:56\",\"2023-07-08 17:58:02\"],\"xaxis\":\"x\",\"y\":[0.16060000658035278,0.4894999861717224,0.507099986076355,0.35989999771118164,0.6682000160217285],\"yaxis\":\"y\",\"type\":\"scatter\"},{\"hovertemplate\":\"well=G6<br>datetime=%{x}<br>abs=%{y}<extra></extra>\",\"legendgroup\":\"G6\",\"line\":{\"color\":\"#FF6692\",\"dash\":\"solid\"},\"marker\":{\"symbol\":\"circle\"},\"mode\":\"lines\",\"name\":\"G6\",\"orientation\":\"v\",\"showlegend\":true,\"x\":[\"2023-07-06 19:54:11\",\"2023-07-07 09:53:08\",\"2023-07-07 16:06:22\",\"2023-07-07 16:10:56\",\"2023-07-08 17:58:02\"],\"xaxis\":\"x\",\"y\":[0.1657000035047531,0.38370001316070557,0.46790000796318054,0.3569999933242798,0.492900013923645],\"yaxis\":\"y\",\"type\":\"scatter\"},{\"hovertemplate\":\"well=H6<br>datetime=%{x}<br>abs=%{y}<extra></extra>\",\"legendgroup\":\"H6\",\"line\":{\"color\":\"#B6E880\",\"dash\":\"solid\"},\"marker\":{\"symbol\":\"circle\"},\"mode\":\"lines\",\"name\":\"H6\",\"orientation\":\"v\",\"showlegend\":true,\"x\":[\"2023-07-06 19:54:11\",\"2023-07-07 09:53:08\",\"2023-07-07 16:06:22\",\"2023-07-07 16:10:56\",\"2023-07-08 17:58:02\"],\"xaxis\":\"x\",\"y\":[0.13040000200271606,0.557699978351593,0.44290000200271606,0.3345000147819519,0.5227000117301941],\"yaxis\":\"y\",\"type\":\"scatter\"},{\"hovertemplate\":\"well=A7<br>datetime=%{x}<br>abs=%{y}<extra></extra>\",\"legendgroup\":\"A7\",\"line\":{\"color\":\"#FF97FF\",\"dash\":\"solid\"},\"marker\":{\"symbol\":\"circle\"},\"mode\":\"lines\",\"name\":\"A7\",\"orientation\":\"v\",\"showlegend\":true,\"x\":[\"2023-07-06 19:54:11\",\"2023-07-07 09:53:08\",\"2023-07-07 16:06:22\",\"2023-07-07 16:10:56\",\"2023-07-08 17:58:02\"],\"xaxis\":\"x\",\"y\":[0.155799999833107,0.6644999980926514,0.713100016117096,0.3644999861717224,0.5623999834060669],\"yaxis\":\"y\",\"type\":\"scatter\"},{\"hovertemplate\":\"well=B7<br>datetime=%{x}<br>abs=%{y}<extra></extra>\",\"legendgroup\":\"B7\",\"line\":{\"color\":\"#FECB52\",\"dash\":\"solid\"},\"marker\":{\"symbol\":\"circle\"},\"mode\":\"lines\",\"name\":\"B7\",\"orientation\":\"v\",\"showlegend\":true,\"x\":[\"2023-07-06 19:54:11\",\"2023-07-07 09:53:08\",\"2023-07-07 16:06:22\",\"2023-07-07 16:10:56\",\"2023-07-08 17:58:02\"],\"xaxis\":\"x\",\"y\":[0.14489999413490295,0.4016000032424927,0.6740999817848206,0.3228999972343445,0.5134000182151794],\"yaxis\":\"y\",\"type\":\"scatter\"},{\"hovertemplate\":\"well=C7<br>datetime=%{x}<br>abs=%{y}<extra></extra>\",\"legendgroup\":\"C7\",\"line\":{\"color\":\"#636efa\",\"dash\":\"solid\"},\"marker\":{\"symbol\":\"circle\"},\"mode\":\"lines\",\"name\":\"C7\",\"orientation\":\"v\",\"showlegend\":true,\"x\":[\"2023-07-06 19:54:11\",\"2023-07-07 09:53:08\",\"2023-07-07 16:06:22\",\"2023-07-07 16:10:56\",\"2023-07-08 17:58:02\"],\"xaxis\":\"x\",\"y\":[0.15320000052452087,1.332200050354004,1.0157999992370605,0.29809999465942383,0.4641999900341034],\"yaxis\":\"y\",\"type\":\"scatter\"},{\"hovertemplate\":\"well=D7<br>datetime=%{x}<br>abs=%{y}<extra></extra>\",\"legendgroup\":\"D7\",\"line\":{\"color\":\"#EF553B\",\"dash\":\"solid\"},\"marker\":{\"symbol\":\"circle\"},\"mode\":\"lines\",\"name\":\"D7\",\"orientation\":\"v\",\"showlegend\":true,\"x\":[\"2023-07-06 19:54:11\",\"2023-07-07 09:53:08\",\"2023-07-07 16:06:22\",\"2023-07-07 16:10:56\",\"2023-07-08 17:58:02\"],\"xaxis\":\"x\",\"y\":[0.15600000321865082,0.445499986410141,0.5929999947547913,0.3474000096321106,0.35249999165534973],\"yaxis\":\"y\",\"type\":\"scatter\"},{\"hovertemplate\":\"well=E7<br>datetime=%{x}<br>abs=%{y}<extra></extra>\",\"legendgroup\":\"E7\",\"line\":{\"color\":\"#00cc96\",\"dash\":\"solid\"},\"marker\":{\"symbol\":\"circle\"},\"mode\":\"lines\",\"name\":\"E7\",\"orientation\":\"v\",\"showlegend\":true,\"x\":[\"2023-07-06 19:54:11\",\"2023-07-07 09:53:08\",\"2023-07-07 16:06:22\",\"2023-07-07 16:10:56\",\"2023-07-08 17:58:02\"],\"xaxis\":\"x\",\"y\":[0.15770000219345093,0.37790000438690186,0.9498000144958496,0.3082999885082245,0.44429999589920044],\"yaxis\":\"y\",\"type\":\"scatter\"},{\"hovertemplate\":\"well=F7<br>datetime=%{x}<br>abs=%{y}<extra></extra>\",\"legendgroup\":\"F7\",\"line\":{\"color\":\"#ab63fa\",\"dash\":\"solid\"},\"marker\":{\"symbol\":\"circle\"},\"mode\":\"lines\",\"name\":\"F7\",\"orientation\":\"v\",\"showlegend\":true,\"x\":[\"2023-07-06 19:54:11\",\"2023-07-07 09:53:08\",\"2023-07-07 16:06:22\",\"2023-07-07 16:10:56\",\"2023-07-08 17:58:02\"],\"xaxis\":\"x\",\"y\":[0.1598999947309494,0.4724999964237213,0.7343000173568726,0.61080002784729,0.5157999992370605],\"yaxis\":\"y\",\"type\":\"scatter\"},{\"hovertemplate\":\"well=G7<br>datetime=%{x}<br>abs=%{y}<extra></extra>\",\"legendgroup\":\"G7\",\"line\":{\"color\":\"#FFA15A\",\"dash\":\"solid\"},\"marker\":{\"symbol\":\"circle\"},\"mode\":\"lines\",\"name\":\"G7\",\"orientation\":\"v\",\"showlegend\":true,\"x\":[\"2023-07-06 19:54:11\",\"2023-07-07 09:53:08\",\"2023-07-07 16:06:22\",\"2023-07-07 16:10:56\",\"2023-07-08 17:58:02\"],\"xaxis\":\"x\",\"y\":[0.16140000522136688,0.5527999997138977,0.6251000165939331,0.2694999873638153,0.4530999958515167],\"yaxis\":\"y\",\"type\":\"scatter\"},{\"hovertemplate\":\"well=H7<br>datetime=%{x}<br>abs=%{y}<extra></extra>\",\"legendgroup\":\"H7\",\"line\":{\"color\":\"#19d3f3\",\"dash\":\"solid\"},\"marker\":{\"symbol\":\"circle\"},\"mode\":\"lines\",\"name\":\"H7\",\"orientation\":\"v\",\"showlegend\":true,\"x\":[\"2023-07-06 19:54:11\",\"2023-07-07 09:53:08\",\"2023-07-07 16:06:22\",\"2023-07-07 16:10:56\",\"2023-07-08 17:58:02\"],\"xaxis\":\"x\",\"y\":[0.13519999384880066,1.2319999933242798,1.4412000179290771,0.3278000056743622,0.6462000012397766],\"yaxis\":\"y\",\"type\":\"scatter\"},{\"hovertemplate\":\"well=A8<br>datetime=%{x}<br>abs=%{y}<extra></extra>\",\"legendgroup\":\"A8\",\"line\":{\"color\":\"#FF6692\",\"dash\":\"solid\"},\"marker\":{\"symbol\":\"circle\"},\"mode\":\"lines\",\"name\":\"A8\",\"orientation\":\"v\",\"showlegend\":true,\"x\":[\"2023-07-06 19:54:11\",\"2023-07-07 09:53:08\",\"2023-07-07 16:06:22\",\"2023-07-07 16:10:56\",\"2023-07-08 17:58:02\"],\"xaxis\":\"x\",\"y\":[0.13539999723434448,0.34040001034736633,0.5845999717712402,0.23810000717639923,0.4253999888896942],\"yaxis\":\"y\",\"type\":\"scatter\"},{\"hovertemplate\":\"well=B8<br>datetime=%{x}<br>abs=%{y}<extra></extra>\",\"legendgroup\":\"B8\",\"line\":{\"color\":\"#B6E880\",\"dash\":\"solid\"},\"marker\":{\"symbol\":\"circle\"},\"mode\":\"lines\",\"name\":\"B8\",\"orientation\":\"v\",\"showlegend\":true,\"x\":[\"2023-07-06 19:54:11\",\"2023-07-07 09:53:08\",\"2023-07-07 16:06:22\",\"2023-07-07 16:10:56\",\"2023-07-08 17:58:02\"],\"xaxis\":\"x\",\"y\":[0.147599995136261,1.0220999717712402,1.1917999982833862,0.34779998660087585,0.5551000237464905],\"yaxis\":\"y\",\"type\":\"scatter\"},{\"hovertemplate\":\"well=C8<br>datetime=%{x}<br>abs=%{y}<extra></extra>\",\"legendgroup\":\"C8\",\"line\":{\"color\":\"#FF97FF\",\"dash\":\"solid\"},\"marker\":{\"symbol\":\"circle\"},\"mode\":\"lines\",\"name\":\"C8\",\"orientation\":\"v\",\"showlegend\":true,\"x\":[\"2023-07-06 19:54:11\",\"2023-07-07 09:53:08\",\"2023-07-07 16:06:22\",\"2023-07-07 16:10:56\",\"2023-07-08 17:58:02\"],\"xaxis\":\"x\",\"y\":[0.15299999713897705,0.7581999897956848,0.9222999811172485,0.3246999979019165,0.47099998593330383],\"yaxis\":\"y\",\"type\":\"scatter\"},{\"hovertemplate\":\"well=D8<br>datetime=%{x}<br>abs=%{y}<extra></extra>\",\"legendgroup\":\"D8\",\"line\":{\"color\":\"#FECB52\",\"dash\":\"solid\"},\"marker\":{\"symbol\":\"circle\"},\"mode\":\"lines\",\"name\":\"D8\",\"orientation\":\"v\",\"showlegend\":true,\"x\":[\"2023-07-06 19:54:11\",\"2023-07-07 09:53:08\",\"2023-07-07 16:06:22\",\"2023-07-07 16:10:56\",\"2023-07-08 17:58:02\"],\"xaxis\":\"x\",\"y\":[0.15770000219345093,0.6646999716758728,0.6223000288009644,0.3483000099658966,0.48820000886917114],\"yaxis\":\"y\",\"type\":\"scatter\"},{\"hovertemplate\":\"well=E8<br>datetime=%{x}<br>abs=%{y}<extra></extra>\",\"legendgroup\":\"E8\",\"line\":{\"color\":\"#636efa\",\"dash\":\"solid\"},\"marker\":{\"symbol\":\"circle\"},\"mode\":\"lines\",\"name\":\"E8\",\"orientation\":\"v\",\"showlegend\":true,\"x\":[\"2023-07-06 19:54:11\",\"2023-07-07 09:53:08\",\"2023-07-07 16:06:22\",\"2023-07-07 16:10:56\",\"2023-07-08 17:58:02\"],\"xaxis\":\"x\",\"y\":[0.15809999406337738,0.8169999718666077,1.3436000347137451,0.2791999876499176,0.4767000079154968],\"yaxis\":\"y\",\"type\":\"scatter\"},{\"hovertemplate\":\"well=F8<br>datetime=%{x}<br>abs=%{y}<extra></extra>\",\"legendgroup\":\"F8\",\"line\":{\"color\":\"#EF553B\",\"dash\":\"solid\"},\"marker\":{\"symbol\":\"circle\"},\"mode\":\"lines\",\"name\":\"F8\",\"orientation\":\"v\",\"showlegend\":true,\"x\":[\"2023-07-06 19:54:11\",\"2023-07-07 09:53:08\",\"2023-07-07 16:06:22\",\"2023-07-07 16:10:56\",\"2023-07-08 17:58:02\"],\"xaxis\":\"x\",\"y\":[0.16140000522136688,0.3935000002384186,0.43389999866485596,0.3409999907016754,0.6255999803543091],\"yaxis\":\"y\",\"type\":\"scatter\"},{\"hovertemplate\":\"well=G8<br>datetime=%{x}<br>abs=%{y}<extra></extra>\",\"legendgroup\":\"G8\",\"line\":{\"color\":\"#00cc96\",\"dash\":\"solid\"},\"marker\":{\"symbol\":\"circle\"},\"mode\":\"lines\",\"name\":\"G8\",\"orientation\":\"v\",\"showlegend\":true,\"x\":[\"2023-07-06 19:54:11\",\"2023-07-07 09:53:08\",\"2023-07-07 16:06:22\",\"2023-07-07 16:10:56\",\"2023-07-08 17:58:02\"],\"xaxis\":\"x\",\"y\":[0.16519999504089355,0.39660000801086426,0.35910001397132874,0.3037000000476837,0.45669999718666077],\"yaxis\":\"y\",\"type\":\"scatter\"},{\"hovertemplate\":\"well=H8<br>datetime=%{x}<br>abs=%{y}<extra></extra>\",\"legendgroup\":\"H8\",\"line\":{\"color\":\"#ab63fa\",\"dash\":\"solid\"},\"marker\":{\"symbol\":\"circle\"},\"mode\":\"lines\",\"name\":\"H8\",\"orientation\":\"v\",\"showlegend\":true,\"x\":[\"2023-07-06 19:54:11\",\"2023-07-07 09:53:08\",\"2023-07-07 16:06:22\",\"2023-07-07 16:10:56\",\"2023-07-08 17:58:02\"],\"xaxis\":\"x\",\"y\":[0.13989999890327454,0.5322999954223633,1.4026999473571777,0.3151000142097473,0.6222000122070312],\"yaxis\":\"y\",\"type\":\"scatter\"},{\"hovertemplate\":\"well=A9<br>datetime=%{x}<br>abs=%{y}<extra></extra>\",\"legendgroup\":\"A9\",\"line\":{\"color\":\"#FFA15A\",\"dash\":\"solid\"},\"marker\":{\"symbol\":\"circle\"},\"mode\":\"lines\",\"name\":\"A9\",\"orientation\":\"v\",\"showlegend\":true,\"x\":[\"2023-07-06 19:54:11\",\"2023-07-07 09:53:08\",\"2023-07-07 16:06:22\",\"2023-07-07 16:10:56\",\"2023-07-08 17:58:02\"],\"xaxis\":\"x\",\"y\":[0.14429999887943268,0.4629000127315521,0.6209999918937683,0.3095000088214874,0.5078999996185303],\"yaxis\":\"y\",\"type\":\"scatter\"},{\"hovertemplate\":\"well=B9<br>datetime=%{x}<br>abs=%{y}<extra></extra>\",\"legendgroup\":\"B9\",\"line\":{\"color\":\"#19d3f3\",\"dash\":\"solid\"},\"marker\":{\"symbol\":\"circle\"},\"mode\":\"lines\",\"name\":\"B9\",\"orientation\":\"v\",\"showlegend\":true,\"x\":[\"2023-07-06 19:54:11\",\"2023-07-07 09:53:08\",\"2023-07-07 16:06:22\",\"2023-07-07 16:10:56\",\"2023-07-08 17:58:02\"],\"xaxis\":\"x\",\"y\":[0.148499995470047,0.4426000118255615,1.371999979019165,0.3084999918937683,0.5228999853134155],\"yaxis\":\"y\",\"type\":\"scatter\"},{\"hovertemplate\":\"well=C9<br>datetime=%{x}<br>abs=%{y}<extra></extra>\",\"legendgroup\":\"C9\",\"line\":{\"color\":\"#FF6692\",\"dash\":\"solid\"},\"marker\":{\"symbol\":\"circle\"},\"mode\":\"lines\",\"name\":\"C9\",\"orientation\":\"v\",\"showlegend\":true,\"x\":[\"2023-07-06 19:54:11\",\"2023-07-07 09:53:08\",\"2023-07-07 16:06:22\",\"2023-07-07 16:10:56\",\"2023-07-08 17:58:02\"],\"xaxis\":\"x\",\"y\":[0.15629999339580536,0.3702000081539154,0.4950999915599823,0.29660001397132874,0.5837000012397766],\"yaxis\":\"y\",\"type\":\"scatter\"},{\"hovertemplate\":\"well=D9<br>datetime=%{x}<br>abs=%{y}<extra></extra>\",\"legendgroup\":\"D9\",\"line\":{\"color\":\"#B6E880\",\"dash\":\"solid\"},\"marker\":{\"symbol\":\"circle\"},\"mode\":\"lines\",\"name\":\"D9\",\"orientation\":\"v\",\"showlegend\":true,\"x\":[\"2023-07-06 19:54:11\",\"2023-07-07 09:53:08\",\"2023-07-07 16:06:22\",\"2023-07-07 16:10:56\",\"2023-07-08 17:58:02\"],\"xaxis\":\"x\",\"y\":[0.163100004196167,0.4936000108718872,0.4171000123023987,0.35409998893737793,0.5069000124931335],\"yaxis\":\"y\",\"type\":\"scatter\"},{\"hovertemplate\":\"well=E9<br>datetime=%{x}<br>abs=%{y}<extra></extra>\",\"legendgroup\":\"E9\",\"line\":{\"color\":\"#FF97FF\",\"dash\":\"solid\"},\"marker\":{\"symbol\":\"circle\"},\"mode\":\"lines\",\"name\":\"E9\",\"orientation\":\"v\",\"showlegend\":true,\"x\":[\"2023-07-06 19:54:11\",\"2023-07-07 09:53:08\",\"2023-07-07 16:06:22\",\"2023-07-07 16:10:56\",\"2023-07-08 17:58:02\"],\"xaxis\":\"x\",\"y\":[0.1597999930381775,0.40700000524520874,0.29499998688697815,0.25940001010894775,0.42340001463890076],\"yaxis\":\"y\",\"type\":\"scatter\"},{\"hovertemplate\":\"well=F9<br>datetime=%{x}<br>abs=%{y}<extra></extra>\",\"legendgroup\":\"F9\",\"line\":{\"color\":\"#FECB52\",\"dash\":\"solid\"},\"marker\":{\"symbol\":\"circle\"},\"mode\":\"lines\",\"name\":\"F9\",\"orientation\":\"v\",\"showlegend\":true,\"x\":[\"2023-07-06 19:54:11\",\"2023-07-07 09:53:08\",\"2023-07-07 16:06:22\",\"2023-07-07 16:10:56\",\"2023-07-08 17:58:02\"],\"xaxis\":\"x\",\"y\":[0.16380000114440918,0.6524999737739563,0.7143999934196472,0.3165999948978424,0.3792000114917755],\"yaxis\":\"y\",\"type\":\"scatter\"},{\"hovertemplate\":\"well=G9<br>datetime=%{x}<br>abs=%{y}<extra></extra>\",\"legendgroup\":\"G9\",\"line\":{\"color\":\"#636efa\",\"dash\":\"solid\"},\"marker\":{\"symbol\":\"circle\"},\"mode\":\"lines\",\"name\":\"G9\",\"orientation\":\"v\",\"showlegend\":true,\"x\":[\"2023-07-06 19:54:11\",\"2023-07-07 09:53:08\",\"2023-07-07 16:06:22\",\"2023-07-07 16:10:56\",\"2023-07-08 17:58:02\"],\"xaxis\":\"x\",\"y\":[0.16930000483989716,1.0786000490188599,0.4027000069618225,0.3384999930858612,0.4830999970436096],\"yaxis\":\"y\",\"type\":\"scatter\"},{\"hovertemplate\":\"well=H9<br>datetime=%{x}<br>abs=%{y}<extra></extra>\",\"legendgroup\":\"H9\",\"line\":{\"color\":\"#EF553B\",\"dash\":\"solid\"},\"marker\":{\"symbol\":\"circle\"},\"mode\":\"lines\",\"name\":\"H9\",\"orientation\":\"v\",\"showlegend\":true,\"x\":[\"2023-07-06 19:54:11\",\"2023-07-07 09:53:08\",\"2023-07-07 16:06:22\",\"2023-07-07 16:10:56\",\"2023-07-08 17:58:02\"],\"xaxis\":\"x\",\"y\":[0.14830000698566437,0.9070000052452087,0.520799994468689,0.3603000044822693,0.5485000014305115],\"yaxis\":\"y\",\"type\":\"scatter\"},{\"hovertemplate\":\"well=A10<br>datetime=%{x}<br>abs=%{y}<extra></extra>\",\"legendgroup\":\"A10\",\"line\":{\"color\":\"#00cc96\",\"dash\":\"solid\"},\"marker\":{\"symbol\":\"circle\"},\"mode\":\"lines\",\"name\":\"A10\",\"orientation\":\"v\",\"showlegend\":true,\"x\":[\"2023-07-06 19:54:11\",\"2023-07-07 09:53:08\",\"2023-07-07 16:06:22\",\"2023-07-07 16:10:56\",\"2023-07-08 17:58:02\"],\"xaxis\":\"x\",\"y\":[0.14090000092983246,0.3716999888420105,0.6033999919891357,0.2919999957084656,0.4830999970436096],\"yaxis\":\"y\",\"type\":\"scatter\"},{\"hovertemplate\":\"well=B10<br>datetime=%{x}<br>abs=%{y}<extra></extra>\",\"legendgroup\":\"B10\",\"line\":{\"color\":\"#ab63fa\",\"dash\":\"solid\"},\"marker\":{\"symbol\":\"circle\"},\"mode\":\"lines\",\"name\":\"B10\",\"orientation\":\"v\",\"showlegend\":true,\"x\":[\"2023-07-06 19:54:11\",\"2023-07-07 09:53:08\",\"2023-07-07 16:06:22\",\"2023-07-07 16:10:56\",\"2023-07-08 17:58:02\"],\"xaxis\":\"x\",\"y\":[0.14640000462532043,0.7330999970436096,1.0161000490188599,0.3698999881744385,0.5214999914169312],\"yaxis\":\"y\",\"type\":\"scatter\"},{\"hovertemplate\":\"well=C10<br>datetime=%{x}<br>abs=%{y}<extra></extra>\",\"legendgroup\":\"C10\",\"line\":{\"color\":\"#FFA15A\",\"dash\":\"solid\"},\"marker\":{\"symbol\":\"circle\"},\"mode\":\"lines\",\"name\":\"C10\",\"orientation\":\"v\",\"showlegend\":true,\"x\":[\"2023-07-06 19:54:11\",\"2023-07-07 09:53:08\",\"2023-07-07 16:06:22\",\"2023-07-07 16:10:56\",\"2023-07-08 17:58:02\"],\"xaxis\":\"x\",\"y\":[0.17509999871253967,0.4172999858856201,0.5461999773979187,0.3361000120639801,0.49559998512268066],\"yaxis\":\"y\",\"type\":\"scatter\"},{\"hovertemplate\":\"well=D10<br>datetime=%{x}<br>abs=%{y}<extra></extra>\",\"legendgroup\":\"D10\",\"line\":{\"color\":\"#19d3f3\",\"dash\":\"solid\"},\"marker\":{\"symbol\":\"circle\"},\"mode\":\"lines\",\"name\":\"D10\",\"orientation\":\"v\",\"showlegend\":true,\"x\":[\"2023-07-06 19:54:11\",\"2023-07-07 09:53:08\",\"2023-07-07 16:06:22\",\"2023-07-07 16:10:56\",\"2023-07-08 17:58:02\"],\"xaxis\":\"x\",\"y\":[0.16500000655651093,0.5867999792098999,0.6970999836921692,0.3179999887943268,0.38960000872612],\"yaxis\":\"y\",\"type\":\"scatter\"},{\"hovertemplate\":\"well=E10<br>datetime=%{x}<br>abs=%{y}<extra></extra>\",\"legendgroup\":\"E10\",\"line\":{\"color\":\"#FF6692\",\"dash\":\"solid\"},\"marker\":{\"symbol\":\"circle\"},\"mode\":\"lines\",\"name\":\"E10\",\"orientation\":\"v\",\"showlegend\":true,\"x\":[\"2023-07-06 19:54:11\",\"2023-07-07 09:53:08\",\"2023-07-07 16:06:22\",\"2023-07-07 16:10:56\",\"2023-07-08 17:58:02\"],\"xaxis\":\"x\",\"y\":[0.1599999964237213,0.8417999744415283,0.6266000270843506,0.3788999915122986,0.4577000141143799],\"yaxis\":\"y\",\"type\":\"scatter\"},{\"hovertemplate\":\"well=F10<br>datetime=%{x}<br>abs=%{y}<extra></extra>\",\"legendgroup\":\"F10\",\"line\":{\"color\":\"#B6E880\",\"dash\":\"solid\"},\"marker\":{\"symbol\":\"circle\"},\"mode\":\"lines\",\"name\":\"F10\",\"orientation\":\"v\",\"showlegend\":true,\"x\":[\"2023-07-06 19:54:11\",\"2023-07-07 09:53:08\",\"2023-07-07 16:06:22\",\"2023-07-07 16:10:56\",\"2023-07-08 17:58:02\"],\"xaxis\":\"x\",\"y\":[0.1607999950647354,0.4973999857902527,0.26460000872612,0.22660000622272491,0.3984000086784363],\"yaxis\":\"y\",\"type\":\"scatter\"},{\"hovertemplate\":\"well=G10<br>datetime=%{x}<br>abs=%{y}<extra></extra>\",\"legendgroup\":\"G10\",\"line\":{\"color\":\"#FF97FF\",\"dash\":\"solid\"},\"marker\":{\"symbol\":\"circle\"},\"mode\":\"lines\",\"name\":\"G10\",\"orientation\":\"v\",\"showlegend\":true,\"x\":[\"2023-07-06 19:54:11\",\"2023-07-07 09:53:08\",\"2023-07-07 16:06:22\",\"2023-07-07 16:10:56\",\"2023-07-08 17:58:02\"],\"xaxis\":\"x\",\"y\":[0.1688999980688095,0.7250000238418579,0.8525000214576721,0.322299987077713,0.426800012588501],\"yaxis\":\"y\",\"type\":\"scatter\"},{\"hovertemplate\":\"well=H10<br>datetime=%{x}<br>abs=%{y}<extra></extra>\",\"legendgroup\":\"H10\",\"line\":{\"color\":\"#FECB52\",\"dash\":\"solid\"},\"marker\":{\"symbol\":\"circle\"},\"mode\":\"lines\",\"name\":\"H10\",\"orientation\":\"v\",\"showlegend\":true,\"x\":[\"2023-07-06 19:54:11\",\"2023-07-07 09:53:08\",\"2023-07-07 16:06:22\",\"2023-07-07 16:10:56\",\"2023-07-08 17:58:02\"],\"xaxis\":\"x\",\"y\":[0.15049999952316284,0.39800000190734863,0.5559999942779541,0.3400999903678894,0.47099998593330383],\"yaxis\":\"y\",\"type\":\"scatter\"},{\"hovertemplate\":\"well=A11<br>datetime=%{x}<br>abs=%{y}<extra></extra>\",\"legendgroup\":\"A11\",\"line\":{\"color\":\"#636efa\",\"dash\":\"solid\"},\"marker\":{\"symbol\":\"circle\"},\"mode\":\"lines\",\"name\":\"A11\",\"orientation\":\"v\",\"showlegend\":true,\"x\":[\"2023-07-06 19:54:11\",\"2023-07-07 09:53:08\",\"2023-07-07 16:06:22\",\"2023-07-07 16:10:56\",\"2023-07-08 17:58:02\"],\"xaxis\":\"x\",\"y\":[0.14790000021457672,0.3804999887943268,0.5967000126838684,0.33959999680519104,0.5116999745368958],\"yaxis\":\"y\",\"type\":\"scatter\"},{\"hovertemplate\":\"well=B11<br>datetime=%{x}<br>abs=%{y}<extra></extra>\",\"legendgroup\":\"B11\",\"line\":{\"color\":\"#EF553B\",\"dash\":\"solid\"},\"marker\":{\"symbol\":\"circle\"},\"mode\":\"lines\",\"name\":\"B11\",\"orientation\":\"v\",\"showlegend\":true,\"x\":[\"2023-07-06 19:54:11\",\"2023-07-07 09:53:08\",\"2023-07-07 16:06:22\",\"2023-07-07 16:10:56\",\"2023-07-08 17:58:02\"],\"xaxis\":\"x\",\"y\":[0.1509000062942505,0.3456000089645386,0.45010000467300415,0.37790000438690186,0.6450999975204468],\"yaxis\":\"y\",\"type\":\"scatter\"},{\"hovertemplate\":\"well=C11<br>datetime=%{x}<br>abs=%{y}<extra></extra>\",\"legendgroup\":\"C11\",\"line\":{\"color\":\"#00cc96\",\"dash\":\"solid\"},\"marker\":{\"symbol\":\"circle\"},\"mode\":\"lines\",\"name\":\"C11\",\"orientation\":\"v\",\"showlegend\":true,\"x\":[\"2023-07-06 19:54:11\",\"2023-07-07 09:53:08\",\"2023-07-07 16:06:22\",\"2023-07-07 16:10:56\",\"2023-07-08 17:58:02\"],\"xaxis\":\"x\",\"y\":[0.1679999977350235,0.6395000219345093,0.7470999956130981,0.32350000739097595,0.5196999907493591],\"yaxis\":\"y\",\"type\":\"scatter\"},{\"hovertemplate\":\"well=D11<br>datetime=%{x}<br>abs=%{y}<extra></extra>\",\"legendgroup\":\"D11\",\"line\":{\"color\":\"#ab63fa\",\"dash\":\"solid\"},\"marker\":{\"symbol\":\"circle\"},\"mode\":\"lines\",\"name\":\"D11\",\"orientation\":\"v\",\"showlegend\":true,\"x\":[\"2023-07-06 19:54:11\",\"2023-07-07 09:53:08\",\"2023-07-07 16:06:22\",\"2023-07-07 16:10:56\",\"2023-07-08 17:58:02\"],\"xaxis\":\"x\",\"y\":[0.16110000014305115,0.5712000131607056,1.094499945640564,0.32190001010894775,0.35370001196861267],\"yaxis\":\"y\",\"type\":\"scatter\"},{\"hovertemplate\":\"well=E11<br>datetime=%{x}<br>abs=%{y}<extra></extra>\",\"legendgroup\":\"E11\",\"line\":{\"color\":\"#FFA15A\",\"dash\":\"solid\"},\"marker\":{\"symbol\":\"circle\"},\"mode\":\"lines\",\"name\":\"E11\",\"orientation\":\"v\",\"showlegend\":true,\"x\":[\"2023-07-06 19:54:11\",\"2023-07-07 09:53:08\",\"2023-07-07 16:06:22\",\"2023-07-07 16:10:56\",\"2023-07-08 17:58:02\"],\"xaxis\":\"x\",\"y\":[0.15889999270439148,0.6407999992370605,0.9229999780654907,0.2485000044107437,0.30079999566078186],\"yaxis\":\"y\",\"type\":\"scatter\"},{\"hovertemplate\":\"well=F11<br>datetime=%{x}<br>abs=%{y}<extra></extra>\",\"legendgroup\":\"F11\",\"line\":{\"color\":\"#19d3f3\",\"dash\":\"solid\"},\"marker\":{\"symbol\":\"circle\"},\"mode\":\"lines\",\"name\":\"F11\",\"orientation\":\"v\",\"showlegend\":true,\"x\":[\"2023-07-06 19:54:11\",\"2023-07-07 09:53:08\",\"2023-07-07 16:06:22\",\"2023-07-07 16:10:56\",\"2023-07-08 17:58:02\"],\"xaxis\":\"x\",\"y\":[0.15839999914169312,0.4383000135421753,0.7842000126838684,0.2759000062942505,0.3578000068664551],\"yaxis\":\"y\",\"type\":\"scatter\"},{\"hovertemplate\":\"well=G11<br>datetime=%{x}<br>abs=%{y}<extra></extra>\",\"legendgroup\":\"G11\",\"line\":{\"color\":\"#FF6692\",\"dash\":\"solid\"},\"marker\":{\"symbol\":\"circle\"},\"mode\":\"lines\",\"name\":\"G11\",\"orientation\":\"v\",\"showlegend\":true,\"x\":[\"2023-07-06 19:54:11\",\"2023-07-07 09:53:08\",\"2023-07-07 16:06:22\",\"2023-07-07 16:10:56\",\"2023-07-08 17:58:02\"],\"xaxis\":\"x\",\"y\":[0.1696999967098236,0.5131999850273132,0.661300003528595,0.34450000524520874,0.4970000088214874],\"yaxis\":\"y\",\"type\":\"scatter\"},{\"hovertemplate\":\"well=H11<br>datetime=%{x}<br>abs=%{y}<extra></extra>\",\"legendgroup\":\"H11\",\"line\":{\"color\":\"#B6E880\",\"dash\":\"solid\"},\"marker\":{\"symbol\":\"circle\"},\"mode\":\"lines\",\"name\":\"H11\",\"orientation\":\"v\",\"showlegend\":true,\"x\":[\"2023-07-06 19:54:11\",\"2023-07-07 09:53:08\",\"2023-07-07 16:06:22\",\"2023-07-07 16:10:56\",\"2023-07-08 17:58:02\"],\"xaxis\":\"x\",\"y\":[0.14900000393390656,0.8009999990463257,1.0342999696731567,0.483599990606308,0.5274999737739563],\"yaxis\":\"y\",\"type\":\"scatter\"},{\"hovertemplate\":\"well=A12<br>datetime=%{x}<br>abs=%{y}<extra></extra>\",\"legendgroup\":\"A12\",\"line\":{\"color\":\"#FF97FF\",\"dash\":\"solid\"},\"marker\":{\"symbol\":\"circle\"},\"mode\":\"lines\",\"name\":\"A12\",\"orientation\":\"v\",\"showlegend\":true,\"x\":[\"2023-07-06 19:54:11\",\"2023-07-07 09:53:08\",\"2023-07-07 16:06:22\",\"2023-07-07 16:10:56\",\"2023-07-08 17:58:02\"],\"xaxis\":\"x\",\"y\":[0.14069999754428864,0.32089999318122864,0.35120001435279846,0.2842999994754791,0.49079999327659607],\"yaxis\":\"y\",\"type\":\"scatter\"},{\"hovertemplate\":\"well=B12<br>datetime=%{x}<br>abs=%{y}<extra></extra>\",\"legendgroup\":\"B12\",\"line\":{\"color\":\"#FECB52\",\"dash\":\"solid\"},\"marker\":{\"symbol\":\"circle\"},\"mode\":\"lines\",\"name\":\"B12\",\"orientation\":\"v\",\"showlegend\":true,\"x\":[\"2023-07-06 19:54:11\",\"2023-07-07 09:53:08\",\"2023-07-07 16:06:22\",\"2023-07-07 16:10:56\",\"2023-07-08 17:58:02\"],\"xaxis\":\"x\",\"y\":[0.14820000529289246,0.4675000011920929,0.4862000048160553,0.25360000133514404,0.29809999465942383],\"yaxis\":\"y\",\"type\":\"scatter\"},{\"hovertemplate\":\"well=C12<br>datetime=%{x}<br>abs=%{y}<extra></extra>\",\"legendgroup\":\"C12\",\"line\":{\"color\":\"#636efa\",\"dash\":\"solid\"},\"marker\":{\"symbol\":\"circle\"},\"mode\":\"lines\",\"name\":\"C12\",\"orientation\":\"v\",\"showlegend\":true,\"x\":[\"2023-07-06 19:54:11\",\"2023-07-07 09:53:08\",\"2023-07-07 16:06:22\",\"2023-07-07 16:10:56\",\"2023-07-08 17:58:02\"],\"xaxis\":\"x\",\"y\":[0.1476999968290329,0.6241999864578247,0.6559000015258789,0.29440000653266907,0.47920000553131104],\"yaxis\":\"y\",\"type\":\"scatter\"},{\"hovertemplate\":\"well=D12<br>datetime=%{x}<br>abs=%{y}<extra></extra>\",\"legendgroup\":\"D12\",\"line\":{\"color\":\"#EF553B\",\"dash\":\"solid\"},\"marker\":{\"symbol\":\"circle\"},\"mode\":\"lines\",\"name\":\"D12\",\"orientation\":\"v\",\"showlegend\":true,\"x\":[\"2023-07-06 19:54:11\",\"2023-07-07 09:53:08\",\"2023-07-07 16:06:22\",\"2023-07-07 16:10:56\",\"2023-07-08 17:58:02\"],\"xaxis\":\"x\",\"y\":[0.14589999616146088,0.5641000270843506,0.5972999930381775,0.3287000060081482,0.5439000129699707],\"yaxis\":\"y\",\"type\":\"scatter\"},{\"hovertemplate\":\"well=E12<br>datetime=%{x}<br>abs=%{y}<extra></extra>\",\"legendgroup\":\"E12\",\"line\":{\"color\":\"#00cc96\",\"dash\":\"solid\"},\"marker\":{\"symbol\":\"circle\"},\"mode\":\"lines\",\"name\":\"E12\",\"orientation\":\"v\",\"showlegend\":true,\"x\":[\"2023-07-06 19:54:11\",\"2023-07-07 09:53:08\",\"2023-07-07 16:06:22\",\"2023-07-07 16:10:56\",\"2023-07-08 17:58:02\"],\"xaxis\":\"x\",\"y\":[0.1534000039100647,0.5863000154495239,0.708299994468689,0.3393999934196472,0.579800009727478],\"yaxis\":\"y\",\"type\":\"scatter\"},{\"hovertemplate\":\"well=F12<br>datetime=%{x}<br>abs=%{y}<extra></extra>\",\"legendgroup\":\"F12\",\"line\":{\"color\":\"#ab63fa\",\"dash\":\"solid\"},\"marker\":{\"symbol\":\"circle\"},\"mode\":\"lines\",\"name\":\"F12\",\"orientation\":\"v\",\"showlegend\":true,\"x\":[\"2023-07-06 19:54:11\",\"2023-07-07 09:53:08\",\"2023-07-07 16:06:22\",\"2023-07-07 16:10:56\",\"2023-07-08 17:58:02\"],\"xaxis\":\"x\",\"y\":[0.15199999511241913,0.4916999936103821,0.5375000238418579,0.29910001158714294,0.5371000170707703],\"yaxis\":\"y\",\"type\":\"scatter\"},{\"hovertemplate\":\"well=G12<br>datetime=%{x}<br>abs=%{y}<extra></extra>\",\"legendgroup\":\"G12\",\"line\":{\"color\":\"#FFA15A\",\"dash\":\"solid\"},\"marker\":{\"symbol\":\"circle\"},\"mode\":\"lines\",\"name\":\"G12\",\"orientation\":\"v\",\"showlegend\":true,\"x\":[\"2023-07-06 19:54:11\",\"2023-07-07 09:53:08\",\"2023-07-07 16:06:22\",\"2023-07-07 16:10:56\",\"2023-07-08 17:58:02\"],\"xaxis\":\"x\",\"y\":[0.1527000069618225,0.5817999839782715,0.6323000192642212,0.3644999861717224,0.7190999984741211],\"yaxis\":\"y\",\"type\":\"scatter\"},{\"hovertemplate\":\"well=H12<br>datetime=%{x}<br>abs=%{y}<extra></extra>\",\"legendgroup\":\"H12\",\"line\":{\"color\":\"#19d3f3\",\"dash\":\"solid\"},\"marker\":{\"symbol\":\"circle\"},\"mode\":\"lines\",\"name\":\"H12\",\"orientation\":\"v\",\"showlegend\":true,\"x\":[\"2023-07-06 19:54:11\",\"2023-07-07 09:53:08\",\"2023-07-07 16:06:22\",\"2023-07-07 16:10:56\",\"2023-07-08 17:58:02\"],\"xaxis\":\"x\",\"y\":[0.1370999962091446,0.37450000643730164,0.39160001277923584,0.28369998931884766,0.4311999976634979],\"yaxis\":\"y\",\"type\":\"scatter\"}],                        {\"template\":{\"data\":{\"histogram2dcontour\":[{\"type\":\"histogram2dcontour\",\"colorbar\":{\"outlinewidth\":0,\"ticks\":\"\"},\"colorscale\":[[0.0,\"#0d0887\"],[0.1111111111111111,\"#46039f\"],[0.2222222222222222,\"#7201a8\"],[0.3333333333333333,\"#9c179e\"],[0.4444444444444444,\"#bd3786\"],[0.5555555555555556,\"#d8576b\"],[0.6666666666666666,\"#ed7953\"],[0.7777777777777778,\"#fb9f3a\"],[0.8888888888888888,\"#fdca26\"],[1.0,\"#f0f921\"]]}],\"choropleth\":[{\"type\":\"choropleth\",\"colorbar\":{\"outlinewidth\":0,\"ticks\":\"\"}}],\"histogram2d\":[{\"type\":\"histogram2d\",\"colorbar\":{\"outlinewidth\":0,\"ticks\":\"\"},\"colorscale\":[[0.0,\"#0d0887\"],[0.1111111111111111,\"#46039f\"],[0.2222222222222222,\"#7201a8\"],[0.3333333333333333,\"#9c179e\"],[0.4444444444444444,\"#bd3786\"],[0.5555555555555556,\"#d8576b\"],[0.6666666666666666,\"#ed7953\"],[0.7777777777777778,\"#fb9f3a\"],[0.8888888888888888,\"#fdca26\"],[1.0,\"#f0f921\"]]}],\"heatmap\":[{\"type\":\"heatmap\",\"colorbar\":{\"outlinewidth\":0,\"ticks\":\"\"},\"colorscale\":[[0.0,\"#0d0887\"],[0.1111111111111111,\"#46039f\"],[0.2222222222222222,\"#7201a8\"],[0.3333333333333333,\"#9c179e\"],[0.4444444444444444,\"#bd3786\"],[0.5555555555555556,\"#d8576b\"],[0.6666666666666666,\"#ed7953\"],[0.7777777777777778,\"#fb9f3a\"],[0.8888888888888888,\"#fdca26\"],[1.0,\"#f0f921\"]]}],\"heatmapgl\":[{\"type\":\"heatmapgl\",\"colorbar\":{\"outlinewidth\":0,\"ticks\":\"\"},\"colorscale\":[[0.0,\"#0d0887\"],[0.1111111111111111,\"#46039f\"],[0.2222222222222222,\"#7201a8\"],[0.3333333333333333,\"#9c179e\"],[0.4444444444444444,\"#bd3786\"],[0.5555555555555556,\"#d8576b\"],[0.6666666666666666,\"#ed7953\"],[0.7777777777777778,\"#fb9f3a\"],[0.8888888888888888,\"#fdca26\"],[1.0,\"#f0f921\"]]}],\"contourcarpet\":[{\"type\":\"contourcarpet\",\"colorbar\":{\"outlinewidth\":0,\"ticks\":\"\"}}],\"contour\":[{\"type\":\"contour\",\"colorbar\":{\"outlinewidth\":0,\"ticks\":\"\"},\"colorscale\":[[0.0,\"#0d0887\"],[0.1111111111111111,\"#46039f\"],[0.2222222222222222,\"#7201a8\"],[0.3333333333333333,\"#9c179e\"],[0.4444444444444444,\"#bd3786\"],[0.5555555555555556,\"#d8576b\"],[0.6666666666666666,\"#ed7953\"],[0.7777777777777778,\"#fb9f3a\"],[0.8888888888888888,\"#fdca26\"],[1.0,\"#f0f921\"]]}],\"surface\":[{\"type\":\"surface\",\"colorbar\":{\"outlinewidth\":0,\"ticks\":\"\"},\"colorscale\":[[0.0,\"#0d0887\"],[0.1111111111111111,\"#46039f\"],[0.2222222222222222,\"#7201a8\"],[0.3333333333333333,\"#9c179e\"],[0.4444444444444444,\"#bd3786\"],[0.5555555555555556,\"#d8576b\"],[0.6666666666666666,\"#ed7953\"],[0.7777777777777778,\"#fb9f3a\"],[0.8888888888888888,\"#fdca26\"],[1.0,\"#f0f921\"]]}],\"mesh3d\":[{\"type\":\"mesh3d\",\"colorbar\":{\"outlinewidth\":0,\"ticks\":\"\"}}],\"scatter\":[{\"fillpattern\":{\"fillmode\":\"overlay\",\"size\":10,\"solidity\":0.2},\"type\":\"scatter\"}],\"parcoords\":[{\"type\":\"parcoords\",\"line\":{\"colorbar\":{\"outlinewidth\":0,\"ticks\":\"\"}}}],\"scatterpolargl\":[{\"type\":\"scatterpolargl\",\"marker\":{\"colorbar\":{\"outlinewidth\":0,\"ticks\":\"\"}}}],\"bar\":[{\"error_x\":{\"color\":\"#2a3f5f\"},\"error_y\":{\"color\":\"#2a3f5f\"},\"marker\":{\"line\":{\"color\":\"#E5ECF6\",\"width\":0.5},\"pattern\":{\"fillmode\":\"overlay\",\"size\":10,\"solidity\":0.2}},\"type\":\"bar\"}],\"scattergeo\":[{\"type\":\"scattergeo\",\"marker\":{\"colorbar\":{\"outlinewidth\":0,\"ticks\":\"\"}}}],\"scatterpolar\":[{\"type\":\"scatterpolar\",\"marker\":{\"colorbar\":{\"outlinewidth\":0,\"ticks\":\"\"}}}],\"histogram\":[{\"marker\":{\"pattern\":{\"fillmode\":\"overlay\",\"size\":10,\"solidity\":0.2}},\"type\":\"histogram\"}],\"scattergl\":[{\"type\":\"scattergl\",\"marker\":{\"colorbar\":{\"outlinewidth\":0,\"ticks\":\"\"}}}],\"scatter3d\":[{\"type\":\"scatter3d\",\"line\":{\"colorbar\":{\"outlinewidth\":0,\"ticks\":\"\"}},\"marker\":{\"colorbar\":{\"outlinewidth\":0,\"ticks\":\"\"}}}],\"scattermapbox\":[{\"type\":\"scattermapbox\",\"marker\":{\"colorbar\":{\"outlinewidth\":0,\"ticks\":\"\"}}}],\"scatterternary\":[{\"type\":\"scatterternary\",\"marker\":{\"colorbar\":{\"outlinewidth\":0,\"ticks\":\"\"}}}],\"scattercarpet\":[{\"type\":\"scattercarpet\",\"marker\":{\"colorbar\":{\"outlinewidth\":0,\"ticks\":\"\"}}}],\"carpet\":[{\"aaxis\":{\"endlinecolor\":\"#2a3f5f\",\"gridcolor\":\"white\",\"linecolor\":\"white\",\"minorgridcolor\":\"white\",\"startlinecolor\":\"#2a3f5f\"},\"baxis\":{\"endlinecolor\":\"#2a3f5f\",\"gridcolor\":\"white\",\"linecolor\":\"white\",\"minorgridcolor\":\"white\",\"startlinecolor\":\"#2a3f5f\"},\"type\":\"carpet\"}],\"table\":[{\"cells\":{\"fill\":{\"color\":\"#EBF0F8\"},\"line\":{\"color\":\"white\"}},\"header\":{\"fill\":{\"color\":\"#C8D4E3\"},\"line\":{\"color\":\"white\"}},\"type\":\"table\"}],\"barpolar\":[{\"marker\":{\"line\":{\"color\":\"#E5ECF6\",\"width\":0.5},\"pattern\":{\"fillmode\":\"overlay\",\"size\":10,\"solidity\":0.2}},\"type\":\"barpolar\"}],\"pie\":[{\"automargin\":true,\"type\":\"pie\"}]},\"layout\":{\"autotypenumbers\":\"strict\",\"colorway\":[\"#636efa\",\"#EF553B\",\"#00cc96\",\"#ab63fa\",\"#FFA15A\",\"#19d3f3\",\"#FF6692\",\"#B6E880\",\"#FF97FF\",\"#FECB52\"],\"font\":{\"color\":\"#2a3f5f\"},\"hovermode\":\"closest\",\"hoverlabel\":{\"align\":\"left\"},\"paper_bgcolor\":\"white\",\"plot_bgcolor\":\"#E5ECF6\",\"polar\":{\"bgcolor\":\"#E5ECF6\",\"angularaxis\":{\"gridcolor\":\"white\",\"linecolor\":\"white\",\"ticks\":\"\"},\"radialaxis\":{\"gridcolor\":\"white\",\"linecolor\":\"white\",\"ticks\":\"\"}},\"ternary\":{\"bgcolor\":\"#E5ECF6\",\"aaxis\":{\"gridcolor\":\"white\",\"linecolor\":\"white\",\"ticks\":\"\"},\"baxis\":{\"gridcolor\":\"white\",\"linecolor\":\"white\",\"ticks\":\"\"},\"caxis\":{\"gridcolor\":\"white\",\"linecolor\":\"white\",\"ticks\":\"\"}},\"coloraxis\":{\"colorbar\":{\"outlinewidth\":0,\"ticks\":\"\"}},\"colorscale\":{\"sequential\":[[0.0,\"#0d0887\"],[0.1111111111111111,\"#46039f\"],[0.2222222222222222,\"#7201a8\"],[0.3333333333333333,\"#9c179e\"],[0.4444444444444444,\"#bd3786\"],[0.5555555555555556,\"#d8576b\"],[0.6666666666666666,\"#ed7953\"],[0.7777777777777778,\"#fb9f3a\"],[0.8888888888888888,\"#fdca26\"],[1.0,\"#f0f921\"]],\"sequentialminus\":[[0.0,\"#0d0887\"],[0.1111111111111111,\"#46039f\"],[0.2222222222222222,\"#7201a8\"],[0.3333333333333333,\"#9c179e\"],[0.4444444444444444,\"#bd3786\"],[0.5555555555555556,\"#d8576b\"],[0.6666666666666666,\"#ed7953\"],[0.7777777777777778,\"#fb9f3a\"],[0.8888888888888888,\"#fdca26\"],[1.0,\"#f0f921\"]],\"diverging\":[[0,\"#8e0152\"],[0.1,\"#c51b7d\"],[0.2,\"#de77ae\"],[0.3,\"#f1b6da\"],[0.4,\"#fde0ef\"],[0.5,\"#f7f7f7\"],[0.6,\"#e6f5d0\"],[0.7,\"#b8e186\"],[0.8,\"#7fbc41\"],[0.9,\"#4d9221\"],[1,\"#276419\"]]},\"xaxis\":{\"gridcolor\":\"white\",\"linecolor\":\"white\",\"ticks\":\"\",\"title\":{\"standoff\":15},\"zerolinecolor\":\"white\",\"automargin\":true,\"zerolinewidth\":2},\"yaxis\":{\"gridcolor\":\"white\",\"linecolor\":\"white\",\"ticks\":\"\",\"title\":{\"standoff\":15},\"zerolinecolor\":\"white\",\"automargin\":true,\"zerolinewidth\":2},\"scene\":{\"xaxis\":{\"backgroundcolor\":\"#E5ECF6\",\"gridcolor\":\"white\",\"linecolor\":\"white\",\"showbackground\":true,\"ticks\":\"\",\"zerolinecolor\":\"white\",\"gridwidth\":2},\"yaxis\":{\"backgroundcolor\":\"#E5ECF6\",\"gridcolor\":\"white\",\"linecolor\":\"white\",\"showbackground\":true,\"ticks\":\"\",\"zerolinecolor\":\"white\",\"gridwidth\":2},\"zaxis\":{\"backgroundcolor\":\"#E5ECF6\",\"gridcolor\":\"white\",\"linecolor\":\"white\",\"showbackground\":true,\"ticks\":\"\",\"zerolinecolor\":\"white\",\"gridwidth\":2}},\"shapedefaults\":{\"line\":{\"color\":\"#2a3f5f\"}},\"annotationdefaults\":{\"arrowcolor\":\"#2a3f5f\",\"arrowhead\":0,\"arrowwidth\":1},\"geo\":{\"bgcolor\":\"white\",\"landcolor\":\"#E5ECF6\",\"subunitcolor\":\"white\",\"showland\":true,\"showlakes\":true,\"lakecolor\":\"white\"},\"title\":{\"x\":0.05},\"mapbox\":{\"style\":\"light\"}}},\"xaxis\":{\"anchor\":\"y\",\"domain\":[0.0,1.0],\"title\":{\"text\":\"datetime\"}},\"yaxis\":{\"anchor\":\"x\",\"domain\":[0.0,1.0],\"title\":{\"text\":\"abs\"}},\"legend\":{\"title\":{\"text\":\"well\"},\"tracegroupgap\":0},\"margin\":{\"t\":60}},                        {\"responsive\": true}                    ).then(function(){\n",
       "                            \n",
       "var gd = document.getElementById('26e4a73b-a0e9-47a4-9fb2-3f1129146f98');\n",
       "var x = new MutationObserver(function (mutations, observer) {{\n",
       "        var display = window.getComputedStyle(gd).display;\n",
       "        if (!display || display === 'none') {{\n",
       "            console.log([gd, 'removed!']);\n",
       "            Plotly.purge(gd);\n",
       "            observer.disconnect();\n",
       "        }}\n",
       "}});\n",
       "\n",
       "// Listen for the removal of the full notebook cells\n",
       "var notebookContainer = gd.closest('#notebook-container');\n",
       "if (notebookContainer) {{\n",
       "    x.observe(notebookContainer, {childList: true});\n",
       "}}\n",
       "\n",
       "// Listen for the clearing of the current output cell\n",
       "var outputEl = gd.closest('.output');\n",
       "if (outputEl) {{\n",
       "    x.observe(outputEl, {childList: true});\n",
       "}}\n",
       "\n",
       "                        })                };                });            </script>        </div>"
      ]
     },
     "metadata": {},
     "output_type": "display_data"
    }
   ],
   "source": [
    "plate = \"plate01\"\n",
    "\n",
    "ml = []\n",
    "for well in wells:\n",
    "    vals = []\n",
    "    ts = []\n",
    "    for table_file in sorted(os.listdir(f\"OD_readings/{plate}\")):\n",
    "        table_path = f\"OD_readings/{plate}/{table_file}\"\n",
    "        df, t = read_raw_table(table_path)\n",
    "        t = t.strftime('%Y-%m-%d %H:%M:%S')\n",
    "        ts.append(t)\n",
    "        val = df.loc[well[0], int(well[1:])]\n",
    "        vals.append(val)\n",
    "    for i in list(zip([well]*len(vals), vals, ts)):\n",
    "        ml.append(list(i))\n",
    "\n",
    "\n",
    "df = pd.DataFrame(ml)\n",
    "df.columns = [\"well\", \"abs\", \"datetime\"]\n",
    "\n",
    "px.line(df, x = \"datetime\", y = \"abs\", color = \"well\")"
   ]
  },
  {
   "cell_type": "code",
   "execution_count": 52,
   "id": "5e6f2728-c075-4e61-a6fc-818c2bf7ba4f",
   "metadata": {},
   "outputs": [
    {
     "name": "stdout",
     "output_type": "stream",
     "text": [
      "The watermark extension is already loaded. To reload it, use:\n",
      "  %reload_ext watermark\n",
      "Python implementation: CPython\n",
      "Python version       : 3.9.13\n",
      "IPython version      : 8.12.0\n",
      "\n",
      "pandas  : 1.5.1\n",
      "plotly  : 5.11.0\n",
      "openpyxl: 3.0.10\n",
      "\n",
      "Compiler    : GCC 10.3.0\n",
      "OS          : Linux\n",
      "Release     : 5.15.0-76-generic\n",
      "Machine     : x86_64\n",
      "Processor   : x86_64\n",
      "CPU cores   : 8\n",
      "Architecture: 64bit\n",
      "\n",
      "\n",
      "Last updated: Sun Jul 09 2023 13:59:30+08\n",
      "\n"
     ]
    }
   ],
   "source": [
    "%load_ext watermark\n",
    "%watermark -v -m -p pandas,plotly,openpyxl\n",
    "print()\n",
    "%watermark -u -n -t -z"
   ]
  },
  {
   "cell_type": "code",
   "execution_count": null,
   "id": "a3a9553d-a0c2-4c8d-8957-ca9e47562c3a",
   "metadata": {},
   "outputs": [],
   "source": []
  }
 ],
 "metadata": {
  "kernelspec": {
   "display_name": "Python 3 (ipykernel)",
   "language": "python",
   "name": "python3"
  },
  "language_info": {
   "codemirror_mode": {
    "name": "ipython",
    "version": 3
   },
   "file_extension": ".py",
   "mimetype": "text/x-python",
   "name": "python",
   "nbconvert_exporter": "python",
   "pygments_lexer": "ipython3",
   "version": "3.9.13"
  }
 },
 "nbformat": 4,
 "nbformat_minor": 5
}
