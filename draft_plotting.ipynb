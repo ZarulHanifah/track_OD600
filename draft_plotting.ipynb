{
 "cells": [
  {
   "cell_type": "code",
   "execution_count": null,
   "id": "1581a823-6576-4bbf-b84d-7cf8b16b66d6",
   "metadata": {},
   "outputs": [],
   "source": [
    "import os\n",
    "import pandas as pd\n",
    "import itertools\n",
    "from datetime import datetime\n",
    "import plotly.graph_objects as go\n",
    "from ipywidgets import widgets\n",
    "\n",
    "class Vividict(dict):\n",
    "    def __missing__(self, key):\n",
    "        value = self[key] = type(self)() # retain local pointer to value\n",
    "        return value "
   ]
  },
  {
   "cell_type": "code",
   "execution_count": 2,
   "id": "3c80fa84",
   "metadata": {},
   "outputs": [],
   "source": [
    "wells = [f\"{i[1]}{i[0]}\" for i in itertools.product(range(1, 13), ['A', 'B', 'C', 'D', 'E', 'F', 'G', 'H'])]"
   ]
  },
  {
   "cell_type": "code",
   "execution_count": 3,
   "id": "2075a1e4-212d-4105-8c25-665482e4bfb9",
   "metadata": {},
   "outputs": [],
   "source": [
    "def read_raw_table(table_path):\n",
    "    r = pd.read_excel(table_path, skiprows=28, index_col=0) \n",
    "    df = r.loc[['A', 'B', 'C', 'D', 'E', 'F', 'G', 'H'], :]\n",
    "    df.index.name = None\n",
    "    t = r.loc[\"End Time:\", 1]\n",
    "    t = datetime.strptime(t, '%d/%m/%Y %H:%M:%S')\n",
    "    return df, t\n",
    "\n",
    "def convert_plate_tables_to_dict(plate):\n",
    "    main_dict = Vividict()\n",
    "    df_dict = {}  # New dictionary to store the loaded dataframes\n",
    "    \n",
    "    for table_file in os.listdir(f\"OD_readings/{plate}\"):\n",
    "        table_path = f\"OD_readings/{plate}/{table_file}\"\n",
    "        df, t = read_raw_table(table_path)\n",
    "        t = t.strftime('%Y-%m-%d %H:%M:%S')\n",
    "        df_dict[t] = df  # Store the dataframe for later use\n",
    "        \n",
    "    for well in wells:\n",
    "        ts = list(df_dict.keys())\n",
    "        vals = [df.loc[well[0], int(well[1:])] for df in df_dict.values()]\n",
    "        \n",
    "        tmp_df = pd.DataFrame([ts, vals]).T.sort_values(0)\n",
    "        main_dict[well][\"x\"] = tmp_df[0].tolist()\n",
    "        main_dict[well][\"y\"] = tmp_df[1].tolist()\n",
    "        \n",
    "    return main_dict"
   ]
  },
  {
   "cell_type": "code",
   "execution_count": 4,
   "id": "0cc29df6",
   "metadata": {},
   "outputs": [],
   "source": [
    "def add_trace(go_fig, plate):\n",
    "    d = convert_plate_tables_to_dict(plate)\n",
    "    for well in wells:\n",
    "        rec = d[well]\n",
    "        ts, vals = rec[\"x\"], rec[\"y\"]\n",
    "        fig.add_trace(\n",
    "            go.Scatter(x=ts, y=vals, name=well)\n",
    "        )\n",
    "    return go_fig"
   ]
  },
  {
   "cell_type": "code",
   "execution_count": 5,
   "id": "bb1f1adc",
   "metadata": {},
   "outputs": [
    {
     "data": {
      "application/vnd.jupyter.widget-view+json": {
       "model_id": "e5d31b0b3f6948449704d9576387c883",
       "version_major": 2,
       "version_minor": 0
      },
      "text/plain": [
       "VBox(children=(Dropdown(description='Plate:   ', options=('plate02', 'plate01'), value='plate02'), FigureWidge…"
      ]
     },
     "metadata": {},
     "output_type": "display_data"
    }
   ],
   "source": [
    "layout = go.Layout(title={\"text\": \"OD600\"})\n",
    "\n",
    "plate_w = widgets.Dropdown(\n",
    "    description='Plate:   ',\n",
    "    options=os.listdir(\"OD_readings/\")\n",
    ")\n",
    "\n",
    "fig = go.FigureWidget()\n",
    "fig = add_trace(fig, plate_w.value)\n",
    "fig.update_layout(title_text=f'{plate_w.value}', title_x=0.5)\n",
    "fig.layout.xaxis.title = 'Absorbance at 600 nm'\n",
    "fig.layout.yaxis.title = 'Date time'\n",
    "\n",
    "fig.update_layout(\n",
    "    height=800\n",
    ")\n",
    "\n",
    "def response(change):\n",
    "    fig.update_layout(title_text=f'Loading', title_x=0.5)\n",
    "    old, new = change[\"old\"], change[\"new\"]\n",
    "    plate = new\n",
    "    fig.update_layout(title_text=f\"Loading ... {plate}\", title_x=0.5)\n",
    "    nd = convert_plate_tables_to_dict(plate)\n",
    "    \n",
    "    with fig.batch_update():\n",
    "        for idx, well in enumerate(wells):\n",
    "            fig.data[idx].x = nd[well][\"x\"]\n",
    "            fig.data[idx].y = nd[well][\"y\"]\n",
    "            fig.data[idx].name = well\n",
    "        fig.update_layout(title_text=f'{plate}', title_x=0.5)\n",
    "\n",
    "    \n",
    "plate_w.observe(response, names=\"value\")\n",
    "\n",
    "widgets.VBox([plate_w, fig])"
   ]
  },
  {
   "cell_type": "code",
   "execution_count": 9,
   "id": "5e6f2728-c075-4e61-a6fc-818c2bf7ba4f",
   "metadata": {},
   "outputs": [
    {
     "name": "stdout",
     "output_type": "stream",
     "text": [
      "::: Configurations :::\n",
      "The watermark extension is already loaded. To reload it, use:\n",
      "  %reload_ext watermark\n",
      "Python implementation: CPython\n",
      "Python version       : 3.9.13\n",
      "IPython version      : 8.12.0\n",
      "\n",
      "pandas    : 1.5.1\n",
      "plotly    : 5.11.0\n",
      "openpyxl  : 3.0.10\n",
      "ipywidgets: 7.7.2\n",
      "voila     : 0.3.7\n",
      "\n",
      "Compiler    : GCC 10.3.0\n",
      "OS          : Linux\n",
      "Release     : 5.15.0-76-generic\n",
      "Machine     : x86_64\n",
      "Processor   : x86_64\n",
      "CPU cores   : 8\n",
      "Architecture: 64bit\n",
      "\n",
      "\n",
      "Last updated: Tue Jul 11 2023 16:32:22+08\n",
      "\n"
     ]
    }
   ],
   "source": [
    "print(\"::: Configurations :::\")\n",
    "%load_ext watermark\n",
    "%watermark -v -m -p pandas,plotly,openpyxl,ipywidgets,voila\n",
    "print()\n",
    "%watermark -u -n -t -z"
   ]
  },
  {
   "cell_type": "code",
   "execution_count": null,
   "id": "97777bac-af14-4f9d-8051-cc144264d68c",
   "metadata": {},
   "outputs": [],
   "source": [
    "\n"
   ]
  }
 ],
 "metadata": {
  "kernelspec": {
   "display_name": "Python 3 (ipykernel)",
   "language": "python",
   "name": "python3"
  },
  "language_info": {
   "codemirror_mode": {
    "name": "ipython",
    "version": 3
   },
   "file_extension": ".py",
   "mimetype": "text/x-python",
   "name": "python",
   "nbconvert_exporter": "python",
   "pygments_lexer": "ipython3",
   "version": "3.9.13"
  }
 },
 "nbformat": 4,
 "nbformat_minor": 5
}
