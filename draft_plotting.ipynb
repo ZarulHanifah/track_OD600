{
 "cells": [
  {
   "cell_type": "code",
   "execution_count": 1,
   "id": "1581a823-6576-4bbf-b84d-7cf8b16b66d6",
   "metadata": {},
   "outputs": [],
   "source": [
    "import os\n",
    "import pandas as pd\n",
    "import itertools\n",
    "from datetime import datetime\n",
    "import plotly.graph_objects as go\n",
    "from ipywidgets import widgets\n",
    "import yaml\n",
    "\n",
    "class Vividict(dict):\n",
    "    def __missing__(self, key):\n",
    "        value = self[key] = type(self)() # retain local pointer to value\n",
    "        return value "
   ]
  },
  {
   "cell_type": "code",
   "execution_count": 2,
   "id": "3c80fa84",
   "metadata": {},
   "outputs": [],
   "source": [
    "wells = [f\"{i[1]}{i[0]}\" for i in itertools.product(range(1, 13), ['A', 'B', 'C', 'D', 'E', 'F', 'G', 'H'])]"
   ]
  },
  {
   "cell_type": "code",
   "execution_count": 3,
   "id": "2075a1e4-212d-4105-8c25-665482e4bfb9",
   "metadata": {},
   "outputs": [],
   "source": [
    "def ulify(elements):\n",
    "    string = \"<ul>\\n\"\n",
    "    string += \"\\n\".join([\"<li>\" + str(s) + \"</li>\" for s in elements])\n",
    "    string += \"\\n</ul>\"\n",
    "    return string\n",
    "    \n",
    "def read_raw_table(table_path):\n",
    "    r = pd.read_excel(table_path, skiprows=28, index_col=0) \n",
    "    df = r.loc[['A', 'B', 'C', 'D', 'E', 'F', 'G', 'H'], :]\n",
    "    df.index.name = None\n",
    "    t = r.loc[\"End Time:\", 1]\n",
    "    t = datetime.strptime(t, '%d/%m/%Y %H:%M:%S')\n",
    "    return df, t\n",
    "\n",
    "def convert_plate_tables_to_dict(plate):\n",
    "    main_dict = Vividict()\n",
    "    df_dict = {}  # New dictionary to store the loaded dataframes\n",
    "    \n",
    "    for table_file in os.listdir(f\"OD_readings/{plate}\"):\n",
    "        table_path = f\"OD_readings/{plate}/{table_file}\"\n",
    "        df, t = read_raw_table(table_path)\n",
    "        t = t.strftime('%Y-%m-%d %H:%M:%S')\n",
    "        df_dict[t] = df  # Store the dataframe for later use\n",
    "        \n",
    "    for well in wells:\n",
    "        ts = list(df_dict.keys())\n",
    "        vals = [df.loc[well[0], int(well[1:])] for df in df_dict.values()]\n",
    "        \n",
    "        tmp_df = pd.DataFrame([ts, vals]).T.sort_values(0)\n",
    "        main_dict[well][\"x\"] = tmp_df[0].tolist()\n",
    "        main_dict[well][\"y\"] = tmp_df[1].tolist()\n",
    "        \n",
    "    return main_dict"
   ]
  },
  {
   "cell_type": "code",
   "execution_count": 4,
   "id": "0cc29df6",
   "metadata": {},
   "outputs": [],
   "source": [
    "def add_trace(go_fig, plate):\n",
    "    d = convert_plate_tables_to_dict(plate)\n",
    "    for well in wells:\n",
    "        rec = d[well]\n",
    "        ts, vals = rec[\"x\"], rec[\"y\"]\n",
    "        fig.add_trace(\n",
    "            go.Scatter(x=ts, y=vals, name=well)\n",
    "        )\n",
    "    return go_fig\n",
    "\n",
    "def get_plate_message(plate):\n",
    "    with open('plate_notes.yaml', 'r') as file:\n",
    "        n = yaml.safe_load(file)\n",
    "    message = n[plate]\n",
    "    message = ulify(message)\n",
    "    return message"
   ]
  },
  {
   "cell_type": "code",
   "execution_count": 18,
   "id": "bb1f1adc",
   "metadata": {},
   "outputs": [
    {
     "data": {
      "application/vnd.jupyter.widget-view+json": {
       "model_id": "c9aa0c68dfb6442aa5756caaff68ef0e",
       "version_major": 2,
       "version_minor": 0
      },
      "text/plain": [
       "VBox(children=(FigureWidget({\n",
       "    'data': [{'name': 'A1',\n",
       "              'type': 'scatter',\n",
       "              'uid'…"
      ]
     },
     "metadata": {},
     "output_type": "display_data"
    }
   ],
   "source": [
    "layout = go.Layout(title={\"text\": \"OD600\"})\n",
    "\n",
    "plate_w = widgets.Dropdown(\n",
    "    description='Plate:   ',\n",
    "    options=os.listdir(\"OD_readings/\")\n",
    ")\n",
    "\n",
    "fig = go.FigureWidget()\n",
    "fig = add_trace(fig, plate_w.value)\n",
    "fig.update_layout(title_text=f'{plate_w.value}', title_x=0.5)\n",
    "fig.layout.xaxis.title = 'Absorbance at 600 nm'\n",
    "fig.layout.yaxis.title = 'Date time'\n",
    "\n",
    "fig.update_layout(\n",
    "    height=600\n",
    ")\n",
    "\n",
    "notes = widgets.HTML(get_plate_message(plate_w.value))\n",
    "\n",
    "def response(change):\n",
    "    fig.update_layout(title_text=f'Loading', title_x=0.5)\n",
    "    old, new = change[\"old\"], change[\"new\"]\n",
    "    plate = new\n",
    "    fig.update_layout(title_text=f\"Loading ... {plate}\", title_x=0.5)\n",
    "    nd = convert_plate_tables_to_dict(plate)\n",
    "    \n",
    "    notes.value = get_plate_message(plate)\n",
    "    \n",
    "    with fig.batch_update():\n",
    "        for idx, well in enumerate(wells):\n",
    "            fig.data[idx].x = nd[well][\"x\"]\n",
    "            fig.data[idx].y = nd[well][\"y\"]\n",
    "            fig.data[idx].name = well\n",
    "        fig.update_layout(title_text=f'{plate}', title_x=0.5)\n",
    "    \n",
    "    \n",
    "plate_w.observe(response, names=\"value\")\n",
    "\n",
    "title = widgets.HTML(\n",
    "    (\n",
    "        '<h1>track_OD600</h1>'\n",
    "        '<h2 class=\"app-subtitle\">Measure microbial growth using</h2>'\n",
    "        '<h2 class=\"app-subtitle\">plate reader at 600 nm</h2>'\n",
    "    )\n",
    ")\n",
    "\n",
    "\n",
    "widgets.VBox(\n",
    "    [fig,\n",
    "    widgets.HBox([widgets.VBox([title,\n",
    "                              plate_w]), notes])]\n",
    ")"
   ]
  },
  {
   "cell_type": "code",
   "execution_count": null,
   "id": "97777bac-af14-4f9d-8051-cc144264d68c",
   "metadata": {},
   "outputs": [],
   "source": [
    "\n"
   ]
  }
 ],
 "metadata": {
  "kernelspec": {
   "display_name": "Python 3 (ipykernel)",
   "language": "python",
   "name": "python3"
  },
  "language_info": {
   "codemirror_mode": {
    "name": "ipython",
    "version": 3
   },
   "file_extension": ".py",
   "mimetype": "text/x-python",
   "name": "python",
   "nbconvert_exporter": "python",
   "pygments_lexer": "ipython3",
   "version": "3.9.13"
  }
 },
 "nbformat": 4,
 "nbformat_minor": 5
}
